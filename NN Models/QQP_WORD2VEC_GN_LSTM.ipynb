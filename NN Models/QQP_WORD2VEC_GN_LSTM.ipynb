{
  "cells": [
    {
      "cell_type": "markdown",
      "metadata": {
        "id": "xqzGVrp12bSq"
      },
      "source": [
        "# WORD2VEC LSTM on Quora Question Pairs"
      ]
    },
    {
      "cell_type": "markdown",
      "metadata": {
        "id": "aPrpolth2bSw"
      },
      "source": [
        "This notebook is about implementing the LSTM model on Kaggle's Quora Question Pairs data using Word2Vec embeddings."
      ]
    },
    {
      "cell_type": "markdown",
      "metadata": {
        "id": "xj2KVeJ82bSx"
      },
      "source": [
        "# CODE"
      ]
    },
    {
      "cell_type": "markdown",
      "metadata": {
        "id": "dVm4l36V2bSx"
      },
      "source": [
        "First, lets import all the necessary packages"
      ]
    },
    {
      "cell_type": "code",
      "execution_count": 1,
      "metadata": {
        "id": "K7qnUkGP2bSy"
      },
      "outputs": [],
      "source": [
        "from time import time\n",
        "import pandas as pd\n",
        "import numpy as np\n",
        "from gensim.models import KeyedVectors\n",
        "import re\n",
        "import nltk\n",
        "from nltk.corpus import stopwords\n",
        "from sklearn.model_selection import train_test_split\n",
        "import matplotlib.pyplot as plt\n",
        "import seaborn as sns\n",
        "\n",
        "import itertools\n",
        "import datetime\n",
        "\n",
        "from keras.preprocessing.sequence import pad_sequences\n",
        "from keras.models import Model\n",
        "from keras.layers import Input, Dense, Embedding, LSTM, Lambda, Dropout\n",
        "import keras.backend as K\n",
        "from tensorflow.keras.optimizers import Adam\n",
        "from keras.callbacks import ModelCheckpoint, EarlyStopping\n",
        "from sklearn.metrics import precision_score, recall_score, confusion_matrix, classification_report, accuracy_score, f1_score\n",
        "import tensorflow as tf\n",
        "import warnings\n",
        "warnings.filterwarnings(\"ignore\")"
      ]
    },
    {
      "cell_type": "markdown",
      "metadata": {
        "id": "c0dK_WXJ2bS0"
      },
      "source": [
        "Global variables"
      ]
    },
    {
      "cell_type": "code",
      "source": [
        "from google.colab import drive\n",
        "drive.mount('/content/drive')"
      ],
      "metadata": {
        "colab": {
          "base_uri": "https://localhost:8080/"
        },
        "id": "o7y9HmNzK_6A",
        "outputId": "92a2a307-bbe9-4c69-9e1c-ab1ca72fe69a"
      },
      "execution_count": 2,
      "outputs": [
        {
          "output_type": "stream",
          "name": "stdout",
          "text": [
            "Mounted at /content/drive\n"
          ]
        }
      ]
    },
    {
      "cell_type": "code",
      "execution_count": 3,
      "metadata": {
        "collapsed": true,
        "id": "Pb70-Swx2bS1"
      },
      "outputs": [],
      "source": [
        "# File paths\n",
        "TRAIN_CSV = '/content/drive/MyDrive/Copy-CDS-B3/Capstone Project/Data/cleantext/bert/bctrain.csv'\n",
        "TEST_CSV = '/content/drive/MyDrive/Copy-CDS-B3/Capstone Project/Data/cleantext/bert/bcdev.csv'\n",
        "EMBEDDING_FILE = '/content/drive/MyDrive/Copy-CDS-B3/Capstone Project/Data/googlenews/GoogleNews-vectors-negative300.bin.gz'\n",
        "MODEL_SAVING_DIR = '/content/drive/MyDrive/Copy-CDS-B3/Capstone Project/Data/'"
      ]
    },
    {
      "cell_type": "code",
      "source": [
        "nltk.download('omw-1.4')\n",
        "nltk.download('wordnet')\n",
        "nltk.download('averaged_perceptron_tagger')"
      ],
      "metadata": {
        "colab": {
          "base_uri": "https://localhost:8080/"
        },
        "id": "VoEcSSMVL0nc",
        "outputId": "1a145a19-4415-4dc4-a6dd-55a74104a690"
      },
      "execution_count": 4,
      "outputs": [
        {
          "output_type": "stream",
          "name": "stderr",
          "text": [
            "[nltk_data] Downloading package omw-1.4 to /root/nltk_data...\n",
            "[nltk_data] Downloading package wordnet to /root/nltk_data...\n",
            "[nltk_data] Downloading package averaged_perceptron_tagger to\n",
            "[nltk_data]     /root/nltk_data...\n",
            "[nltk_data]   Unzipping taggers/averaged_perceptron_tagger.zip.\n"
          ]
        },
        {
          "output_type": "execute_result",
          "data": {
            "text/plain": [
              "True"
            ]
          },
          "metadata": {},
          "execution_count": 4
        }
      ]
    },
    {
      "cell_type": "markdown",
      "metadata": {
        "id": "XrdGU3Ri2bS2"
      },
      "source": [
        "Create embedding matrix"
      ]
    },
    {
      "cell_type": "code",
      "source": [
        "# Prepare embedding\n",
        "vocabulary = dict()\n",
        "inverse_vocabulary = ['<unk>']  # '<unk>' will never be used, it is only a placeholder for the [0, 0, ....0] embedding\n",
        "word2vec = KeyedVectors.load_word2vec_format(EMBEDDING_FILE, binary=True)\n",
        "\n",
        "questions_cols = ['question1', 'question2']"
      ],
      "metadata": {
        "id": "2xZGa-b6N1Ge"
      },
      "execution_count": 5,
      "outputs": []
    },
    {
      "cell_type": "code",
      "execution_count": 6,
      "metadata": {
        "id": "THhHWAMT2bS3"
      },
      "outputs": [],
      "source": [
        "# Load training and test set\n",
        "train_df = pd.read_csv(TRAIN_CSV)\n",
        "test_df = pd.read_csv(TEST_CSV)\n",
        "\n",
        "#stops = set(stopwords.words('english'))\n",
        "\n",
        "def text_to_word_list(text):\n",
        "    ''' Pre process and convert texts to a list of words '''\n",
        "    text = str(text)\n",
        "    text = text.lower()\n",
        "\n",
        "    text = text.split()\n",
        "\n",
        "    return text\n",
        "\n",
        "# Iterate over the questions only of both training and test datasets\n",
        "for dataset in [train_df, test_df]:\n",
        "    for index, row in dataset.iterrows():\n",
        "\n",
        "        # Iterate through the text of both questions of the row\n",
        "        for question in questions_cols:\n",
        "\n",
        "            q2n = []  # q2n -> question numbers representation\n",
        "            for word in text_to_word_list(row[question]):\n",
        "\n",
        "                # Check for unwanted words\n",
        "                if word not in word2vec.vocab:\n",
        "                    continue\n",
        "\n",
        "                if word not in vocabulary:\n",
        "                    vocabulary[word] = len(inverse_vocabulary)\n",
        "                    q2n.append(len(inverse_vocabulary))\n",
        "                    inverse_vocabulary.append(word)\n",
        "                else:\n",
        "                    q2n.append(vocabulary[word])\n",
        "\n",
        "            # Replace questions as word to question as number representation\n",
        "            dataset.at[index, question] = q2n\n",
        "            \n",
        "embedding_dim = 300\n",
        "embeddings = 1 * np.random.randn(len(vocabulary) + 1, embedding_dim)  # This will be the embedding matrix\n",
        "embeddings[0] = 0  # So that the padding will be ignored\n",
        "\n",
        "# Build the embedding matrix\n",
        "for word, index in vocabulary.items():\n",
        "    if word in word2vec.vocab:\n",
        "        embeddings[index] = word2vec.word_vec(word)\n",
        "\n",
        "del(word2vec)"
      ]
    },
    {
      "cell_type": "markdown",
      "metadata": {
        "id": "W-U6ODS52bS4"
      },
      "source": [
        "Prepare training and validation data"
      ]
    },
    {
      "cell_type": "code",
      "execution_count": 7,
      "metadata": {
        "collapsed": true,
        "id": "-nGMVukB2bS4"
      },
      "outputs": [],
      "source": [
        "max_seq_length = max(train_df.question1.map(lambda x: len(x)).max(),\n",
        "                     train_df.question2.map(lambda x: len(x)).max(),\n",
        "                     test_df.question1.map(lambda x: len(x)).max(),\n",
        "                     test_df.question2.map(lambda x: len(x)).max())\n",
        "\n",
        "# Split to train validation\n",
        "validation_size = 40000\n",
        "training_size = len(train_df) - validation_size\n",
        "\n",
        "X = train_df[questions_cols]\n",
        "Y = train_df['is_duplicate']\n",
        "\n",
        "X_train, X_validation, Y_train, Y_validation = train_test_split(X, Y, test_size=validation_size)\n",
        "\n",
        "# Split to dicts\n",
        "X_train = {'left': X_train.question1, 'right': X_train.question2}\n",
        "X_validation = {'left': X_validation.question1, 'right': X_validation.question2}\n",
        "X_test = {'left': test_df.question1, 'right': test_df.question2}\n",
        "\n",
        "# Convert labels to their numpy representations\n",
        "Y_train = Y_train.values\n",
        "Y_validation = Y_validation.values\n",
        "\n",
        "# Zero padding\n",
        "for dataset, side in itertools.product([X_train, X_validation], ['left', 'right']):\n",
        "    dataset[side] = pad_sequences(dataset[side], maxlen=max_seq_length)\n",
        "\n",
        "# Make sure everything is ok\n",
        "assert X_train['left'].shape == X_train['right'].shape\n",
        "assert len(X_train['left']) == len(Y_train)"
      ]
    },
    {
      "cell_type": "code",
      "source": [
        "Y_test = test_df['is_duplicate'].values\n",
        "for dataset, side in itertools.product([X_test], ['left', 'right']):\n",
        "    dataset[side] = pad_sequences(dataset[side], maxlen=max_seq_length)\n",
        "\n",
        "Y_test.shape, X_test['left'].shape, X_test['right'].shape, len(X_test['right'])"
      ],
      "metadata": {
        "colab": {
          "base_uri": "https://localhost:8080/"
        },
        "id": "QuSiESmRVtuT",
        "outputId": "4428f5f9-bfc2-4714-c0d3-65f1f384da98"
      },
      "execution_count": 8,
      "outputs": [
        {
          "output_type": "execute_result",
          "data": {
            "text/plain": [
              "((40430,), (40430, 216), (40430, 216), 40430)"
            ]
          },
          "metadata": {},
          "execution_count": 8
        }
      ]
    },
    {
      "cell_type": "markdown",
      "metadata": {
        "id": "ny5YTXQ62bS5"
      },
      "source": [
        "Build the model"
      ]
    },
    {
      "cell_type": "code",
      "source": [
        "import matplotlib.pyplot as plt\n",
        "import seaborn as sns\n",
        "from sklearn import metrics\n",
        "\n",
        "# This function plots the confusion matrices given y_i, y_i_hat.\n",
        "def plot_confusion_matrix(test_y, predict_y):\n",
        "    C = metrics.confusion_matrix(test_y, predict_y)\n",
        "    # C = 9,9 matrix, each cell (i,j) represents number of points of class i are predicted class j\n",
        "    \n",
        "    A =(((C.T)/(C.sum(axis=1))).T)\n",
        "    #divide each element of the confusion matrix with the sum of elements in that column\n",
        "    \n",
        "    B =(C/C.sum(axis=0))\n",
        "    #divide each element of the confusion matrix with the sum of elements in that row\n",
        "    \n",
        "    plt.figure(figsize=(20,4))\n",
        "    labels = [0,1]\n",
        "    # representing A in heatmap format\n",
        "    cmap=sns.light_palette(\"blue\")\n",
        "    plt.subplot(1, 3, 1)\n",
        "    sns.heatmap(C, annot=True, cmap=cmap, fmt=\".3f\", xticklabels=labels, yticklabels=labels)\n",
        "    plt.xlabel('Predicted Class')\n",
        "    plt.ylabel('Original Class')\n",
        "    plt.title(\"Confusion matrix\")\n",
        "    \n",
        "    plt.subplot(1, 3, 2)\n",
        "    sns.heatmap(B, annot=True, cmap=cmap, fmt=\".3f\", xticklabels=labels, yticklabels=labels)\n",
        "    plt.xlabel('Predicted Class')\n",
        "    plt.ylabel('Original Class')\n",
        "    plt.title(\"Precision matrix\")\n",
        "    \n",
        "    plt.subplot(1, 3, 3)\n",
        "    # representing B in heatmap format\n",
        "    sns.heatmap(A, annot=True, cmap=cmap, fmt=\".3f\", xticklabels=labels, yticklabels=labels)\n",
        "    plt.xlabel('Predicted Class')\n",
        "    plt.ylabel('Original Class')\n",
        "    plt.title(\"Recall matrix\")\n",
        "    \n",
        "    plt.show()"
      ],
      "metadata": {
        "id": "dcEwzy3phib3"
      },
      "execution_count": 9,
      "outputs": []
    },
    {
      "cell_type": "code",
      "source": [
        "def print_modelpred_metrics(y_test,y_pred):\n",
        "    prediction = np.round(abs(y_pred))\n",
        "    print ('Accuracy:  ', accuracy_score(y_test, prediction))\n",
        "    print ('F1 score:  ', f1_score(y_test, prediction))\n",
        "    print ('Recall:    ', recall_score(y_test, prediction))\n",
        "    print ('Precision: ', precision_score(y_test, prediction))\n",
        "    print ('\\nclasification report:\\n\\n', classification_report(y_test,prediction))\n",
        "    print ('\\n confussion matrix:\\n\\n',confusion_matrix(y_test, prediction))"
      ],
      "metadata": {
        "id": "wHP19WryvFX7"
      },
      "execution_count": 10,
      "outputs": []
    },
    {
      "cell_type": "code",
      "source": [
        "# Model variables\n",
        "n_hidden = 50\n",
        "gradient_clipping_norm = 1.25\n",
        "batch_size = 64\n",
        "n_epoch = 20\n",
        "\n",
        "import tensorflow as tf\n",
        "\n",
        "# The visible layer\n",
        "left_input = Input(shape=(max_seq_length,), dtype='int32')\n",
        "right_input = Input(shape=(max_seq_length,), dtype='int32')\n",
        "\n",
        "embedding_layer = Embedding(len(embeddings), embedding_dim, weights=[embeddings], input_length=max_seq_length, trainable=False)\n",
        "\n",
        "# Embedded version of the inputs\n",
        "encoded_left = embedding_layer(left_input)\n",
        "encoded_right = embedding_layer(right_input)\n",
        "\n",
        "# Since this is a siamese network, both sides share the same LSTM\n",
        "shared_lstm = LSTM(n_hidden)\n",
        "\n",
        "left_output = shared_lstm(encoded_left)\n",
        "right_output = shared_lstm(encoded_right)\n",
        "concat_outputs = tf.concat([left_output, right_output, tf.abs(left_output - right_output)], axis=1)\n",
        "outputs = Dense(64, activation='relu')(concat_outputs)\n",
        "prob = Dense(1, activation='sigmoid')(outputs)\n",
        "\n",
        "\n",
        "# Adadelta optimizer, with gradient clipping by norm\n",
        "optimizer = Adam(learning_rate=0.001)\n",
        "\n",
        "malstm = Model([left_input, right_input], prob)\n",
        "\n",
        "malstm.compile(optimizer=optimizer, loss='binary_crossentropy', metrics=['accuracy'])\n",
        "\n",
        "# Start training\n",
        "training_start_time = time()\n",
        "\n",
        "from keras.callbacks import EarlyStopping\n",
        "\n",
        "early = EarlyStopping(monitor='val_accuracy', min_delta=0.001, patience=3, verbose=0, mode='auto')\n",
        "\n",
        "malstm_trained = malstm.fit([X_train['left'], X_train['right']], Y_train, batch_size=batch_size, epochs=n_epoch, callbacks=[early],\n",
        "                            validation_data=([X_validation['left'], X_validation['right']], Y_validation))\n",
        "\n",
        "print(\"Training time finished.\\n{} epochs in {}\".format(n_epoch, datetime.timedelta(seconds=time()-training_start_time)))"
      ],
      "metadata": {
        "colab": {
          "base_uri": "https://localhost:8080/"
        },
        "id": "36iUQ8PtemrH",
        "outputId": "adeda48c-d2bd-4d49-d737-63f21965d78a"
      },
      "execution_count": null,
      "outputs": [
        {
          "output_type": "stream",
          "name": "stdout",
          "text": [
            "Epoch 1/20\n",
            "4429/4429 [==============================] - 92s 20ms/step - loss: 0.4533 - accuracy: 0.7765 - val_loss: 0.4162 - val_accuracy: 0.8021\n",
            "Epoch 2/20\n",
            "4429/4429 [==============================] - 87s 20ms/step - loss: 0.3838 - accuracy: 0.8198 - val_loss: 0.3812 - val_accuracy: 0.8216\n",
            "Epoch 3/20\n",
            "4429/4429 [==============================] - 87s 20ms/step - loss: 0.3501 - accuracy: 0.8389 - val_loss: 0.3712 - val_accuracy: 0.8272\n",
            "Epoch 4/20\n",
            "4429/4429 [==============================] - 86s 20ms/step - loss: 0.3254 - accuracy: 0.8526 - val_loss: 0.3782 - val_accuracy: 0.8280\n",
            "Epoch 5/20\n",
            "4429/4429 [==============================] - 87s 20ms/step - loss: 0.3064 - accuracy: 0.8631 - val_loss: 0.3621 - val_accuracy: 0.8357\n",
            "Epoch 6/20\n",
            "4429/4429 [==============================] - 86s 19ms/step - loss: 0.2897 - accuracy: 0.8714 - val_loss: 0.3678 - val_accuracy: 0.8354\n",
            "Epoch 7/20\n",
            "4429/4429 [==============================] - 87s 20ms/step - loss: 0.2746 - accuracy: 0.8792 - val_loss: 0.3765 - val_accuracy: 0.8372\n",
            "Epoch 8/20\n",
            "4429/4429 [==============================] - 86s 19ms/step - loss: 0.2611 - accuracy: 0.8866 - val_loss: 0.3811 - val_accuracy: 0.8383\n",
            "Epoch 9/20\n",
            "4429/4429 [==============================] - 87s 20ms/step - loss: 0.2485 - accuracy: 0.8927 - val_loss: 0.3990 - val_accuracy: 0.8390\n",
            "Epoch 10/20\n",
            "4429/4429 [==============================] - 87s 20ms/step - loss: 0.2380 - accuracy: 0.8976 - val_loss: 0.3983 - val_accuracy: 0.8362\n",
            "Epoch 11/20\n",
            "4429/4429 [==============================] - 86s 20ms/step - loss: 0.2270 - accuracy: 0.9027 - val_loss: 0.4094 - val_accuracy: 0.8355\n",
            "Training time finished.\n",
            "20 epochs in 0:15:57.697167\n"
          ]
        }
      ]
    },
    {
      "cell_type": "code",
      "source": [
        "y_pred = malstm.predict([X_test['left'], X_test['right']])"
      ],
      "metadata": {
        "id": "uhCpK4w6gREt"
      },
      "execution_count": null,
      "outputs": []
    },
    {
      "cell_type": "code",
      "source": [
        "plot_confusion_matrix(Y_test, np.round(abs(y_pred)))"
      ],
      "metadata": {
        "colab": {
          "base_uri": "https://localhost:8080/",
          "height": 295
        },
        "id": "4cIUk0WPiBEA",
        "outputId": "20fb3667-8a4a-41cb-c097-c433fb18044e"
      },
      "execution_count": null,
      "outputs": [
        {
          "output_type": "display_data",
          "data": {
            "text/plain": [
              "<Figure size 1440x288 with 6 Axes>"
            ],
            "image/png": "[encoded data removed]"
          },
          "metadata": {
            "needs_background": "light"
          }
        }
      ]
    },
    {
      "cell_type": "code",
      "source": [
        "\n",
        "prediction = np.round(abs(y_pred))\n",
        "print ('Accuracy:  ', accuracy_score(Y_test, prediction))\n",
        "print ('F1 score:  ', f1_score(Y_test, prediction))\n",
        "print ('Recall:    ', recall_score(Y_test, prediction))\n",
        "print ('Precision: ', precision_score(Y_test, prediction))\n",
        "print ('\\nclasification report:\\n\\n', classification_report(Y_test,prediction))\n",
        "print ('\\n confussion matrix:\\n\\n',confusion_matrix(Y_test, prediction))"
      ],
      "metadata": {
        "colab": {
          "base_uri": "https://localhost:8080/"
        },
        "id": "S0KVAVQ3iU6v",
        "outputId": "8cfa2d15-8958-402b-9345-4058f8c6f096"
      },
      "execution_count": null,
      "outputs": [
        {
          "output_type": "stream",
          "name": "stdout",
          "text": [
            "Accuracy:   0.8316781478412506\n",
            "F1 score:   0.7768852459016394\n",
            "Recall:     0.7907031067507592\n",
            "Precision:  0.7635420358972707\n",
            "\n",
            "clasification report:\n",
            "\n",
            "               precision    recall  f1-score   support\n",
            "\n",
            "           0       0.87      0.86      0.86     50890\n",
            "           1       0.76      0.79      0.78     29967\n",
            "\n",
            "    accuracy                           0.83     80857\n",
            "   macro avg       0.82      0.82      0.82     80857\n",
            "weighted avg       0.83      0.83      0.83     80857\n",
            "\n",
            "\n",
            " confussion matrix:\n",
            "\n",
            " [[43552  7338]\n",
            " [ 6272 23695]]\n"
          ]
        }
      ]
    },
    {
      "cell_type": "code",
      "source": [
        "# Model variables\n",
        "n_lstm = 100\n",
        "gradient_clipping_norm = 1.25\n",
        "batch_size = 64\n",
        "n_epoch = 20\n",
        "\n",
        "import tensorflow as tf\n",
        "\n",
        "# The visible layer\n",
        "left_input = Input(shape=(max_seq_length,), dtype='int32')\n",
        "right_input = Input(shape=(max_seq_length,), dtype='int32')\n",
        "\n",
        "embedding_layer = Embedding(len(embeddings), embedding_dim, weights=[embeddings], input_length=max_seq_length, trainable=False)\n",
        "\n",
        "# Embedded version of the inputs\n",
        "encoded_left = embedding_layer(left_input)\n",
        "encoded_right = embedding_layer(right_input)\n",
        "\n",
        "# Since this is a siamese network, both sides share the same LSTM\n",
        "shared_lstm = LSTM(n_lstm)\n",
        "\n",
        "left_output = shared_lstm(encoded_left)\n",
        "right_output = shared_lstm(encoded_right)\n",
        "concat_outputs = tf.concat([left_output, right_output, tf.abs(left_output - right_output)], axis=1)\n",
        "outputs = Dense(64, activation='relu')(concat_outputs)\n",
        "outputs = Dense(32, activation='relu')(outputs)\n",
        "prob = Dense(1, activation='sigmoid')(outputs)\n",
        "\n",
        "\n",
        "# Adam optimizer\n",
        "optimizer = Adam(learning_rate=0.001)\n",
        "\n",
        "qqplstm = Model([left_input, right_input], prob)\n",
        "\n",
        "qqplstm.compile(optimizer=optimizer, loss='binary_crossentropy', metrics=['accuracy'])\n",
        "\n",
        "# Start training\n",
        "training_start_time = time()\n",
        "\n",
        "from keras.callbacks import EarlyStopping\n",
        "\n",
        "early = EarlyStopping(monitor='val_accuracy', min_delta=0.01, patience=3, verbose=0, mode='auto')\n",
        "\n",
        "qqplstm_trained = qqplstm.fit([X_train['left'], X_train['right']], Y_train, batch_size=batch_size, epochs=n_epoch, callbacks=[early],\n",
        "                            validation_data=([X_validation['left'], X_validation['right']], Y_validation))\n",
        "\n",
        "print(\"Training time finished.\\n{} epochs in {}\".format(n_epoch, datetime.timedelta(seconds=time()-training_start_time)))"
      ],
      "metadata": {
        "colab": {
          "base_uri": "https://localhost:8080/"
        },
        "id": "GW0IJOMwj21t",
        "outputId": "80acd367-2872-4425-c44f-4b86805a68ec"
      },
      "execution_count": 11,
      "outputs": [
        {
          "output_type": "stream",
          "name": "stdout",
          "text": [
            "Epoch 1/20\n",
            "5061/5061 [==============================] - 135s 25ms/step - loss: 0.4389 - accuracy: 0.7859 - val_loss: 0.3916 - val_accuracy: 0.8142\n",
            "Epoch 2/20\n",
            "5061/5061 [==============================] - 124s 24ms/step - loss: 0.3603 - accuracy: 0.8340 - val_loss: 0.3646 - val_accuracy: 0.8303\n",
            "Epoch 3/20\n",
            "5061/5061 [==============================] - 124s 24ms/step - loss: 0.3172 - accuracy: 0.8577 - val_loss: 0.3541 - val_accuracy: 0.8405\n",
            "Epoch 4/20\n",
            "5061/5061 [==============================] - 124s 24ms/step - loss: 0.2834 - accuracy: 0.8760 - val_loss: 0.3522 - val_accuracy: 0.8426\n",
            "Epoch 5/20\n",
            "5061/5061 [==============================] - 123s 24ms/step - loss: 0.2552 - accuracy: 0.8904 - val_loss: 0.3645 - val_accuracy: 0.8422\n",
            "Epoch 6/20\n",
            "5061/5061 [==============================] - 123s 24ms/step - loss: 0.2293 - accuracy: 0.9028 - val_loss: 0.3665 - val_accuracy: 0.8421\n",
            "Epoch 7/20\n",
            "5061/5061 [==============================] - 124s 25ms/step - loss: 0.2064 - accuracy: 0.9136 - val_loss: 0.3926 - val_accuracy: 0.8443\n",
            "Epoch 8/20\n",
            "5061/5061 [==============================] - 123s 24ms/step - loss: 0.1864 - accuracy: 0.9232 - val_loss: 0.3863 - val_accuracy: 0.8423\n",
            "Epoch 9/20\n",
            "5061/5061 [==============================] - 123s 24ms/step - loss: 0.1693 - accuracy: 0.9308 - val_loss: 0.4239 - val_accuracy: 0.8433\n",
            "Epoch 10/20\n",
            "5061/5061 [==============================] - 123s 24ms/step - loss: 0.1546 - accuracy: 0.9375 - val_loss: 0.4446 - val_accuracy: 0.8420\n",
            "Training time finished.\n",
            "20 epochs in 0:20:47.196563\n"
          ]
        }
      ]
    },
    {
      "cell_type": "code",
      "source": [
        "y_pred1 = qqplstm.predict([X_test['left'], X_test['right']])"
      ],
      "metadata": {
        "id": "Fms3_1ujnzKN"
      },
      "execution_count": 12,
      "outputs": []
    },
    {
      "cell_type": "code",
      "source": [
        "prediction1 = np.round(abs(y_pred1))\n",
        "plot_confusion_matrix(Y_test, prediction1)"
      ],
      "metadata": {
        "colab": {
          "base_uri": "https://localhost:8080/",
          "height": 287
        },
        "id": "38_1R7uYMNdY",
        "outputId": "20bb5107-d628-461c-e09b-cf39bbaea0b5"
      },
      "execution_count": 14,
      "outputs": [
        {
          "output_type": "display_data",
          "data": {
            "text/plain": [
              "<Figure size 1440x288 with 6 Axes>"
            ],
            "image/png": "[encoded data removed]"
          },
          "metadata": {
            "needs_background": "light"
          }
        }
      ]
    },
    {
      "cell_type": "code",
      "source": [
        "print_modelpred_metrics(Y_test,prediction1)"
      ],
      "metadata": {
        "colab": {
          "base_uri": "https://localhost:8080/"
        },
        "id": "V4JRevudn6fK",
        "outputId": "3dc8632c-9a73-41c5-d339-29ceca0877b4"
      },
      "execution_count": 15,
      "outputs": [
        {
          "output_type": "stream",
          "name": "stdout",
          "text": [
            "Accuracy:   0.8384862725698738\n",
            "F1 score:   0.7876146490600405\n",
            "Recall:     0.8134363453140746\n",
            "Precision:  0.763381880083223\n",
            "\n",
            "clasification report:\n",
            "\n",
            "               precision    recall  f1-score   support\n",
            "\n",
            "           0       0.89      0.85      0.87     25545\n",
            "           1       0.76      0.81      0.79     14885\n",
            "\n",
            "    accuracy                           0.84     40430\n",
            "   macro avg       0.83      0.83      0.83     40430\n",
            "weighted avg       0.84      0.84      0.84     40430\n",
            "\n",
            "\n",
            " confussion matrix:\n",
            "\n",
            " [[21792  3753]\n",
            " [ 2777 12108]]\n"
          ]
        }
      ]
    },
    {
      "cell_type": "code",
      "source": [
        "y = pd.DataFrame(data=test_df.is_duplicate)"
      ],
      "metadata": {
        "id": "DEz-ZWhLPDaW"
      },
      "execution_count": 25,
      "outputs": []
    },
    {
      "cell_type": "code",
      "source": [
        "test1_df = pd.read_csv(TEST_CSV)"
      ],
      "metadata": {
        "id": "xLvcESinQHxB"
      },
      "execution_count": 27,
      "outputs": []
    },
    {
      "cell_type": "code",
      "source": [
        "y_test1 = y.copy()\n",
        "y_test1['pred_prob'] = y_pred1\n",
        "y_test1['rounded_pred'] = prediction1\n",
        "mergedf = pd.merge(test1_df[['question1','question2']], y_test1, left_index = True, right_index = True)\n",
        "mergedf.to_csv('qqp_word2vec_lstm_predicted_output.csv')"
      ],
      "metadata": {
        "id": "L3pN5IZxMpDy"
      },
      "execution_count": 28,
      "outputs": []
    },
    {
      "cell_type": "code",
      "source": [
        "# Model variables\n",
        "n_lstm = 128\n",
        "gradient_clipping_norm = 1.25\n",
        "batch_size = 64\n",
        "n_epoch = 20\n",
        "\n",
        "# The visible layer\n",
        "left_input = Input(shape=(max_seq_length,), dtype='int32')\n",
        "right_input = Input(shape=(max_seq_length,), dtype='int32')\n",
        "\n",
        "embedding_layer = Embedding(len(embeddings), embedding_dim, weights=[embeddings], input_length=max_seq_length, trainable=False)\n",
        "\n",
        "# Embedded version of the inputs\n",
        "encoded_left = embedding_layer(left_input)\n",
        "encoded_right = embedding_layer(right_input)\n",
        "\n",
        "# Since this is a siamese network, both sides share the same LSTM\n",
        "shared_lstm = LSTM(n_lstm)\n",
        "\n",
        "left_output = shared_lstm(encoded_left)\n",
        "right_output = shared_lstm(encoded_right)\n",
        "concat_outputs = tf.concat([left_output, right_output, tf.abs(left_output - right_output)], axis=1)\n",
        "\n",
        "outputs = Dense(128, activation='relu')(concat_outputs)\n",
        "outputs = Dropout(0.2)(outputs)\n",
        "\n",
        "outputs = Dense(64, activation='relu')(outputs)\n",
        "outputs = Dropout(0.2)(outputs)\n",
        "\n",
        "prob = Dense(1, activation='sigmoid')(outputs)\n",
        "\n",
        "\n",
        "# Adam optimizer\n",
        "optimizer = Adam(learning_rate=0.001)\n",
        "\n",
        "qqplstm1 = Model([left_input, right_input], prob)\n",
        "\n",
        "qqplstm1.compile(optimizer=optimizer, loss='binary_crossentropy', metrics=['accuracy'])\n",
        "\n",
        "# Start training\n",
        "training_start_time = time()\n",
        "\n",
        "early = EarlyStopping(monitor='val_accuracy', min_delta=0.001, patience=3, verbose=0, mode='auto')\n",
        "\n",
        "qqplstm1_trained = qqplstm1.fit([X_train['left'], X_train['right']], Y_train, batch_size=batch_size, epochs=n_epoch, callbacks=[early],\n",
        "                            validation_data=([X_validation['left'], X_validation['right']], Y_validation))\n",
        "\n",
        "print(\"Training time finished.\\n{} epochs in {}\".format(n_epoch, datetime.timedelta(seconds=time()-training_start_time)))"
      ],
      "metadata": {
        "colab": {
          "base_uri": "https://localhost:8080/"
        },
        "id": "1yBQARF2th0m",
        "outputId": "9400698d-9ebb-43f9-85d3-eb50aed547d9"
      },
      "execution_count": null,
      "outputs": [
        {
          "output_type": "stream",
          "name": "stdout",
          "text": [
            "Epoch 1/20\n",
            "4429/4429 [==============================] - 124s 27ms/step - loss: 0.4482 - accuracy: 0.7809 - val_loss: 0.4166 - val_accuracy: 0.7990\n",
            "Epoch 2/20\n",
            "4429/4429 [==============================] - 120s 27ms/step - loss: 0.3707 - accuracy: 0.8283 - val_loss: 0.3679 - val_accuracy: 0.8302\n",
            "Epoch 3/20\n",
            "4429/4429 [==============================] - 120s 27ms/step - loss: 0.3252 - accuracy: 0.8533 - val_loss: 0.3529 - val_accuracy: 0.8390\n",
            "Epoch 4/20\n",
            "4429/4429 [==============================] - 120s 27ms/step - loss: 0.2870 - accuracy: 0.8731 - val_loss: 0.3495 - val_accuracy: 0.8429\n",
            "Epoch 5/20\n",
            "4429/4429 [==============================] - 120s 27ms/step - loss: 0.2528 - accuracy: 0.8899 - val_loss: 0.3550 - val_accuracy: 0.8466\n",
            "Epoch 6/20\n",
            "4429/4429 [==============================] - 120s 27ms/step - loss: 0.2228 - accuracy: 0.9050 - val_loss: 0.3745 - val_accuracy: 0.8439\n",
            "Epoch 7/20\n",
            "4429/4429 [==============================] - 120s 27ms/step - loss: 0.1970 - accuracy: 0.9179 - val_loss: 0.4084 - val_accuracy: 0.8461\n",
            "Epoch 8/20\n",
            "4429/4429 [==============================] - 120s 27ms/step - loss: 0.1743 - accuracy: 0.9280 - val_loss: 0.4362 - val_accuracy: 0.8450\n",
            "Training time finished.\n",
            "20 epochs in 0:16:05.028398\n"
          ]
        }
      ]
    },
    {
      "cell_type": "code",
      "source": [
        "y_pred2 = qqplstm1.predict([X_test['left'], X_test['right']])\n",
        "\n",
        "print_modelpred_metrics(Y_test,y_pred2)"
      ],
      "metadata": {
        "colab": {
          "base_uri": "https://localhost:8080/"
        },
        "id": "X4mD69Y_0AqJ",
        "outputId": "96f36cc4-c3f9-4e7e-8882-506fe33dbad0"
      },
      "execution_count": null,
      "outputs": [
        {
          "output_type": "stream",
          "name": "stdout",
          "text": [
            "Accuracy:   0.8439096182148732\n",
            "F1 score:   0.7886248304275737\n",
            "Recall:     0.785664230653719\n",
            "Precision:  0.7916078273149082\n",
            "\n",
            "clasification report:\n",
            "\n",
            "               precision    recall  f1-score   support\n",
            "\n",
            "           0       0.87      0.88      0.88     50890\n",
            "           1       0.79      0.79      0.79     29967\n",
            "\n",
            "    accuracy                           0.84     80857\n",
            "   macro avg       0.83      0.83      0.83     80857\n",
            "weighted avg       0.84      0.84      0.84     80857\n",
            "\n",
            "\n",
            " confussion matrix:\n",
            "\n",
            " [[44692  6198]\n",
            " [ 6423 23544]]\n"
          ]
        }
      ]
    },
    {
      "cell_type": "code",
      "source": [
        "# Model variables\n",
        "n_lstm = 256\n",
        "batch_size = 64\n",
        "n_epoch = 20\n",
        "\n",
        "# The visible layer\n",
        "left_input = Input(shape=(max_seq_length,), dtype='int32')\n",
        "right_input = Input(shape=(max_seq_length,), dtype='int32')\n",
        "\n",
        "embedding_layer = Embedding(len(embeddings), embedding_dim, weights=[embeddings], input_length=max_seq_length, trainable=False)\n",
        "\n",
        "# Embedded version of the inputs\n",
        "encoded_left = embedding_layer(left_input)\n",
        "encoded_right = embedding_layer(right_input)\n",
        "\n",
        "# Since this is a siamese network, both sides share the same LSTM\n",
        "shared_lstm = LSTM(n_lstm)\n",
        "\n",
        "left_output = shared_lstm(encoded_left)\n",
        "right_output = shared_lstm(encoded_right)\n",
        "concat_outputs = tf.concat([left_output, right_output, tf.abs(left_output - right_output)], axis=1)\n",
        "\n",
        "outputs = Dense(256, activation='relu')(concat_outputs)\n",
        "outputs = Dropout(0.2)(outputs)\n",
        "\n",
        "outputs = Dense(128, activation='relu')(outputs)\n",
        "outputs = Dropout(0.2)(outputs)\n",
        "\n",
        "prob = Dense(1, activation='sigmoid')(outputs)\n",
        "\n",
        "\n",
        "# Adam optimizer\n",
        "optimizer = Adam(learning_rate=0.001)\n",
        "\n",
        "qqplstm2 = Model([left_input, right_input], prob)\n",
        "\n",
        "qqplstm2.compile(optimizer=optimizer, loss='binary_crossentropy', metrics=['accuracy'])\n",
        "\n",
        "# Start training\n",
        "training_start_time = time()\n",
        "\n",
        "early = EarlyStopping(monitor='val_accuracy', min_delta=0.001, patience=3, verbose=0, mode='auto')\n",
        "\n",
        "qqplstm2_trained = qqplstm2.fit([X_train['left'], X_train['right']], Y_train, batch_size=batch_size, epochs=n_epoch, callbacks=[early],\n",
        "                            validation_data=([X_validation['left'], X_validation['right']], Y_validation))\n",
        "\n",
        "print(\"Training time finished.\\n{} epochs in {}\".format(n_epoch, datetime.timedelta(seconds=time()-training_start_time)))"
      ],
      "metadata": {
        "colab": {
          "base_uri": "https://localhost:8080/"
        },
        "id": "eCa-hu-B0plA",
        "outputId": "7017f1ac-202c-4f4b-d5d2-f0dcdfb52751"
      },
      "execution_count": null,
      "outputs": [
        {
          "output_type": "stream",
          "name": "stdout",
          "text": [
            "Epoch 1/20\n",
            "4429/4429 [==============================] - 206s 46ms/step - loss: 0.4814 - accuracy: 0.7606 - val_loss: 0.4245 - val_accuracy: 0.8008\n",
            "Epoch 2/20\n",
            "4429/4429 [==============================] - 202s 46ms/step - loss: 0.3886 - accuracy: 0.8174 - val_loss: 0.3761 - val_accuracy: 0.8255\n",
            "Epoch 3/20\n",
            "4429/4429 [==============================] - 202s 46ms/step - loss: 0.3338 - accuracy: 0.8487 - val_loss: 0.3583 - val_accuracy: 0.8389\n",
            "Epoch 4/20\n",
            "4429/4429 [==============================] - 202s 46ms/step - loss: 0.2821 - accuracy: 0.8760 - val_loss: 0.3714 - val_accuracy: 0.8383\n",
            "Epoch 5/20\n",
            "4429/4429 [==============================] - 202s 46ms/step - loss: 0.2331 - accuracy: 0.9008 - val_loss: 0.3838 - val_accuracy: 0.8450\n",
            "Epoch 6/20\n",
            "4429/4429 [==============================] - 202s 46ms/step - loss: 0.1897 - accuracy: 0.9218 - val_loss: 0.3949 - val_accuracy: 0.8457\n",
            "Epoch 7/20\n",
            "4429/4429 [==============================] - 202s 46ms/step - loss: 0.1547 - accuracy: 0.9374 - val_loss: 0.4510 - val_accuracy: 0.8443\n",
            "Epoch 8/20\n",
            "4429/4429 [==============================] - 202s 46ms/step - loss: 0.1284 - accuracy: 0.9493 - val_loss: 0.4940 - val_accuracy: 0.8456\n",
            "Training time finished.\n",
            "20 epochs in 0:26:59.675124\n"
          ]
        }
      ]
    },
    {
      "cell_type": "code",
      "source": [
        "y_pred3 = qqplstm2.predict([X_test['left'], X_test['right']])\n",
        "\n",
        "print_modelpred_metrics(Y_test,y_pred3)"
      ],
      "metadata": {
        "colab": {
          "base_uri": "https://localhost:8080/"
        },
        "id": "hvwldI5E-LSy",
        "outputId": "b201d6ff-25aa-4db7-f0f6-8d41a773450f"
      },
      "execution_count": null,
      "outputs": [
        {
          "output_type": "stream",
          "name": "stdout",
          "text": [
            "Accuracy:   0.8460986680188481\n",
            "F1 score:   0.7874419240229571\n",
            "Recall:     0.7691794307071111\n",
            "Precision:  0.8065927144206879\n",
            "\n",
            "clasification report:\n",
            "\n",
            "               precision    recall  f1-score   support\n",
            "\n",
            "           0       0.87      0.89      0.88     50890\n",
            "           1       0.81      0.77      0.79     29967\n",
            "\n",
            "    accuracy                           0.85     80857\n",
            "   macro avg       0.84      0.83      0.83     80857\n",
            "weighted avg       0.85      0.85      0.85     80857\n",
            "\n",
            "\n",
            " confussion matrix:\n",
            "\n",
            " [[45363  5527]\n",
            " [ 6917 23050]]\n"
          ]
        }
      ]
    }
  ],
  "metadata": {
    "kernelspec": {
      "display_name": "Python 3",
      "language": "python",
      "name": "python3"
    },
    "language_info": {
      "codemirror_mode": {
        "name": "ipython",
        "version": 3
      },
      "file_extension": ".py",
      "mimetype": "text/x-python",
      "name": "python",
      "nbconvert_exporter": "python",
      "pygments_lexer": "ipython3",
      "version": "3.6.3"
    },
    "toc": {
      "base_numbering": 1,
      "nav_menu": {},
      "number_sections": true,
      "sideBar": true,
      "skip_h1_title": false,
      "title_cell": "Table of Contents",
      "title_sidebar": "Contents",
      "toc_cell": false,
      "toc_position": {},
      "toc_section_display": true,
      "toc_window_display": false
    },
    "colab": {
      "provenance": [],
      "collapsed_sections": [],
      "machine_shape": "hm"
    },
    "accelerator": "GPU",
    "gpuClass": "standard"
  },
  "nbformat": 4,
  "nbformat_minor": 0
}