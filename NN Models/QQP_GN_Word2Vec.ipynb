{
  "nbformat": 4,
  "nbformat_minor": 0,
  "metadata": {
    "colab": {
      "provenance": [],
      "machine_shape": "hm",
      "collapsed_sections": []
    },
    "kernelspec": {
      "name": "python3",
      "display_name": "Python 3"
    },
    "language_info": {
      "name": "python"
    },
    "accelerator": "GPU"
  },
  "cells": [
    {
      "cell_type": "markdown",
      "source": [
        "Quora Questions Pairs classification based on Gensim Word2Vec embeddings (Google News corpus)"
      ],
      "metadata": {
        "id": "TQn7Z40_AyJm"
      }
    },
    {
      "cell_type": "code",
      "execution_count": 1,
      "metadata": {
        "id": "UpxYFd9yzlGD"
      },
      "outputs": [],
      "source": [
        "import gensim\n",
        "import numpy as np\n",
        "import pandas as pd\n",
        "import re\n",
        "import csv\n",
        "import os\n",
        "import nltk\n",
        "from tqdm import tqdm\n",
        "import matplotlib.pyplot as plt\n",
        "from bs4 import BeautifulSoup\n",
        "from nltk.stem import WordNetLemmatizer\n",
        "from gensim.models import Word2Vec\n",
        "from gensim.models import KeyedVectors\n",
        "from sklearn.model_selection import train_test_split\n",
        "from keras import layers\n",
        "from keras.models import Input, Model, Sequential\n",
        "from keras.layers import LSTM, Dense, Embedding, Dropout"
      ]
    },
    {
      "cell_type": "code",
      "source": [
        "nltk.download('omw-1.4')\n",
        "nltk.download('wordnet')"
      ],
      "metadata": {
        "colab": {
          "base_uri": "https://localhost:8080/"
        },
        "id": "DNjm7XJpmc14",
        "outputId": "80c645b7-43c6-4cd9-a13b-5e94339481b7"
      },
      "execution_count": null,
      "outputs": [
        {
          "output_type": "stream",
          "name": "stderr",
          "text": [
            "[nltk_data] Downloading package omw-1.4 to /root/nltk_data...\n",
            "[nltk_data]   Package omw-1.4 is already up-to-date!\n",
            "[nltk_data] Downloading package wordnet to /root/nltk_data...\n",
            "[nltk_data]   Package wordnet is already up-to-date!\n"
          ]
        },
        {
          "output_type": "execute_result",
          "data": {
            "text/plain": [
              "True"
            ]
          },
          "metadata": {},
          "execution_count": 2
        }
      ]
    },
    {
      "cell_type": "code",
      "source": [
        "from google.colab import drive\n",
        "drive.mount('/content/drive')"
      ],
      "metadata": {
        "colab": {
          "base_uri": "https://localhost:8080/"
        },
        "id": "Q89VmjmiZQ9M",
        "outputId": "9bffc857-81bb-40ce-c27a-5db1cdf2fd37"
      },
      "execution_count": 2,
      "outputs": [
        {
          "output_type": "stream",
          "name": "stdout",
          "text": [
            "Mounted at /content/drive\n"
          ]
        }
      ]
    },
    {
      "cell_type": "markdown",
      "source": [
        "Reading Word2Vec keyed vectors from Google News corpus"
      ],
      "metadata": {
        "id": "9nWgS5qrB9py"
      }
    },
    {
      "cell_type": "code",
      "source": [
        "EMBEDDING_FILE = '/content/drive/MyDrive/Copy-CDS-B3/Capstone Project/Data/googlenews/GoogleNews-vectors-negative300.bin.gz'\n",
        "w2v_model = KeyedVectors.load_word2vec_format(EMBEDDING_FILE,binary=True)"
      ],
      "metadata": {
        "id": "NgJCbOO4mx24"
      },
      "execution_count": null,
      "outputs": []
    },
    {
      "cell_type": "markdown",
      "source": [
        "Reading cleaned Quora Questions Pairs Training Data"
      ],
      "metadata": {
        "id": "ChFi_aCnP2m0"
      }
    },
    {
      "cell_type": "code",
      "source": [
        "trainpath = '/content/drive/MyDrive/Copy-CDS-B3/Capstone Project/Data/cleantext/cleaned_train_data.csv'\n",
        "train_data_tmp = pd.read_csv(trainpath, delimiter=\",\", encoding='utf-8')\n",
        "train_data_tmp.head()"
      ],
      "metadata": {
        "colab": {
          "base_uri": "https://localhost:8080/",
          "height": 206
        },
        "id": "jOoPT6Skkjw3",
        "outputId": "7e6f66f8-e285-4a41-f1d9-3d5b4701a389"
      },
      "execution_count": 3,
      "outputs": [
        {
          "output_type": "execute_result",
          "data": {
            "text/plain": [
              "   id  qid1  qid2                                          question1  \\\n",
              "0   0     1     2  what is the step by step guide to invest in sh...   \n",
              "1   1     3     4  what is the story of kohinoor  koh i noor  dia...   \n",
              "2   2     5     6  how can i increase the speed of my internet co...   \n",
              "3   3     7     8  why am i mentally very lonely  how can i solve it   \n",
              "4   4     9    10  which one dissolve in water quikly sugar  salt...   \n",
              "\n",
              "                                           question2  is_duplicate  \n",
              "0  what is the step by step guide to invest in sh...             0  \n",
              "1  what would happen if the indian government sto...             0  \n",
              "2  how can internet speed be increased by hacking...             0  \n",
              "3  find the remainder when 23  24   math  is divi...             0  \n",
              "4             which fish would survive in salt water             0  "
            ],
            "text/html": [
              "\n",
              "  <div id=\"df-11a698ed-c614-4ef4-bc65-effccd70b491\">\n",
              "    <div class=\"colab-df-container\">\n",
              "      <div>\n",
              "<style scoped>\n",
              "    .dataframe tbody tr th:only-of-type {\n",
              "        vertical-align: middle;\n",
              "    }\n",
              "\n",
              "    .dataframe tbody tr th {\n",
              "        vertical-align: top;\n",
              "    }\n",
              "\n",
              "    .dataframe thead th {\n",
              "        text-align: right;\n",
              "    }\n",
              "</style>\n",
              "<table border=\"1\" class=\"dataframe\">\n",
              "  <thead>\n",
              "    <tr style=\"text-align: right;\">\n",
              "      <th></th>\n",
              "      <th>id</th>\n",
              "      <th>qid1</th>\n",
              "      <th>qid2</th>\n",
              "      <th>question1</th>\n",
              "      <th>question2</th>\n",
              "      <th>is_duplicate</th>\n",
              "    </tr>\n",
              "  </thead>\n",
              "  <tbody>\n",
              "    <tr>\n",
              "      <th>0</th>\n",
              "      <td>0</td>\n",
              "      <td>1</td>\n",
              "      <td>2</td>\n",
              "      <td>what is the step by step guide to invest in sh...</td>\n",
              "      <td>what is the step by step guide to invest in sh...</td>\n",
              "      <td>0</td>\n",
              "    </tr>\n",
              "    <tr>\n",
              "      <th>1</th>\n",
              "      <td>1</td>\n",
              "      <td>3</td>\n",
              "      <td>4</td>\n",
              "      <td>what is the story of kohinoor  koh i noor  dia...</td>\n",
              "      <td>what would happen if the indian government sto...</td>\n",
              "      <td>0</td>\n",
              "    </tr>\n",
              "    <tr>\n",
              "      <th>2</th>\n",
              "      <td>2</td>\n",
              "      <td>5</td>\n",
              "      <td>6</td>\n",
              "      <td>how can i increase the speed of my internet co...</td>\n",
              "      <td>how can internet speed be increased by hacking...</td>\n",
              "      <td>0</td>\n",
              "    </tr>\n",
              "    <tr>\n",
              "      <th>3</th>\n",
              "      <td>3</td>\n",
              "      <td>7</td>\n",
              "      <td>8</td>\n",
              "      <td>why am i mentally very lonely  how can i solve it</td>\n",
              "      <td>find the remainder when 23  24   math  is divi...</td>\n",
              "      <td>0</td>\n",
              "    </tr>\n",
              "    <tr>\n",
              "      <th>4</th>\n",
              "      <td>4</td>\n",
              "      <td>9</td>\n",
              "      <td>10</td>\n",
              "      <td>which one dissolve in water quikly sugar  salt...</td>\n",
              "      <td>which fish would survive in salt water</td>\n",
              "      <td>0</td>\n",
              "    </tr>\n",
              "  </tbody>\n",
              "</table>\n",
              "</div>\n",
              "      <button class=\"colab-df-convert\" onclick=\"convertToInteractive('df-11a698ed-c614-4ef4-bc65-effccd70b491')\"\n",
              "              title=\"Convert this dataframe to an interactive table.\"\n",
              "              style=\"display:none;\">\n",
              "        \n",
              "  <svg xmlns=\"http://www.w3.org/2000/svg\" height=\"24px\"viewBox=\"0 0 24 24\"\n",
              "       width=\"24px\">\n",
              "    <path d=\"M0 0h24v24H0V0z\" fill=\"none\"/>\n",
              "    <path d=\"M18.56 5.44l.94 2.06.94-2.06 2.06-.94-2.06-.94-.94-2.06-.94 2.06-2.06.94zm-11 1L8.5 8.5l.94-2.06 2.06-.94-2.06-.94L8.5 2.5l-.94 2.06-2.06.94zm10 10l.94 2.06.94-2.06 2.06-.94-2.06-.94-.94-2.06-.94 2.06-2.06.94z\"/><path d=\"M17.41 7.96l-1.37-1.37c-.4-.4-.92-.59-1.43-.59-.52 0-1.04.2-1.43.59L10.3 9.45l-7.72 7.72c-.78.78-.78 2.05 0 2.83L4 21.41c.39.39.9.59 1.41.59.51 0 1.02-.2 1.41-.59l7.78-7.78 2.81-2.81c.8-.78.8-2.07 0-2.86zM5.41 20L4 18.59l7.72-7.72 1.47 1.35L5.41 20z\"/>\n",
              "  </svg>\n",
              "      </button>\n",
              "      \n",
              "  <style>\n",
              "    .colab-df-container {\n",
              "      display:flex;\n",
              "      flex-wrap:wrap;\n",
              "      gap: 12px;\n",
              "    }\n",
              "\n",
              "    .colab-df-convert {\n",
              "      background-color: #E8F0FE;\n",
              "      border: none;\n",
              "      border-radius: 50%;\n",
              "      cursor: pointer;\n",
              "      display: none;\n",
              "      fill: #1967D2;\n",
              "      height: 32px;\n",
              "      padding: 0 0 0 0;\n",
              "      width: 32px;\n",
              "    }\n",
              "\n",
              "    .colab-df-convert:hover {\n",
              "      background-color: #E2EBFA;\n",
              "      box-shadow: 0px 1px 2px rgba(60, 64, 67, 0.3), 0px 1px 3px 1px rgba(60, 64, 67, 0.15);\n",
              "      fill: #174EA6;\n",
              "    }\n",
              "\n",
              "    [theme=dark] .colab-df-convert {\n",
              "      background-color: #3B4455;\n",
              "      fill: #D2E3FC;\n",
              "    }\n",
              "\n",
              "    [theme=dark] .colab-df-convert:hover {\n",
              "      background-color: #434B5C;\n",
              "      box-shadow: 0px 1px 3px 1px rgba(0, 0, 0, 0.15);\n",
              "      filter: drop-shadow(0px 1px 2px rgba(0, 0, 0, 0.3));\n",
              "      fill: #FFFFFF;\n",
              "    }\n",
              "  </style>\n",
              "\n",
              "      <script>\n",
              "        const buttonEl =\n",
              "          document.querySelector('#df-11a698ed-c614-4ef4-bc65-effccd70b491 button.colab-df-convert');\n",
              "        buttonEl.style.display =\n",
              "          google.colab.kernel.accessAllowed ? 'block' : 'none';\n",
              "\n",
              "        async function convertToInteractive(key) {\n",
              "          const element = document.querySelector('#df-11a698ed-c614-4ef4-bc65-effccd70b491');\n",
              "          const dataTable =\n",
              "            await google.colab.kernel.invokeFunction('convertToInteractive',\n",
              "                                                     [key], {});\n",
              "          if (!dataTable) return;\n",
              "\n",
              "          const docLinkHtml = 'Like what you see? Visit the ' +\n",
              "            '<a target=\"_blank\" href=https://colab.research.google.com/notebooks/data_table.ipynb>data table notebook</a>'\n",
              "            + ' to learn more about interactive tables.';\n",
              "          element.innerHTML = '';\n",
              "          dataTable['output_type'] = 'display_data';\n",
              "          await google.colab.output.renderOutput(dataTable, element);\n",
              "          const docLink = document.createElement('div');\n",
              "          docLink.innerHTML = docLinkHtml;\n",
              "          element.appendChild(docLink);\n",
              "        }\n",
              "      </script>\n",
              "    </div>\n",
              "  </div>\n",
              "  "
            ]
          },
          "metadata": {},
          "execution_count": 3
        }
      ]
    },
    {
      "cell_type": "code",
      "source": [
        "train_df = train_data_tmp.copy()\n",
        "train_df[\"qmax\"] = train_df.apply( lambda row: max(row[\"qid1\"], row[\"qid2\"]), axis=1 )\n",
        "train_df = train_df.sort_values(by=[\"qmax\"], ascending=True)\n",
        "train_df[\"Questions_Duplicate_rate\"] = train_df.is_duplicate.rolling(window=300, min_periods=300).mean()\n",
        "train_df[\"Question_Ids_order\"] = np.arange(train_df.shape[0]) / float(train_df.shape[0])\n",
        "\n",
        "train_df.plot(x=\"Question_Ids_order\", y=\"Questions_Duplicate_rate\", kind=\"line\",figsize=(9,6))\n",
        "plt.show()"
      ],
      "metadata": {
        "colab": {
          "base_uri": "https://localhost:8080/",
          "height": 389
        },
        "id": "oNNp5QD3m6b3",
        "outputId": "5a3d811e-dd4c-495e-c717-8963f2b59ff9"
      },
      "execution_count": 11,
      "outputs": [
        {
          "output_type": "display_data",
          "data": {
            "text/plain": [
              "<Figure size 648x432 with 1 Axes>"
            ],
            "image/png": "[encoded data removed]"
          },
          "metadata": {
            "needs_background": "light"
          }
        }
      ]
    },
    {
      "cell_type": "markdown",
      "source": [
        "Shuffling train data as the qid increases as shown in the above plot - duplicates go down, so shuffling the train data for better model learning"
      ],
      "metadata": {
        "id": "_Ij5yGpbLYHj"
      }
    },
    {
      "cell_type": "code",
      "source": [
        "train_data = train_data_tmp.sample(frac=1)\n",
        "train_data.head()"
      ],
      "metadata": {
        "colab": {
          "base_uri": "https://localhost:8080/",
          "height": 206
        },
        "id": "OJGAcHErLVEg",
        "outputId": "1d3a45bb-35d6-48ee-f63b-3cd45dba8ed3"
      },
      "execution_count": null,
      "outputs": [
        {
          "output_type": "execute_result",
          "data": {
            "text/plain": [
              "            id    qid1    qid2  \\\n",
              "289632  289634  339923  410785   \n",
              "222855  222857  138056  330535   \n",
              "275356  275358  394160  394161   \n",
              "28404    28404   52674   52675   \n",
              "56217    56217   98983   98984   \n",
              "\n",
              "                                                question1  \\\n",
              "289632  what is the difference between electromotive f...   \n",
              "222855  how much is one million and one billion in lak...   \n",
              "275356    us muslim brotherhood participant organizations   \n",
              "28404   is hillary clinton really worse than donald trump   \n",
              "56217   what are some characteristics of intj children...   \n",
              "\n",
              "                                                question2  is_duplicate  \n",
              "289632  what are the basic differences among voltage  ...             1  \n",
              "222855  how much interest does one billion pounds give...             0  \n",
              "275356                                  punjab mail train             0  \n",
              "28404   who is better among hillary clinton and donald...             1  \n",
              "56217                         what are intjs like as kids             0  "
            ],
            "text/html": [
              "\n",
              "  <div id=\"df-7efd77a3-210e-4a07-a933-163e571f32ac\">\n",
              "    <div class=\"colab-df-container\">\n",
              "      <div>\n",
              "<style scoped>\n",
              "    .dataframe tbody tr th:only-of-type {\n",
              "        vertical-align: middle;\n",
              "    }\n",
              "\n",
              "    .dataframe tbody tr th {\n",
              "        vertical-align: top;\n",
              "    }\n",
              "\n",
              "    .dataframe thead th {\n",
              "        text-align: right;\n",
              "    }\n",
              "</style>\n",
              "<table border=\"1\" class=\"dataframe\">\n",
              "  <thead>\n",
              "    <tr style=\"text-align: right;\">\n",
              "      <th></th>\n",
              "      <th>id</th>\n",
              "      <th>qid1</th>\n",
              "      <th>qid2</th>\n",
              "      <th>question1</th>\n",
              "      <th>question2</th>\n",
              "      <th>is_duplicate</th>\n",
              "    </tr>\n",
              "  </thead>\n",
              "  <tbody>\n",
              "    <tr>\n",
              "      <th>289632</th>\n",
              "      <td>289634</td>\n",
              "      <td>339923</td>\n",
              "      <td>410785</td>\n",
              "      <td>what is the difference between electromotive f...</td>\n",
              "      <td>what are the basic differences among voltage  ...</td>\n",
              "      <td>1</td>\n",
              "    </tr>\n",
              "    <tr>\n",
              "      <th>222855</th>\n",
              "      <td>222857</td>\n",
              "      <td>138056</td>\n",
              "      <td>330535</td>\n",
              "      <td>how much is one million and one billion in lak...</td>\n",
              "      <td>how much interest does one billion pounds give...</td>\n",
              "      <td>0</td>\n",
              "    </tr>\n",
              "    <tr>\n",
              "      <th>275356</th>\n",
              "      <td>275358</td>\n",
              "      <td>394160</td>\n",
              "      <td>394161</td>\n",
              "      <td>us muslim brotherhood participant organizations</td>\n",
              "      <td>punjab mail train</td>\n",
              "      <td>0</td>\n",
              "    </tr>\n",
              "    <tr>\n",
              "      <th>28404</th>\n",
              "      <td>28404</td>\n",
              "      <td>52674</td>\n",
              "      <td>52675</td>\n",
              "      <td>is hillary clinton really worse than donald trump</td>\n",
              "      <td>who is better among hillary clinton and donald...</td>\n",
              "      <td>1</td>\n",
              "    </tr>\n",
              "    <tr>\n",
              "      <th>56217</th>\n",
              "      <td>56217</td>\n",
              "      <td>98983</td>\n",
              "      <td>98984</td>\n",
              "      <td>what are some characteristics of intj children...</td>\n",
              "      <td>what are intjs like as kids</td>\n",
              "      <td>0</td>\n",
              "    </tr>\n",
              "  </tbody>\n",
              "</table>\n",
              "</div>\n",
              "      <button class=\"colab-df-convert\" onclick=\"convertToInteractive('df-7efd77a3-210e-4a07-a933-163e571f32ac')\"\n",
              "              title=\"Convert this dataframe to an interactive table.\"\n",
              "              style=\"display:none;\">\n",
              "        \n",
              "  <svg xmlns=\"http://www.w3.org/2000/svg\" height=\"24px\"viewBox=\"0 0 24 24\"\n",
              "       width=\"24px\">\n",
              "    <path d=\"M0 0h24v24H0V0z\" fill=\"none\"/>\n",
              "    <path d=\"M18.56 5.44l.94 2.06.94-2.06 2.06-.94-2.06-.94-.94-2.06-.94 2.06-2.06.94zm-11 1L8.5 8.5l.94-2.06 2.06-.94-2.06-.94L8.5 2.5l-.94 2.06-2.06.94zm10 10l.94 2.06.94-2.06 2.06-.94-2.06-.94-.94-2.06-.94 2.06-2.06.94z\"/><path d=\"M17.41 7.96l-1.37-1.37c-.4-.4-.92-.59-1.43-.59-.52 0-1.04.2-1.43.59L10.3 9.45l-7.72 7.72c-.78.78-.78 2.05 0 2.83L4 21.41c.39.39.9.59 1.41.59.51 0 1.02-.2 1.41-.59l7.78-7.78 2.81-2.81c.8-.78.8-2.07 0-2.86zM5.41 20L4 18.59l7.72-7.72 1.47 1.35L5.41 20z\"/>\n",
              "  </svg>\n",
              "      </button>\n",
              "      \n",
              "  <style>\n",
              "    .colab-df-container {\n",
              "      display:flex;\n",
              "      flex-wrap:wrap;\n",
              "      gap: 12px;\n",
              "    }\n",
              "\n",
              "    .colab-df-convert {\n",
              "      background-color: #E8F0FE;\n",
              "      border: none;\n",
              "      border-radius: 50%;\n",
              "      cursor: pointer;\n",
              "      display: none;\n",
              "      fill: #1967D2;\n",
              "      height: 32px;\n",
              "      padding: 0 0 0 0;\n",
              "      width: 32px;\n",
              "    }\n",
              "\n",
              "    .colab-df-convert:hover {\n",
              "      background-color: #E2EBFA;\n",
              "      box-shadow: 0px 1px 2px rgba(60, 64, 67, 0.3), 0px 1px 3px 1px rgba(60, 64, 67, 0.15);\n",
              "      fill: #174EA6;\n",
              "    }\n",
              "\n",
              "    [theme=dark] .colab-df-convert {\n",
              "      background-color: #3B4455;\n",
              "      fill: #D2E3FC;\n",
              "    }\n",
              "\n",
              "    [theme=dark] .colab-df-convert:hover {\n",
              "      background-color: #434B5C;\n",
              "      box-shadow: 0px 1px 3px 1px rgba(0, 0, 0, 0.15);\n",
              "      filter: drop-shadow(0px 1px 2px rgba(0, 0, 0, 0.3));\n",
              "      fill: #FFFFFF;\n",
              "    }\n",
              "  </style>\n",
              "\n",
              "      <script>\n",
              "        const buttonEl =\n",
              "          document.querySelector('#df-7efd77a3-210e-4a07-a933-163e571f32ac button.colab-df-convert');\n",
              "        buttonEl.style.display =\n",
              "          google.colab.kernel.accessAllowed ? 'block' : 'none';\n",
              "\n",
              "        async function convertToInteractive(key) {\n",
              "          const element = document.querySelector('#df-7efd77a3-210e-4a07-a933-163e571f32ac');\n",
              "          const dataTable =\n",
              "            await google.colab.kernel.invokeFunction('convertToInteractive',\n",
              "                                                     [key], {});\n",
              "          if (!dataTable) return;\n",
              "\n",
              "          const docLinkHtml = 'Like what you see? Visit the ' +\n",
              "            '<a target=\"_blank\" href=https://colab.research.google.com/notebooks/data_table.ipynb>data table notebook</a>'\n",
              "            + ' to learn more about interactive tables.';\n",
              "          element.innerHTML = '';\n",
              "          dataTable['output_type'] = 'display_data';\n",
              "          await google.colab.output.renderOutput(dataTable, element);\n",
              "          const docLink = document.createElement('div');\n",
              "          docLink.innerHTML = docLinkHtml;\n",
              "          element.appendChild(docLink);\n",
              "        }\n",
              "      </script>\n",
              "    </div>\n",
              "  </div>\n",
              "  "
            ]
          },
          "metadata": {},
          "execution_count": 6
        }
      ]
    },
    {
      "cell_type": "code",
      "source": [
        "w2v_model.wv.most_similar(positive=[\"car\"])"
      ],
      "metadata": {
        "colab": {
          "base_uri": "https://localhost:8080/"
        },
        "id": "PV5liHIGt8DG",
        "outputId": "77626733-4f8e-4aca-c650-4c3de6ac2fee"
      },
      "execution_count": null,
      "outputs": [
        {
          "output_type": "stream",
          "name": "stderr",
          "text": [
            "/usr/local/lib/python3.7/dist-packages/ipykernel_launcher.py:1: DeprecationWarning: Call to deprecated `wv` (Attribute will be removed in 4.0.0, use self instead).\n",
            "  \"\"\"Entry point for launching an IPython kernel.\n"
          ]
        },
        {
          "output_type": "execute_result",
          "data": {
            "text/plain": [
              "[('vehicle', 0.7821096181869507),\n",
              " ('cars', 0.7423830032348633),\n",
              " ('SUV', 0.7160962820053101),\n",
              " ('minivan', 0.6907036304473877),\n",
              " ('truck', 0.6735789775848389),\n",
              " ('Car', 0.6677608489990234),\n",
              " ('Ford_Focus', 0.667320191860199),\n",
              " ('Honda_Civic', 0.662684977054596),\n",
              " ('Jeep', 0.6511331796646118),\n",
              " ('pickup_truck', 0.64414381980896)]"
            ]
          },
          "metadata": {},
          "execution_count": 7
        }
      ]
    },
    {
      "cell_type": "code",
      "source": [
        "# merge questions into vertical list\n",
        "questions = list(train_data['question1'].astype('str')) + list(train_data['question2'].astype('str'))"
      ],
      "metadata": {
        "id": "gAxcOzcoyWuK"
      },
      "execution_count": null,
      "outputs": []
    },
    {
      "cell_type": "code",
      "source": [
        "wrdsplitqs = []\n",
        "for row in questions: \n",
        "    wrdsplitqs.append([word for word in row.split()]) "
      ],
      "metadata": {
        "id": "63HnaU82yndA"
      },
      "execution_count": null,
      "outputs": []
    },
    {
      "cell_type": "code",
      "source": [
        "vec_data = []\n",
        "for row in tqdm(wrdsplitqs):\n",
        "    vec = np.zeros(300)\n",
        "    for word in row:\n",
        "        try:\n",
        "            vec = vec + w2v_model.wv[word]\n",
        "        except:\n",
        "            pass\n",
        "    vec_data.append(vec)"
      ],
      "metadata": {
        "colab": {
          "base_uri": "https://localhost:8080/"
        },
        "id": "6FisZdUUyoFm",
        "outputId": "ebe83c28-e227-4681-e5c6-608d85a06d00"
      },
      "execution_count": null,
      "outputs": [
        {
          "output_type": "stream",
          "name": "stderr",
          "text": [
            "  0%|          | 0/808574 [00:00<?, ?it/s]/usr/local/lib/python3.7/dist-packages/ipykernel_launcher.py:6: DeprecationWarning: Call to deprecated `wv` (Attribute will be removed in 4.0.0, use self instead).\n",
            "  \n",
            "100%|██████████| 808574/808574 [00:55<00:00, 14503.49it/s]\n"
          ]
        }
      ]
    },
    {
      "cell_type": "code",
      "source": [
        "vec_data[0]"
      ],
      "metadata": {
        "colab": {
          "base_uri": "https://localhost:8080/"
        },
        "id": "AZfJ0VxzzXY1",
        "outputId": "6baa6420-93eb-4fd7-bcab-618774ef3030"
      },
      "execution_count": null,
      "outputs": [
        {
          "output_type": "execute_result",
          "data": {
            "text/plain": [
              "array([ 0.48434448,  0.19438934,  1.37744141, -0.34060669, -0.9230957 ,\n",
              "        0.46069336,  0.39660645, -0.875     ,  1.26318359,  1.04333496,\n",
              "       -0.71612549, -0.66967773,  0.14575195,  0.95246887, -1.21472168,\n",
              "        0.97827148, -0.418396  ,  1.00268555, -0.34521484, -0.79595947,\n",
              "       -0.65637207,  0.42098999, -1.00317383,  0.08617401, -0.07003784,\n",
              "        0.47277832, -1.328125  ,  0.31811523,  0.19407654,  0.15551758,\n",
              "       -0.36193848, -0.96044922, -0.11547852, -0.25180054,  0.08164978,\n",
              "        0.11749268, -0.15771484,  1.86303711,  0.74255371,  0.91621399,\n",
              "        0.03265381,  0.28369141,  0.02801514, -0.52038574, -1.2020874 ,\n",
              "       -0.9860611 , -0.0486145 ,  0.14971924, -0.27087402, -0.10668945,\n",
              "       -0.05200195,  0.71002197, -0.57550049, -0.50244141,  0.02053833,\n",
              "       -0.31567383,  0.16170502, -0.61276245,  0.0526123 ,  0.09393311,\n",
              "       -0.60543823,  0.56498718, -0.56829834, -0.01000977, -0.28833008,\n",
              "       -0.53216553, -0.38885498,  1.89624023, -1.12026978,  0.49780273,\n",
              "       -0.52223206, -0.7144165 ,  0.18359375, -0.67687988, -0.36117554,\n",
              "       -0.68605042,  1.4887085 ,  0.69067383, -0.24145508,  0.71386719,\n",
              "        0.40588379, -0.15014648,  0.54180908,  0.24099731, -0.25073242,\n",
              "       -0.94036102, -1.36331177,  0.38330078, -0.15246582,  0.13580322,\n",
              "        0.48303223,  0.4503479 , -0.34465027, -0.06952763, -0.73693848,\n",
              "       -1.78857422, -0.08403397,  0.25170898, -0.19934082,  0.07824707,\n",
              "        0.01634026, -0.2194519 , -0.11747742, -0.04882812,  0.29101562,\n",
              "       -0.71379089, -0.69958496, -0.34771729,  0.37315369, -0.25012207,\n",
              "       -0.12695312, -0.60620117, -0.88238525, -0.04940796,  0.77612305,\n",
              "        0.14550781,  0.15454102, -0.4005127 ,  0.47297668, -0.36859131,\n",
              "       -0.47827148,  0.27868652, -0.74462891,  0.65112305, -0.19958496,\n",
              "        0.59899902, -1.35668945, -0.22233582,  0.48957062,  0.64880371,\n",
              "        0.30169678, -0.45627499, -0.97039795, -0.29150391,  0.45584106,\n",
              "       -0.85864258,  0.02584839, -0.05126953, -0.31601143,  0.76864624,\n",
              "        0.41772461, -0.45135498,  0.59857178,  0.96154785, -0.10025024,\n",
              "       -0.09106445,  0.23016357, -0.14953613, -0.53988647, -0.24291992,\n",
              "        0.40737915,  0.32653809, -1.48588562,  0.4230957 , -0.16467285,\n",
              "        0.24273682, -0.16137695, -0.90203857, -0.64474487, -0.53808594,\n",
              "       -1.2668457 ,  0.89501953,  0.56772614, -0.33374023,  0.32751465,\n",
              "        0.33178711,  0.43017578, -0.45367432,  0.88116455,  0.44709778,\n",
              "       -1.36994934, -0.45751953, -0.1854248 , -1.45910645,  0.15324402,\n",
              "        0.43481445,  0.0581665 , -1.11987305, -0.47607422,  1.23217773,\n",
              "       -0.99038696, -0.44062805, -0.24182892,  0.35928345, -0.33813477,\n",
              "       -0.09771729,  0.39678955,  0.48583984,  0.50793457,  0.06518555,\n",
              "        0.19750977,  0.88916016,  0.51867676,  0.28234863, -0.06494141,\n",
              "        0.62164307, -0.2935791 , -0.36056519, -0.56860352, -2.13378906,\n",
              "        0.86221313,  0.3125    ,  0.22241211,  0.15826416,  0.09555054,\n",
              "       -0.46325684, -1.01147461, -0.5892334 ,  0.19348145,  0.43725586,\n",
              "       -0.30621338,  0.37431335, -0.55239868,  0.01657104, -1.38754272,\n",
              "       -0.82435608,  0.79595947,  0.34103394, -1.26025391,  1.65539551,\n",
              "        0.13366699, -0.17993164,  0.06998825, -0.15710449, -0.14331055,\n",
              "        0.58398438,  1.20117188,  0.82629395,  0.6965332 ,  0.94726562,\n",
              "       -0.13305664,  0.08972168,  0.64620972,  0.0423584 ,  0.25016403,\n",
              "       -0.74829102, -0.90991211, -0.49487305, -0.28158569, -0.00845337,\n",
              "        0.10705566,  0.1864624 ,  0.9624939 , -0.94451904, -0.60028076,\n",
              "        0.13818359, -0.13122559,  1.08068848,  0.8449707 , -1.00509644,\n",
              "        0.61346436, -0.16882324,  0.30944824,  0.07698059,  1.10803223,\n",
              "       -0.71069336,  1.05737305,  0.70800781, -0.92279053,  0.50549316,\n",
              "        0.39709473, -0.10648346, -0.99487305, -0.0604248 ,  0.48071289,\n",
              "        1.09091187,  0.84197998, -1.29675293, -0.98925781, -1.03710938,\n",
              "       -0.73205566,  0.62982178,  0.45471191,  0.2281189 ,  0.79742432,\n",
              "       -0.07910156, -0.50398254, -1.0222168 , -0.49584961,  0.53540039,\n",
              "        0.21875   , -0.05796814,  0.1572876 ,  0.00794983, -0.09197998,\n",
              "       -1.45721436, -0.44873047, -0.38232422,  0.20036316,  0.03027344,\n",
              "       -1.35253906, -0.23303223, -1.24200439, -0.30415344, -0.89221191,\n",
              "       -0.25646973,  0.12579346, -0.04519653,  0.17004395, -0.17578125])"
            ]
          },
          "metadata": {},
          "execution_count": 12
        }
      ]
    },
    {
      "cell_type": "code",
      "source": [
        "length = len(vec_data)\n",
        "half = int(length/2)\n",
        "first_half = vec_data[:half]\n",
        "second_half = vec_data[length-half:]"
      ],
      "metadata": {
        "id": "4i3JiJJ5yw-X"
      },
      "execution_count": null,
      "outputs": []
    },
    {
      "cell_type": "code",
      "source": [
        "q1_arry = np.array(first_half)\n",
        "q2_arry = np.array(second_half)"
      ],
      "metadata": {
        "id": "BZsmlIaSy0Lp"
      },
      "execution_count": null,
      "outputs": []
    },
    {
      "cell_type": "code",
      "source": [
        "q1_arry.shape, q2_arry.shape"
      ],
      "metadata": {
        "colab": {
          "base_uri": "https://localhost:8080/"
        },
        "id": "2-F5KJXNy2z9",
        "outputId": "8898c575-6aca-47a7-f869-ea602d1021c0"
      },
      "execution_count": null,
      "outputs": [
        {
          "output_type": "execute_result",
          "data": {
            "text/plain": [
              "((404287, 300), (404287, 300))"
            ]
          },
          "metadata": {},
          "execution_count": 17
        }
      ]
    },
    {
      "cell_type": "code",
      "source": [
        "tem_df1 = pd.DataFrame(q1_arry, index= train_data.index)\n",
        "tem_df2 = pd.DataFrame(q2_arry, index= train_data.index)\n",
        "tem_df = pd.concat([tem_df1, tem_df2], axis=1)"
      ],
      "metadata": {
        "id": "O2SaVAoozp_t"
      },
      "execution_count": null,
      "outputs": []
    },
    {
      "cell_type": "code",
      "source": [
        "final_df = pd.concat([tem_df, train_data['is_duplicate']], axis=1)\n",
        "final_df.head()"
      ],
      "metadata": {
        "colab": {
          "base_uri": "https://localhost:8080/",
          "height": 299
        },
        "id": "RA2C_3ML0T_9",
        "outputId": "dc242fe5-b328-4b99-d381-6dc55e46e003"
      },
      "execution_count": null,
      "outputs": [
        {
          "output_type": "execute_result",
          "data": {
            "text/plain": [
              "               0         1         2         3         4         5         6  \\\n",
              "289632  0.484344  0.194389  1.377441 -0.340607 -0.923096  0.460693  0.396606   \n",
              "222855  1.272675  0.258667  0.729858  2.215454 -0.721191 -0.864868  0.987625   \n",
              "275356  0.217041 -0.321106  0.472977  1.467285  0.004456  0.462952 -0.297302   \n",
              "28404  -0.117554  0.198242  0.125885  1.291138 -1.161621  0.130127  0.077103   \n",
              "56217   0.882324  0.366806  0.525078  1.124512 -1.582031  0.351135  0.699585   \n",
              "\n",
              "               7         8         9  ...       291       292       293  \\\n",
              "289632 -0.875000  1.263184  1.043335  ... -0.722046 -0.983948 -0.384964   \n",
              "222855 -1.008301  1.017334 -0.342712  ... -0.158768 -0.833923 -0.179932   \n",
              "275356  0.028564  0.256836  0.370605  ... -0.170898  0.070801 -0.110474   \n",
              "28404  -0.303665  0.627502  0.546753  ...  0.117554 -0.535889 -0.006836   \n",
              "56217  -0.441864  0.260322 -0.019653  ...  0.027100 -0.562256 -0.179932   \n",
              "\n",
              "             294       295       296       297       298       299  \\\n",
              "289632 -0.941162 -0.028748 -0.186096  0.128021  0.573853  0.242432   \n",
              "222855 -0.267700  0.268253  0.233887 -0.329664 -0.333496 -0.861992   \n",
              "275356  0.236969  0.078308 -0.912109  0.479248  0.051590 -0.141846   \n",
              "28404  -0.483643 -0.734131 -0.067078 -0.751709 -0.038818  0.880249   \n",
              "56217  -0.373535  0.398926  0.248726 -0.015503  0.399414 -0.109619   \n",
              "\n",
              "        is_duplicate  \n",
              "289632             1  \n",
              "222855             0  \n",
              "275356             0  \n",
              "28404              1  \n",
              "56217              0  \n",
              "\n",
              "[5 rows x 601 columns]"
            ],
            "text/html": [
              "\n",
              "  <div id=\"df-db84d585-fa5d-4d0b-880e-ffb422843c22\">\n",
              "    <div class=\"colab-df-container\">\n",
              "      <div>\n",
              "<style scoped>\n",
              "    .dataframe tbody tr th:only-of-type {\n",
              "        vertical-align: middle;\n",
              "    }\n",
              "\n",
              "    .dataframe tbody tr th {\n",
              "        vertical-align: top;\n",
              "    }\n",
              "\n",
              "    .dataframe thead th {\n",
              "        text-align: right;\n",
              "    }\n",
              "</style>\n",
              "<table border=\"1\" class=\"dataframe\">\n",
              "  <thead>\n",
              "    <tr style=\"text-align: right;\">\n",
              "      <th></th>\n",
              "      <th>0</th>\n",
              "      <th>1</th>\n",
              "      <th>2</th>\n",
              "      <th>3</th>\n",
              "      <th>4</th>\n",
              "      <th>5</th>\n",
              "      <th>6</th>\n",
              "      <th>7</th>\n",
              "      <th>8</th>\n",
              "      <th>9</th>\n",
              "      <th>...</th>\n",
              "      <th>291</th>\n",
              "      <th>292</th>\n",
              "      <th>293</th>\n",
              "      <th>294</th>\n",
              "      <th>295</th>\n",
              "      <th>296</th>\n",
              "      <th>297</th>\n",
              "      <th>298</th>\n",
              "      <th>299</th>\n",
              "      <th>is_duplicate</th>\n",
              "    </tr>\n",
              "  </thead>\n",
              "  <tbody>\n",
              "    <tr>\n",
              "      <th>289632</th>\n",
              "      <td>0.484344</td>\n",
              "      <td>0.194389</td>\n",
              "      <td>1.377441</td>\n",
              "      <td>-0.340607</td>\n",
              "      <td>-0.923096</td>\n",
              "      <td>0.460693</td>\n",
              "      <td>0.396606</td>\n",
              "      <td>-0.875000</td>\n",
              "      <td>1.263184</td>\n",
              "      <td>1.043335</td>\n",
              "      <td>...</td>\n",
              "      <td>-0.722046</td>\n",
              "      <td>-0.983948</td>\n",
              "      <td>-0.384964</td>\n",
              "      <td>-0.941162</td>\n",
              "      <td>-0.028748</td>\n",
              "      <td>-0.186096</td>\n",
              "      <td>0.128021</td>\n",
              "      <td>0.573853</td>\n",
              "      <td>0.242432</td>\n",
              "      <td>1</td>\n",
              "    </tr>\n",
              "    <tr>\n",
              "      <th>222855</th>\n",
              "      <td>1.272675</td>\n",
              "      <td>0.258667</td>\n",
              "      <td>0.729858</td>\n",
              "      <td>2.215454</td>\n",
              "      <td>-0.721191</td>\n",
              "      <td>-0.864868</td>\n",
              "      <td>0.987625</td>\n",
              "      <td>-1.008301</td>\n",
              "      <td>1.017334</td>\n",
              "      <td>-0.342712</td>\n",
              "      <td>...</td>\n",
              "      <td>-0.158768</td>\n",
              "      <td>-0.833923</td>\n",
              "      <td>-0.179932</td>\n",
              "      <td>-0.267700</td>\n",
              "      <td>0.268253</td>\n",
              "      <td>0.233887</td>\n",
              "      <td>-0.329664</td>\n",
              "      <td>-0.333496</td>\n",
              "      <td>-0.861992</td>\n",
              "      <td>0</td>\n",
              "    </tr>\n",
              "    <tr>\n",
              "      <th>275356</th>\n",
              "      <td>0.217041</td>\n",
              "      <td>-0.321106</td>\n",
              "      <td>0.472977</td>\n",
              "      <td>1.467285</td>\n",
              "      <td>0.004456</td>\n",
              "      <td>0.462952</td>\n",
              "      <td>-0.297302</td>\n",
              "      <td>0.028564</td>\n",
              "      <td>0.256836</td>\n",
              "      <td>0.370605</td>\n",
              "      <td>...</td>\n",
              "      <td>-0.170898</td>\n",
              "      <td>0.070801</td>\n",
              "      <td>-0.110474</td>\n",
              "      <td>0.236969</td>\n",
              "      <td>0.078308</td>\n",
              "      <td>-0.912109</td>\n",
              "      <td>0.479248</td>\n",
              "      <td>0.051590</td>\n",
              "      <td>-0.141846</td>\n",
              "      <td>0</td>\n",
              "    </tr>\n",
              "    <tr>\n",
              "      <th>28404</th>\n",
              "      <td>-0.117554</td>\n",
              "      <td>0.198242</td>\n",
              "      <td>0.125885</td>\n",
              "      <td>1.291138</td>\n",
              "      <td>-1.161621</td>\n",
              "      <td>0.130127</td>\n",
              "      <td>0.077103</td>\n",
              "      <td>-0.303665</td>\n",
              "      <td>0.627502</td>\n",
              "      <td>0.546753</td>\n",
              "      <td>...</td>\n",
              "      <td>0.117554</td>\n",
              "      <td>-0.535889</td>\n",
              "      <td>-0.006836</td>\n",
              "      <td>-0.483643</td>\n",
              "      <td>-0.734131</td>\n",
              "      <td>-0.067078</td>\n",
              "      <td>-0.751709</td>\n",
              "      <td>-0.038818</td>\n",
              "      <td>0.880249</td>\n",
              "      <td>1</td>\n",
              "    </tr>\n",
              "    <tr>\n",
              "      <th>56217</th>\n",
              "      <td>0.882324</td>\n",
              "      <td>0.366806</td>\n",
              "      <td>0.525078</td>\n",
              "      <td>1.124512</td>\n",
              "      <td>-1.582031</td>\n",
              "      <td>0.351135</td>\n",
              "      <td>0.699585</td>\n",
              "      <td>-0.441864</td>\n",
              "      <td>0.260322</td>\n",
              "      <td>-0.019653</td>\n",
              "      <td>...</td>\n",
              "      <td>0.027100</td>\n",
              "      <td>-0.562256</td>\n",
              "      <td>-0.179932</td>\n",
              "      <td>-0.373535</td>\n",
              "      <td>0.398926</td>\n",
              "      <td>0.248726</td>\n",
              "      <td>-0.015503</td>\n",
              "      <td>0.399414</td>\n",
              "      <td>-0.109619</td>\n",
              "      <td>0</td>\n",
              "    </tr>\n",
              "  </tbody>\n",
              "</table>\n",
              "<p>5 rows × 601 columns</p>\n",
              "</div>\n",
              "      <button class=\"colab-df-convert\" onclick=\"convertToInteractive('df-db84d585-fa5d-4d0b-880e-ffb422843c22')\"\n",
              "              title=\"Convert this dataframe to an interactive table.\"\n",
              "              style=\"display:none;\">\n",
              "        \n",
              "  <svg xmlns=\"http://www.w3.org/2000/svg\" height=\"24px\"viewBox=\"0 0 24 24\"\n",
              "       width=\"24px\">\n",
              "    <path d=\"M0 0h24v24H0V0z\" fill=\"none\"/>\n",
              "    <path d=\"M18.56 5.44l.94 2.06.94-2.06 2.06-.94-2.06-.94-.94-2.06-.94 2.06-2.06.94zm-11 1L8.5 8.5l.94-2.06 2.06-.94-2.06-.94L8.5 2.5l-.94 2.06-2.06.94zm10 10l.94 2.06.94-2.06 2.06-.94-2.06-.94-.94-2.06-.94 2.06-2.06.94z\"/><path d=\"M17.41 7.96l-1.37-1.37c-.4-.4-.92-.59-1.43-.59-.52 0-1.04.2-1.43.59L10.3 9.45l-7.72 7.72c-.78.78-.78 2.05 0 2.83L4 21.41c.39.39.9.59 1.41.59.51 0 1.02-.2 1.41-.59l7.78-7.78 2.81-2.81c.8-.78.8-2.07 0-2.86zM5.41 20L4 18.59l7.72-7.72 1.47 1.35L5.41 20z\"/>\n",
              "  </svg>\n",
              "      </button>\n",
              "      \n",
              "  <style>\n",
              "    .colab-df-container {\n",
              "      display:flex;\n",
              "      flex-wrap:wrap;\n",
              "      gap: 12px;\n",
              "    }\n",
              "\n",
              "    .colab-df-convert {\n",
              "      background-color: #E8F0FE;\n",
              "      border: none;\n",
              "      border-radius: 50%;\n",
              "      cursor: pointer;\n",
              "      display: none;\n",
              "      fill: #1967D2;\n",
              "      height: 32px;\n",
              "      padding: 0 0 0 0;\n",
              "      width: 32px;\n",
              "    }\n",
              "\n",
              "    .colab-df-convert:hover {\n",
              "      background-color: #E2EBFA;\n",
              "      box-shadow: 0px 1px 2px rgba(60, 64, 67, 0.3), 0px 1px 3px 1px rgba(60, 64, 67, 0.15);\n",
              "      fill: #174EA6;\n",
              "    }\n",
              "\n",
              "    [theme=dark] .colab-df-convert {\n",
              "      background-color: #3B4455;\n",
              "      fill: #D2E3FC;\n",
              "    }\n",
              "\n",
              "    [theme=dark] .colab-df-convert:hover {\n",
              "      background-color: #434B5C;\n",
              "      box-shadow: 0px 1px 3px 1px rgba(0, 0, 0, 0.15);\n",
              "      filter: drop-shadow(0px 1px 2px rgba(0, 0, 0, 0.3));\n",
              "      fill: #FFFFFF;\n",
              "    }\n",
              "  </style>\n",
              "\n",
              "      <script>\n",
              "        const buttonEl =\n",
              "          document.querySelector('#df-db84d585-fa5d-4d0b-880e-ffb422843c22 button.colab-df-convert');\n",
              "        buttonEl.style.display =\n",
              "          google.colab.kernel.accessAllowed ? 'block' : 'none';\n",
              "\n",
              "        async function convertToInteractive(key) {\n",
              "          const element = document.querySelector('#df-db84d585-fa5d-4d0b-880e-ffb422843c22');\n",
              "          const dataTable =\n",
              "            await google.colab.kernel.invokeFunction('convertToInteractive',\n",
              "                                                     [key], {});\n",
              "          if (!dataTable) return;\n",
              "\n",
              "          const docLinkHtml = 'Like what you see? Visit the ' +\n",
              "            '<a target=\"_blank\" href=https://colab.research.google.com/notebooks/data_table.ipynb>data table notebook</a>'\n",
              "            + ' to learn more about interactive tables.';\n",
              "          element.innerHTML = '';\n",
              "          dataTable['output_type'] = 'display_data';\n",
              "          await google.colab.output.renderOutput(dataTable, element);\n",
              "          const docLink = document.createElement('div');\n",
              "          docLink.innerHTML = docLinkHtml;\n",
              "          element.appendChild(docLink);\n",
              "        }\n",
              "      </script>\n",
              "    </div>\n",
              "  </div>\n",
              "  "
            ]
          },
          "metadata": {},
          "execution_count": 19
        }
      ]
    },
    {
      "cell_type": "code",
      "source": [
        "import gc\n",
        "del(train_df)\n",
        "del(w2v_model)\n",
        "del(train_data_tmp)\n",
        "del(wrdsplitqs)\n",
        "del(vec_data)\n",
        "del(q1_arry)\n",
        "del(q2_arry)\n",
        "del(tem_df)\n",
        "del(tem_df1)\n",
        "del(tem_df2)\n",
        "gc.collect()"
      ],
      "metadata": {
        "colab": {
          "base_uri": "https://localhost:8080/"
        },
        "id": "Pb8jZsBuH4Mc",
        "outputId": "2680038e-d0bc-48aa-d14b-4bf997d901b4"
      },
      "execution_count": null,
      "outputs": [
        {
          "output_type": "execute_result",
          "data": {
            "text/plain": [
              "102"
            ]
          },
          "metadata": {},
          "execution_count": 20
        }
      ]
    },
    {
      "cell_type": "code",
      "source": [
        "sentences = final_df.iloc[:,:-1].values\n",
        "y = pd.DataFrame(data=final_df.is_duplicate)\n",
        "#y = final_df['is_duplicate'].values"
      ],
      "metadata": {
        "id": "taXb9ALck1Jx"
      },
      "execution_count": null,
      "outputs": []
    },
    {
      "cell_type": "code",
      "source": [
        "questions_train, questions_test, y_train, y_test = train_test_split(sentences, y, test_size=0.2, random_state=42)"
      ],
      "metadata": {
        "id": "pWRTyt6mweE4"
      },
      "execution_count": null,
      "outputs": []
    },
    {
      "cell_type": "code",
      "source": [
        "from sklearn import metrics\n",
        "import matplotlib.pyplot as plt\n",
        "import seaborn as sns\n",
        "\n",
        "# This function plots the confusion matrices given y_i, y_i_hat.\n",
        "def plot_confusion_matrix(test_y, predict_y):\n",
        "    C = metrics.confusion_matrix(test_y, predict_y)\n",
        "    # C = 9,9 matrix, each cell (i,j) represents number of points of class i are predicted class j\n",
        "    \n",
        "    A =(((C.T)/(C.sum(axis=1))).T)\n",
        "    #divide each element of the confusion matrix with the sum of elements in that column\n",
        "    \n",
        "    B =(C/C.sum(axis=0))\n",
        "    #divide each element of the confusion matrix with the sum of elements in that row\n",
        "    \n",
        "    plt.figure(figsize=(20,4))\n",
        "    labels = [0,1]\n",
        "    # representing A in heatmap format\n",
        "    cmap=sns.light_palette(\"blue\")\n",
        "    plt.subplot(1, 3, 1)\n",
        "    sns.heatmap(C, annot=True, cmap=cmap, fmt=\".3f\", xticklabels=labels, yticklabels=labels)\n",
        "    plt.xlabel('Predicted Class')\n",
        "    plt.ylabel('Original Class')\n",
        "    plt.title(\"Confusion matrix\")\n",
        "    \n",
        "    plt.subplot(1, 3, 2)\n",
        "    sns.heatmap(B, annot=True, cmap=cmap, fmt=\".3f\", xticklabels=labels, yticklabels=labels)\n",
        "    plt.xlabel('Predicted Class')\n",
        "    plt.ylabel('Original Class')\n",
        "    plt.title(\"Precision matrix\")\n",
        "    \n",
        "    plt.subplot(1, 3, 3)\n",
        "    # representing B in heatmap format\n",
        "    sns.heatmap(A, annot=True, cmap=cmap, fmt=\".3f\", xticklabels=labels, yticklabels=labels)\n",
        "    plt.xlabel('Predicted Class')\n",
        "    plt.ylabel('Original Class')\n",
        "    plt.title(\"Recall matrix\")\n",
        "    \n",
        "    plt.show()"
      ],
      "metadata": {
        "id": "NZU2K856M7et"
      },
      "execution_count": null,
      "outputs": []
    },
    {
      "cell_type": "code",
      "source": [
        "from sklearn.metrics import precision_score, recall_score, confusion_matrix, classification_report, accuracy_score, f1_score\n",
        "\n",
        "def print_modelpred_metrics(y_test,y_pred):\n",
        "    prediction = np.round(abs(y_pred))\n",
        "    print ('Accuracy:  ', accuracy_score(y_test, prediction))\n",
        "    print ('F1 score:  ', f1_score(y_test, prediction))\n",
        "    print ('Recall:    ', recall_score(y_test, prediction))\n",
        "    print ('Precision: ', precision_score(y_test, prediction))\n",
        "    print ('\\nclasification report:\\n\\n', classification_report(y_test,prediction))\n",
        "    print ('\\n confussion matrix:\\n\\n',confusion_matrix(y_test, prediction))"
      ],
      "metadata": {
        "id": "O8lsjSRjNAqA"
      },
      "execution_count": null,
      "outputs": []
    },
    {
      "cell_type": "code",
      "source": [
        "from sklearn.preprocessing import StandardScaler\n",
        "scaler = StandardScaler()\n",
        "questions_train = scaler.fit_transform(questions_train)"
      ],
      "metadata": {
        "id": "8Vew7O6_IMvs"
      },
      "execution_count": null,
      "outputs": []
    },
    {
      "cell_type": "code",
      "source": [
        "X_1_train, X_2_train = questions_train[:,:300],questions_train[:,300:]\n",
        "X_1_train.shape,X_2_train.shape"
      ],
      "metadata": {
        "colab": {
          "base_uri": "https://localhost:8080/"
        },
        "id": "7JdPP5S0AR4T",
        "outputId": "f86717f7-67b9-493b-d909-cd6e5d03fe9b"
      },
      "execution_count": null,
      "outputs": [
        {
          "output_type": "execute_result",
          "data": {
            "text/plain": [
              "((323429, 300), (323429, 300))"
            ]
          },
          "metadata": {},
          "execution_count": 28
        }
      ]
    },
    {
      "cell_type": "code",
      "source": [
        "del(final_df)\n",
        "del(questions_train)\n",
        "del(sentences)\n",
        "gc.collect()"
      ],
      "metadata": {
        "colab": {
          "base_uri": "https://localhost:8080/"
        },
        "id": "CX4emGVfHvnj",
        "outputId": "199be931-ed4f-422b-ba48-6d412672cf2c"
      },
      "execution_count": null,
      "outputs": [
        {
          "output_type": "execute_result",
          "data": {
            "text/plain": [
              "235"
            ]
          },
          "metadata": {},
          "execution_count": 29
        }
      ]
    },
    {
      "cell_type": "code",
      "source": [
        "from keras import layers\n",
        "from keras.models import Input, Model, Sequential\n",
        "from keras.layers import Concatenate, Dense, Activation, Dropout\n",
        "from keras.callbacks import EarlyStopping\n",
        "\n",
        "ishape = X_1_train.shape[1]\n",
        "inputs1 = Input(shape=ishape)\n",
        "inputs2 = Input(shape=ishape)\n",
        "\n",
        "sharedBranch = layers.Dense(300, activation=\"tanh\")\n",
        "\n",
        "branch1 = sharedBranch(inputs1)\n",
        "branch2 = sharedBranch(inputs2)\n",
        "\n",
        "concatenated1 = Concatenate( name='Concatenate_1')([branch1,branch2])\n",
        "\n",
        "final_model = layers.Dense(128, activation=\"relu\")(concatenated1)\n",
        "final_model = layers.Dropout(0.2)(final_model)\n",
        "final_model = layers.Dense(64, activation=\"relu\")(final_model)\n",
        "final_model = layers.Dropout(0.2)(final_model)\n",
        "output = layers.Dense(1, activation=\"sigmoid\")(final_model)\n",
        "\n",
        "mainmodel = Model(inputs=[inputs1,inputs2], outputs=output)"
      ],
      "metadata": {
        "id": "xUtC6oQRAOqn"
      },
      "execution_count": null,
      "outputs": []
    },
    {
      "cell_type": "code",
      "source": [
        "mainmodel.compile(optimizer='adam', loss='binary_crossentropy', metrics=['accuracy'])"
      ],
      "metadata": {
        "id": "eu47HJeAKHSh"
      },
      "execution_count": null,
      "outputs": []
    },
    {
      "cell_type": "code",
      "source": [
        "early = EarlyStopping(monitor='val_accuracy', min_delta=0, patience=3, verbose=0, mode='auto')\n",
        "history = mainmodel.fit([X_1_train, X_2_train], y_train, batch_size=100, epochs=20, verbose=1,callbacks=[early], validation_split=0.1)"
      ],
      "metadata": {
        "colab": {
          "base_uri": "https://localhost:8080/"
        },
        "id": "ADaxMU90KLbx",
        "outputId": "22242803-ff5a-498f-9bd1-7d89a3f52b05"
      },
      "execution_count": null,
      "outputs": [
        {
          "output_type": "stream",
          "name": "stdout",
          "text": [
            "Epoch 1/20\n",
            "2911/2911 [==============================] - 11s 4ms/step - loss: 0.5099 - accuracy: 0.7378 - val_loss: 0.4577 - val_accuracy: 0.7726\n",
            "Epoch 2/20\n",
            "2911/2911 [==============================] - 10s 3ms/step - loss: 0.4476 - accuracy: 0.7776 - val_loss: 0.4301 - val_accuracy: 0.7913\n",
            "Epoch 3/20\n",
            "2911/2911 [==============================] - 10s 3ms/step - loss: 0.4169 - accuracy: 0.7973 - val_loss: 0.4148 - val_accuracy: 0.7997\n",
            "Epoch 4/20\n",
            "2911/2911 [==============================] - 10s 3ms/step - loss: 0.3919 - accuracy: 0.8133 - val_loss: 0.4067 - val_accuracy: 0.8011\n",
            "Epoch 5/20\n",
            "2911/2911 [==============================] - 10s 3ms/step - loss: 0.3693 - accuracy: 0.8265 - val_loss: 0.4027 - val_accuracy: 0.8077\n",
            "Epoch 6/20\n",
            "2911/2911 [==============================] - 10s 3ms/step - loss: 0.3488 - accuracy: 0.8373 - val_loss: 0.4021 - val_accuracy: 0.8103\n",
            "Epoch 7/20\n",
            "2911/2911 [==============================] - 10s 4ms/step - loss: 0.3312 - accuracy: 0.8476 - val_loss: 0.3985 - val_accuracy: 0.8144\n",
            "Epoch 8/20\n",
            "2911/2911 [==============================] - 10s 4ms/step - loss: 0.3141 - accuracy: 0.8569 - val_loss: 0.4028 - val_accuracy: 0.8146\n",
            "Epoch 9/20\n",
            "2911/2911 [==============================] - 10s 3ms/step - loss: 0.2991 - accuracy: 0.8653 - val_loss: 0.4059 - val_accuracy: 0.8149\n",
            "Epoch 10/20\n",
            "2911/2911 [==============================] - 10s 3ms/step - loss: 0.2866 - accuracy: 0.8711 - val_loss: 0.4040 - val_accuracy: 0.8174\n",
            "Epoch 11/20\n",
            "2911/2911 [==============================] - 10s 3ms/step - loss: 0.2731 - accuracy: 0.8781 - val_loss: 0.4093 - val_accuracy: 0.8170\n",
            "Epoch 12/20\n",
            "2911/2911 [==============================] - 10s 3ms/step - loss: 0.2619 - accuracy: 0.8838 - val_loss: 0.4298 - val_accuracy: 0.8160\n",
            "Epoch 13/20\n",
            "2911/2911 [==============================] - 10s 3ms/step - loss: 0.2512 - accuracy: 0.8890 - val_loss: 0.4406 - val_accuracy: 0.8176\n",
            "Epoch 14/20\n",
            "2911/2911 [==============================] - 10s 3ms/step - loss: 0.2400 - accuracy: 0.8946 - val_loss: 0.4324 - val_accuracy: 0.8176\n",
            "Epoch 15/20\n",
            "2911/2911 [==============================] - 10s 3ms/step - loss: 0.2316 - accuracy: 0.8993 - val_loss: 0.4583 - val_accuracy: 0.8162\n",
            "Epoch 16/20\n",
            "2911/2911 [==============================] - 10s 3ms/step - loss: 0.2229 - accuracy: 0.9034 - val_loss: 0.4659 - val_accuracy: 0.8179\n",
            "Epoch 17/20\n",
            "2911/2911 [==============================] - 10s 3ms/step - loss: 0.2156 - accuracy: 0.9065 - val_loss: 0.4497 - val_accuracy: 0.8188\n",
            "Epoch 18/20\n",
            "2911/2911 [==============================] - 10s 3ms/step - loss: 0.2085 - accuracy: 0.9102 - val_loss: 0.4795 - val_accuracy: 0.8176\n",
            "Epoch 19/20\n",
            "2911/2911 [==============================] - 10s 3ms/step - loss: 0.2013 - accuracy: 0.9137 - val_loss: 0.4769 - val_accuracy: 0.8204\n",
            "Epoch 20/20\n",
            "2911/2911 [==============================] - 10s 3ms/step - loss: 0.1949 - accuracy: 0.9166 - val_loss: 0.4980 - val_accuracy: 0.8163\n"
          ]
        }
      ]
    },
    {
      "cell_type": "code",
      "source": [
        "questions_test = scaler.transform(questions_test)"
      ],
      "metadata": {
        "id": "VFqEiMH0Wu5l"
      },
      "execution_count": null,
      "outputs": []
    },
    {
      "cell_type": "code",
      "source": [
        "X_1_test, X_2_test = questions_test[:,:300],questions_test[:,300:]\n",
        "X_1_test.shape,X_2_test.shape"
      ],
      "metadata": {
        "colab": {
          "base_uri": "https://localhost:8080/"
        },
        "id": "3j2QcMHYN9eE",
        "outputId": "079ef56a-8090-480c-cdf7-f22eb0ef0afb"
      },
      "execution_count": null,
      "outputs": [
        {
          "output_type": "execute_result",
          "data": {
            "text/plain": [
              "((80858, 300), (80858, 300))"
            ]
          },
          "metadata": {},
          "execution_count": 34
        }
      ]
    },
    {
      "cell_type": "code",
      "source": [
        "y_pred = mainmodel.predict([X_1_test, X_2_test])"
      ],
      "metadata": {
        "id": "G39dLmVWN4vd"
      },
      "execution_count": null,
      "outputs": []
    },
    {
      "cell_type": "code",
      "source": [
        "plot_confusion_matrix(y_test, np.round(abs(y_pred)))"
      ],
      "metadata": {
        "colab": {
          "base_uri": "https://localhost:8080/",
          "height": 287
        },
        "id": "qWqhb4B2OSAR",
        "outputId": "35d58469-9919-4f1c-986d-84df3b81b4b4"
      },
      "execution_count": null,
      "outputs": [
        {
          "output_type": "display_data",
          "data": {
            "text/plain": [
              "<Figure size 1440x288 with 6 Axes>"
            ],
            "image/png": "[encoded data removed]"
          },
          "metadata": {
            "needs_background": "light"
          }
        }
      ]
    },
    {
      "cell_type": "code",
      "source": [
        "print_modelpred_metrics(y_test,y_pred)"
      ],
      "metadata": {
        "colab": {
          "base_uri": "https://localhost:8080/"
        },
        "id": "6m-0aN80OXYy",
        "outputId": "4d6697be-19e8-4e4f-e532-6827ed02c69a"
      },
      "execution_count": null,
      "outputs": [
        {
          "output_type": "stream",
          "name": "stdout",
          "text": [
            "Accuracy:   0.8147740483316431\n",
            "F1 score:   0.7450419624465894\n",
            "Recall:     0.7349207415368082\n",
            "Precision:  0.7554458521766148\n",
            "\n",
            "clasification report:\n",
            "\n",
            "               precision    recall  f1-score   support\n",
            "\n",
            "           0       0.85      0.86      0.85     51082\n",
            "           1       0.76      0.73      0.75     29776\n",
            "\n",
            "    accuracy                           0.81     80858\n",
            "   macro avg       0.80      0.80      0.80     80858\n",
            "weighted avg       0.81      0.81      0.81     80858\n",
            "\n",
            "\n",
            " confussion matrix:\n",
            "\n",
            " [[43998  7084]\n",
            " [ 7893 21883]]\n"
          ]
        }
      ]
    },
    {
      "cell_type": "code",
      "source": [
        "y_test.head()"
      ],
      "metadata": {
        "colab": {
          "base_uri": "https://localhost:8080/",
          "height": 206
        },
        "id": "j_BWUpoV1Gwj",
        "outputId": "3f16b753-1fb9-4e55-8b5f-2ed69d229d6b"
      },
      "execution_count": null,
      "outputs": [
        {
          "output_type": "execute_result",
          "data": {
            "text/plain": [
              "        is_duplicate\n",
              "187418             1\n",
              "87896              0\n",
              "114704             0\n",
              "345561             0\n",
              "201688             0"
            ],
            "text/html": [
              "\n",
              "  <div id=\"df-5556f1fe-298f-47f7-b195-f52bed479125\">\n",
              "    <div class=\"colab-df-container\">\n",
              "      <div>\n",
              "<style scoped>\n",
              "    .dataframe tbody tr th:only-of-type {\n",
              "        vertical-align: middle;\n",
              "    }\n",
              "\n",
              "    .dataframe tbody tr th {\n",
              "        vertical-align: top;\n",
              "    }\n",
              "\n",
              "    .dataframe thead th {\n",
              "        text-align: right;\n",
              "    }\n",
              "</style>\n",
              "<table border=\"1\" class=\"dataframe\">\n",
              "  <thead>\n",
              "    <tr style=\"text-align: right;\">\n",
              "      <th></th>\n",
              "      <th>is_duplicate</th>\n",
              "    </tr>\n",
              "  </thead>\n",
              "  <tbody>\n",
              "    <tr>\n",
              "      <th>187418</th>\n",
              "      <td>1</td>\n",
              "    </tr>\n",
              "    <tr>\n",
              "      <th>87896</th>\n",
              "      <td>0</td>\n",
              "    </tr>\n",
              "    <tr>\n",
              "      <th>114704</th>\n",
              "      <td>0</td>\n",
              "    </tr>\n",
              "    <tr>\n",
              "      <th>345561</th>\n",
              "      <td>0</td>\n",
              "    </tr>\n",
              "    <tr>\n",
              "      <th>201688</th>\n",
              "      <td>0</td>\n",
              "    </tr>\n",
              "  </tbody>\n",
              "</table>\n",
              "</div>\n",
              "      <button class=\"colab-df-convert\" onclick=\"convertToInteractive('df-5556f1fe-298f-47f7-b195-f52bed479125')\"\n",
              "              title=\"Convert this dataframe to an interactive table.\"\n",
              "              style=\"display:none;\">\n",
              "        \n",
              "  <svg xmlns=\"http://www.w3.org/2000/svg\" height=\"24px\"viewBox=\"0 0 24 24\"\n",
              "       width=\"24px\">\n",
              "    <path d=\"M0 0h24v24H0V0z\" fill=\"none\"/>\n",
              "    <path d=\"M18.56 5.44l.94 2.06.94-2.06 2.06-.94-2.06-.94-.94-2.06-.94 2.06-2.06.94zm-11 1L8.5 8.5l.94-2.06 2.06-.94-2.06-.94L8.5 2.5l-.94 2.06-2.06.94zm10 10l.94 2.06.94-2.06 2.06-.94-2.06-.94-.94-2.06-.94 2.06-2.06.94z\"/><path d=\"M17.41 7.96l-1.37-1.37c-.4-.4-.92-.59-1.43-.59-.52 0-1.04.2-1.43.59L10.3 9.45l-7.72 7.72c-.78.78-.78 2.05 0 2.83L4 21.41c.39.39.9.59 1.41.59.51 0 1.02-.2 1.41-.59l7.78-7.78 2.81-2.81c.8-.78.8-2.07 0-2.86zM5.41 20L4 18.59l7.72-7.72 1.47 1.35L5.41 20z\"/>\n",
              "  </svg>\n",
              "      </button>\n",
              "      \n",
              "  <style>\n",
              "    .colab-df-container {\n",
              "      display:flex;\n",
              "      flex-wrap:wrap;\n",
              "      gap: 12px;\n",
              "    }\n",
              "\n",
              "    .colab-df-convert {\n",
              "      background-color: #E8F0FE;\n",
              "      border: none;\n",
              "      border-radius: 50%;\n",
              "      cursor: pointer;\n",
              "      display: none;\n",
              "      fill: #1967D2;\n",
              "      height: 32px;\n",
              "      padding: 0 0 0 0;\n",
              "      width: 32px;\n",
              "    }\n",
              "\n",
              "    .colab-df-convert:hover {\n",
              "      background-color: #E2EBFA;\n",
              "      box-shadow: 0px 1px 2px rgba(60, 64, 67, 0.3), 0px 1px 3px 1px rgba(60, 64, 67, 0.15);\n",
              "      fill: #174EA6;\n",
              "    }\n",
              "\n",
              "    [theme=dark] .colab-df-convert {\n",
              "      background-color: #3B4455;\n",
              "      fill: #D2E3FC;\n",
              "    }\n",
              "\n",
              "    [theme=dark] .colab-df-convert:hover {\n",
              "      background-color: #434B5C;\n",
              "      box-shadow: 0px 1px 3px 1px rgba(0, 0, 0, 0.15);\n",
              "      filter: drop-shadow(0px 1px 2px rgba(0, 0, 0, 0.3));\n",
              "      fill: #FFFFFF;\n",
              "    }\n",
              "  </style>\n",
              "\n",
              "      <script>\n",
              "        const buttonEl =\n",
              "          document.querySelector('#df-5556f1fe-298f-47f7-b195-f52bed479125 button.colab-df-convert');\n",
              "        buttonEl.style.display =\n",
              "          google.colab.kernel.accessAllowed ? 'block' : 'none';\n",
              "\n",
              "        async function convertToInteractive(key) {\n",
              "          const element = document.querySelector('#df-5556f1fe-298f-47f7-b195-f52bed479125');\n",
              "          const dataTable =\n",
              "            await google.colab.kernel.invokeFunction('convertToInteractive',\n",
              "                                                     [key], {});\n",
              "          if (!dataTable) return;\n",
              "\n",
              "          const docLinkHtml = 'Like what you see? Visit the ' +\n",
              "            '<a target=\"_blank\" href=https://colab.research.google.com/notebooks/data_table.ipynb>data table notebook</a>'\n",
              "            + ' to learn more about interactive tables.';\n",
              "          element.innerHTML = '';\n",
              "          dataTable['output_type'] = 'display_data';\n",
              "          await google.colab.output.renderOutput(dataTable, element);\n",
              "          const docLink = document.createElement('div');\n",
              "          docLink.innerHTML = docLinkHtml;\n",
              "          element.appendChild(docLink);\n",
              "        }\n",
              "      </script>\n",
              "    </div>\n",
              "  </div>\n",
              "  "
            ]
          },
          "metadata": {},
          "execution_count": 39
        }
      ]
    },
    {
      "cell_type": "code",
      "source": [
        "y_test1 = y_test.copy()\n",
        "y_test1['pred_prob'] = y_pred\n",
        "y_test1['rounded_pred'] = np.round(abs(y_pred))\n",
        "mergedf = pd.merge(train_data[['question1','question2']], y_test1, left_index = True, right_index = True)\n",
        "mergedf.to_csv('qqp_word2vec_predicted_output.csv')"
      ],
      "metadata": {
        "id": "BFe6cpV_hUYm"
      },
      "execution_count": null,
      "outputs": []
    }
  ]
}