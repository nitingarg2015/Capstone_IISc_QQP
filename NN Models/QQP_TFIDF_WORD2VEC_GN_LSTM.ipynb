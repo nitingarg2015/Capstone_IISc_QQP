{
  "cells": [
    {
      "cell_type": "markdown",
      "metadata": {
        "id": "xqzGVrp12bSq"
      },
      "source": [
        "**QQP_TFIDF_WORD2VEC_GN_LSTM on Quora Question Pairs**"
      ]
    },
    {
      "cell_type": "markdown",
      "metadata": {
        "id": "aPrpolth2bSw"
      },
      "source": [
        "This notebook is about implementing the LSTM model on Kaggle's Quora Question Pairs data using TFIDF weighted Word2Vec embeddings.\n"
      ]
    },
    {
      "cell_type": "markdown",
      "metadata": {
        "id": "xj2KVeJ82bSx"
      },
      "source": [
        "# CODE"
      ]
    },
    {
      "cell_type": "markdown",
      "metadata": {
        "id": "dVm4l36V2bSx"
      },
      "source": [
        "First, lets import all the necessary packages"
      ]
    },
    {
      "cell_type": "code",
      "execution_count": 1,
      "metadata": {
        "id": "K7qnUkGP2bSy"
      },
      "outputs": [],
      "source": [
        "from time import time\n",
        "import pandas as pd\n",
        "import numpy as np\n",
        "from gensim.models import KeyedVectors\n",
        "import re\n",
        "import nltk\n",
        "from nltk.corpus import stopwords\n",
        "from sklearn.model_selection import train_test_split\n",
        "import matplotlib.pyplot as plt\n",
        "import seaborn as sns\n",
        "\n",
        "import itertools\n",
        "import datetime\n",
        "\n",
        "from keras.preprocessing.sequence import pad_sequences\n",
        "from keras.models import Model\n",
        "from keras.layers import Input, Dense, Embedding, LSTM, Lambda, Dropout\n",
        "import keras.backend as K\n",
        "from tensorflow.keras.optimizers import Adam\n",
        "from keras.callbacks import ModelCheckpoint, EarlyStopping\n",
        "from sklearn.metrics import precision_score, recall_score, confusion_matrix, classification_report, accuracy_score, f1_score\n",
        "import tensorflow as tf\n",
        "from sklearn.feature_extraction.text import CountVectorizer\n",
        "from sklearn.feature_extraction.text import TfidfVectorizer\n",
        "import warnings\n",
        "warnings.filterwarnings(\"ignore\")"
      ]
    },
    {
      "cell_type": "markdown",
      "metadata": {
        "id": "c0dK_WXJ2bS0"
      },
      "source": [
        "Global variables"
      ]
    },
    {
      "cell_type": "code",
      "source": [
        "from google.colab import drive\n",
        "drive.mount('/content/drive')"
      ],
      "metadata": {
        "colab": {
          "base_uri": "https://localhost:8080/"
        },
        "id": "o7y9HmNzK_6A",
        "outputId": "74dac2d5-f7a9-4ff5-ed29-a134f21351f1"
      },
      "execution_count": 2,
      "outputs": [
        {
          "output_type": "stream",
          "name": "stdout",
          "text": [
            "Mounted at /content/drive\n"
          ]
        }
      ]
    },
    {
      "cell_type": "code",
      "execution_count": 3,
      "metadata": {
        "collapsed": true,
        "id": "Pb70-Swx2bS1"
      },
      "outputs": [],
      "source": [
        "# File paths\n",
        "TRAIN_CSV = '/content/drive/MyDrive/Copy-CDS-B3/Capstone Project/Data/cleantext/bert/bctrain.csv'\n",
        "TEST_CSV = '/content/drive/MyDrive/Copy-CDS-B3/Capstone Project/Data/cleantext/bert/bcdev.csv'\n",
        "EMBEDDING_FILE = '/content/drive/MyDrive/Copy-CDS-B3/Capstone Project/Data/googlenews/GoogleNews-vectors-negative300.bin.gz'\n",
        "MODEL_SAVING_DIR = '/content/drive/MyDrive/Copy-CDS-B3/Capstone Project/Data/'"
      ]
    },
    {
      "cell_type": "code",
      "source": [
        "nltk.download('omw-1.4')\n",
        "nltk.download('wordnet')\n",
        "nltk.download('averaged_perceptron_tagger')"
      ],
      "metadata": {
        "colab": {
          "base_uri": "https://localhost:8080/"
        },
        "id": "VoEcSSMVL0nc",
        "outputId": "2897a671-4fad-4b77-a966-91280a51b67f"
      },
      "execution_count": 4,
      "outputs": [
        {
          "output_type": "stream",
          "name": "stderr",
          "text": [
            "[nltk_data] Downloading package omw-1.4 to /root/nltk_data...\n",
            "[nltk_data] Downloading package wordnet to /root/nltk_data...\n",
            "[nltk_data] Downloading package averaged_perceptron_tagger to\n",
            "[nltk_data]     /root/nltk_data...\n",
            "[nltk_data]   Unzipping taggers/averaged_perceptron_tagger.zip.\n"
          ]
        },
        {
          "output_type": "execute_result",
          "data": {
            "text/plain": [
              "True"
            ]
          },
          "metadata": {},
          "execution_count": 4
        }
      ]
    },
    {
      "cell_type": "markdown",
      "source": [
        "TF-IDF"
      ],
      "metadata": {
        "id": "2O_Qd1GiET6-"
      }
    },
    {
      "cell_type": "code",
      "source": [
        "trainpath = '/content/drive/MyDrive/Copy-CDS-B3/Capstone Project/Data/cleantext/cleaned_train_data.csv'\n",
        "train_data1 = pd.read_csv(trainpath, delimiter=\",\", encoding='utf-8')"
      ],
      "metadata": {
        "id": "5ZltddlLESLg"
      },
      "execution_count": 5,
      "outputs": []
    },
    {
      "cell_type": "code",
      "source": [
        "train_data = train_data1.sample(frac=1)\n",
        "questions = list(train_data['question1'].astype('str')) + list(train_data['question2'].astype('str'))"
      ],
      "metadata": {
        "id": "wxs3GfloETdB"
      },
      "execution_count": 6,
      "outputs": []
    },
    {
      "cell_type": "code",
      "source": [
        "tfidf = TfidfVectorizer(lowercase=False, )\n",
        "tfidf.fit_transform(questions)\n",
        "\n",
        "# dict key:word and value:tf-idf score\n",
        "word2tfidf = dict(zip(tfidf.get_feature_names(), tfidf.idf_))"
      ],
      "metadata": {
        "id": "Lfxr2D6bEHA3"
      },
      "execution_count": 7,
      "outputs": []
    },
    {
      "cell_type": "markdown",
      "metadata": {
        "id": "XrdGU3Ri2bS2"
      },
      "source": [
        "Create embedding matrix"
      ]
    },
    {
      "cell_type": "code",
      "source": [
        "# Google News Word2Vec vectors\n",
        "word2vec = KeyedVectors.load_word2vec_format(EMBEDDING_FILE, binary=True)"
      ],
      "metadata": {
        "id": "2xZGa-b6N1Ge"
      },
      "execution_count": 8,
      "outputs": []
    },
    {
      "cell_type": "code",
      "execution_count": 9,
      "metadata": {
        "id": "THhHWAMT2bS3"
      },
      "outputs": [],
      "source": [
        "# Prepare embedding\n",
        "vocabularyq = dict()\n",
        "inverse_vocabularyq = ['<unk>']  # '<unk>' will never be used, it is only a placeholder for the [0, 0, ....0] embedding\n",
        "questions_cols = ['question1', 'question2']\n",
        "\n",
        "# Load training and test set\n",
        "train_df = pd.read_csv(TRAIN_CSV)\n",
        "test_df = pd.read_csv(TEST_CSV)\n",
        "\n",
        "#stops = set(stopwords.words('english'))\n",
        "\n",
        "def text_to_word_list(text):\n",
        "    ''' convert text to a list of words '''\n",
        "    text = str(text)\n",
        "    text = text.lower()\n",
        "    text = text.split()\n",
        "    return text\n",
        "\n",
        "# Iterate over the questions only of both training and test datasets\n",
        "for dataset in [train_df, test_df]:\n",
        "    for index, row in dataset.iterrows():\n",
        "\n",
        "        # Iterate through the text of both questions of the row\n",
        "        for question in questions_cols:\n",
        "\n",
        "            q2n = []  # q2n -> question numbers representation\n",
        "            for word in text_to_word_list(row[question]):\n",
        "\n",
        "                # Check for unwanted words\n",
        "                if word not in word2vec.vocab:\n",
        "                    continue\n",
        "\n",
        "                if word not in vocabularyq:\n",
        "                    vocabularyq[word] = len(inverse_vocabularyq)\n",
        "                    q2n.append(len(inverse_vocabularyq))\n",
        "                    inverse_vocabularyq.append(word)\n",
        "                else:\n",
        "                    q2n.append(vocabularyq[word])\n",
        "\n",
        "            # Replace questions as word to question as number representation\n",
        "            dataset.at[index, question] = q2n"
      ]
    },
    {
      "cell_type": "code",
      "source": [
        "embedding_dim = 300\n",
        "embeddings = 1 * np.random.randn(len(vocabularyq) + 1, embedding_dim)  # This is the embedding matrix\n",
        "embeddings[0] = 0  # So that the padding will be ignored\n",
        "\n",
        "# Build the embedding matrix\n",
        "for word1, inx in vocabularyq.items():\n",
        "    if word1 in word2vec.vocab and word1 in word2tfidf.keys():\n",
        "        embeddings[inx] = word2vec.word_vec(word1) * word2tfidf[word1]\n",
        "    elif word1 in word2vec.vocab:\n",
        "        embeddings[inx] = word2vec.word_vec(word1)"
      ],
      "metadata": {
        "id": "0SugdYywN4qo"
      },
      "execution_count": 10,
      "outputs": []
    },
    {
      "cell_type": "code",
      "source": [
        "import gc\n",
        "del(word2vec)\n",
        "del(word2tfidf)\n",
        "del(train_data1)\n",
        "del(questions)\n",
        "gc.collect()"
      ],
      "metadata": {
        "id": "5pYur5c6HvgO",
        "colab": {
          "base_uri": "https://localhost:8080/"
        },
        "outputId": "4cbfdd3c-4d7d-4067-d73b-515e845e106c"
      },
      "execution_count": 11,
      "outputs": [
        {
          "output_type": "execute_result",
          "data": {
            "text/plain": [
              "356"
            ]
          },
          "metadata": {},
          "execution_count": 11
        }
      ]
    },
    {
      "cell_type": "markdown",
      "metadata": {
        "id": "W-U6ODS52bS4"
      },
      "source": [
        "Prepare training and validation data"
      ]
    },
    {
      "cell_type": "code",
      "execution_count": 12,
      "metadata": {
        "collapsed": true,
        "id": "-nGMVukB2bS4"
      },
      "outputs": [],
      "source": [
        "max_seq_length = max(train_df.question1.map(lambda x: len(x)).max(),\n",
        "                     train_df.question2.map(lambda x: len(x)).max(),\n",
        "                     test_df.question1.map(lambda x: len(x)).max(),\n",
        "                     test_df.question2.map(lambda x: len(x)).max())\n",
        "\n",
        "# Split to train validation\n",
        "validation_size = 40000\n",
        "training_size = len(train_df) - validation_size\n",
        "\n",
        "X = train_df[questions_cols]\n",
        "Y = train_df['is_duplicate']\n",
        "\n",
        "X_train, X_validation, Y_train, Y_validation = train_test_split(X, Y, test_size=validation_size)\n",
        "\n",
        "# Split to dicts\n",
        "X_train = {'left': X_train.question1, 'right': X_train.question2}\n",
        "X_validation = {'left': X_validation.question1, 'right': X_validation.question2}\n",
        "X_test = {'left': test_df.question1, 'right': test_df.question2}\n",
        "\n",
        "# Convert labels to their numpy representations\n",
        "Y_train = Y_train.values\n",
        "Y_validation = Y_validation.values\n",
        "\n",
        "# Zero padding\n",
        "for dataset, side in itertools.product([X_train, X_validation], ['left', 'right']):\n",
        "    dataset[side] = pad_sequences(dataset[side], maxlen=max_seq_length)\n",
        "\n",
        "# Make sure everything is ok\n",
        "assert X_train['left'].shape == X_train['right'].shape\n",
        "assert len(X_train['left']) == len(Y_train)"
      ]
    },
    {
      "cell_type": "code",
      "source": [
        "Y_test = test_df['is_duplicate']\n",
        "for dataset, side in itertools.product([X_test], ['left', 'right']):\n",
        "    dataset[side] = pad_sequences(dataset[side], maxlen=max_seq_length)\n",
        "\n",
        "Y_test.shape, X_test['left'].shape, X_test['right'].shape, len(X_test['right'])"
      ],
      "metadata": {
        "colab": {
          "base_uri": "https://localhost:8080/"
        },
        "id": "h_h8Km0WXNpW",
        "outputId": "6ce95e75-3660-4173-eaf7-0b0d6937c335"
      },
      "execution_count": 13,
      "outputs": [
        {
          "output_type": "execute_result",
          "data": {
            "text/plain": [
              "((40430,), (40430, 216), (40430, 216), 40430)"
            ]
          },
          "metadata": {},
          "execution_count": 13
        }
      ]
    },
    {
      "cell_type": "markdown",
      "metadata": {
        "id": "ny5YTXQ62bS5"
      },
      "source": [
        "Build the model"
      ]
    },
    {
      "cell_type": "code",
      "source": [
        "import matplotlib.pyplot as plt\n",
        "import seaborn as sns\n",
        "from sklearn import metrics\n",
        "\n",
        "# This function plots the confusion matrices given y_i, y_i_hat.\n",
        "def plot_confusion_matrix(test_y, predict_y):\n",
        "    C = metrics.confusion_matrix(test_y, predict_y)\n",
        "    # C = 9,9 matrix, each cell (i,j) represents number of points of class i are predicted class j\n",
        "    \n",
        "    A =(((C.T)/(C.sum(axis=1))).T)\n",
        "    #divide each element of the confusion matrix with the sum of elements in that column\n",
        "    \n",
        "    B =(C/C.sum(axis=0))\n",
        "    #divide each element of the confusion matrix with the sum of elements in that row\n",
        "    \n",
        "    plt.figure(figsize=(20,4))\n",
        "    labels = [0,1]\n",
        "    # representing A in heatmap format\n",
        "    cmap=sns.light_palette(\"blue\")\n",
        "    plt.subplot(1, 3, 1)\n",
        "    sns.heatmap(C, annot=True, cmap=cmap, fmt=\".3f\", xticklabels=labels, yticklabels=labels)\n",
        "    plt.xlabel('Predicted Class')\n",
        "    plt.ylabel('Original Class')\n",
        "    plt.title(\"Confusion matrix\")\n",
        "    \n",
        "    plt.subplot(1, 3, 2)\n",
        "    sns.heatmap(B, annot=True, cmap=cmap, fmt=\".3f\", xticklabels=labels, yticklabels=labels)\n",
        "    plt.xlabel('Predicted Class')\n",
        "    plt.ylabel('Original Class')\n",
        "    plt.title(\"Precision matrix\")\n",
        "    \n",
        "    plt.subplot(1, 3, 3)\n",
        "    # representing B in heatmap format\n",
        "    sns.heatmap(A, annot=True, cmap=cmap, fmt=\".3f\", xticklabels=labels, yticklabels=labels)\n",
        "    plt.xlabel('Predicted Class')\n",
        "    plt.ylabel('Original Class')\n",
        "    plt.title(\"Recall matrix\")\n",
        "    \n",
        "    plt.show()"
      ],
      "metadata": {
        "id": "dcEwzy3phib3"
      },
      "execution_count": 14,
      "outputs": []
    },
    {
      "cell_type": "code",
      "source": [
        "def print_modelpred_metrics(y_test,y_pred):\n",
        "    prediction = np.round(abs(y_pred))\n",
        "    print ('Accuracy:  ', accuracy_score(y_test, prediction))\n",
        "    print ('F1 score:  ', f1_score(y_test, prediction))\n",
        "    print ('Recall:    ', recall_score(y_test, prediction))\n",
        "    print ('Precision: ', precision_score(y_test, prediction))\n",
        "    print ('\\nclasification report:\\n\\n', classification_report(y_test,prediction))\n",
        "    print ('\\n confusion matrix:\\n\\n',confusion_matrix(y_test, prediction))"
      ],
      "metadata": {
        "id": "wHP19WryvFX7"
      },
      "execution_count": 17,
      "outputs": []
    },
    {
      "cell_type": "code",
      "source": [
        "# Model variables\n",
        "n_lstm = 100\n",
        "gradient_clipping_norm = 1.25\n",
        "batch_size = 64\n",
        "n_epoch = 20\n",
        "\n",
        "import tensorflow as tf\n",
        "\n",
        "# The visible layer\n",
        "left_input = Input(shape=(max_seq_length,), dtype='int32')\n",
        "right_input = Input(shape=(max_seq_length,), dtype='int32')\n",
        "\n",
        "embedding_layer = Embedding(len(embeddings), embedding_dim, weights=[embeddings], input_length=max_seq_length, trainable=False)\n",
        "\n",
        "# Embedded version of the inputs\n",
        "encoded_left = embedding_layer(left_input)\n",
        "encoded_right = embedding_layer(right_input)\n",
        "\n",
        "# Since this is a siamese network, both sides share the same LSTM\n",
        "shared_lstm = LSTM(n_lstm)\n",
        "\n",
        "left_output = shared_lstm(encoded_left)\n",
        "right_output = shared_lstm(encoded_right)\n",
        "concat_outputs = tf.concat([left_output, right_output, tf.abs(left_output - right_output)], axis=1)\n",
        "outputs = Dense(64, activation='relu')(concat_outputs)\n",
        "outputs = Dense(32, activation='relu')(outputs)\n",
        "prob = Dense(1, activation='sigmoid')(outputs)\n",
        "\n",
        "\n",
        "# Adam optimizer\n",
        "optimizer = Adam(learning_rate=0.001)\n",
        "\n",
        "qqplstm = Model([left_input, right_input], prob)\n",
        "\n",
        "qqplstm.compile(optimizer=optimizer, loss='binary_crossentropy', metrics=['accuracy'])\n",
        "\n",
        "# Start training\n",
        "training_start_time = time()\n",
        "\n",
        "from keras.callbacks import EarlyStopping\n",
        "\n",
        "early = EarlyStopping(monitor='val_accuracy', min_delta=0.001, patience=3, verbose=0, mode='auto')\n",
        "\n",
        "qqplstm_trained = qqplstm.fit([X_train['left'], X_train['right']], Y_train, batch_size=batch_size, epochs=n_epoch, callbacks=[early],\n",
        "                            validation_data=([X_validation['left'], X_validation['right']], Y_validation))\n",
        "\n",
        "print(\"Training time finished.\\n{} epochs in {}\".format(n_epoch, datetime.timedelta(seconds=time()-training_start_time)))"
      ],
      "metadata": {
        "colab": {
          "base_uri": "https://localhost:8080/"
        },
        "id": "GW0IJOMwj21t",
        "outputId": "b0bdf488-41b1-4150-bdac-beebcc7cad0d"
      },
      "execution_count": 16,
      "outputs": [
        {
          "output_type": "stream",
          "name": "stdout",
          "text": [
            "Epoch 1/20\n",
            "5061/5061 [==============================] - 135s 24ms/step - loss: 0.4212 - accuracy: 0.7970 - val_loss: 0.3853 - val_accuracy: 0.8183\n",
            "Epoch 2/20\n",
            "5061/5061 [==============================] - 119s 24ms/step - loss: 0.3510 - accuracy: 0.8386 - val_loss: 0.3624 - val_accuracy: 0.8306\n",
            "Epoch 3/20\n",
            "5061/5061 [==============================] - 119s 24ms/step - loss: 0.3141 - accuracy: 0.8590 - val_loss: 0.3561 - val_accuracy: 0.8399\n",
            "Epoch 4/20\n",
            "5061/5061 [==============================] - 120s 24ms/step - loss: 0.2862 - accuracy: 0.8729 - val_loss: 0.3578 - val_accuracy: 0.8407\n",
            "Epoch 5/20\n",
            "5061/5061 [==============================] - 123s 24ms/step - loss: 0.2634 - accuracy: 0.8851 - val_loss: 0.3635 - val_accuracy: 0.8400\n",
            "Epoch 6/20\n",
            "5061/5061 [==============================] - 123s 24ms/step - loss: 0.2440 - accuracy: 0.8947 - val_loss: 0.3595 - val_accuracy: 0.8446\n",
            "Epoch 7/20\n",
            "5061/5061 [==============================] - 123s 24ms/step - loss: 0.2263 - accuracy: 0.9033 - val_loss: 0.3786 - val_accuracy: 0.8447\n",
            "Epoch 8/20\n",
            "5061/5061 [==============================] - 123s 24ms/step - loss: 0.2120 - accuracy: 0.9107 - val_loss: 0.3899 - val_accuracy: 0.8432\n",
            "Epoch 9/20\n",
            "5061/5061 [==============================] - 128s 25ms/step - loss: 0.2005 - accuracy: 0.9156 - val_loss: 0.4012 - val_accuracy: 0.8445\n",
            "Training time finished.\n",
            "20 epochs in 0:18:33.767231\n"
          ]
        }
      ]
    },
    {
      "cell_type": "code",
      "source": [
        "y_pred1 = qqplstm.predict([X_test['left'], X_test['right']])"
      ],
      "metadata": {
        "id": "Fms3_1ujnzKN"
      },
      "execution_count": 18,
      "outputs": []
    },
    {
      "cell_type": "code",
      "source": [
        "prediction1 = np.round(abs(y_pred1))\n",
        "print_modelpred_metrics(Y_test,prediction1)"
      ],
      "metadata": {
        "colab": {
          "base_uri": "https://localhost:8080/"
        },
        "id": "V4JRevudn6fK",
        "outputId": "4b3a1d5f-ce1f-4be3-d8c4-4e6f7f968d9e"
      },
      "execution_count": 19,
      "outputs": [
        {
          "output_type": "stream",
          "name": "stdout",
          "text": [
            "Accuracy:   0.8411328221617611\n",
            "F1 score:   0.7866467364225211\n",
            "Recall:     0.795498824319785\n",
            "Precision:  0.7779894875164257\n",
            "\n",
            "clasification report:\n",
            "\n",
            "               precision    recall  f1-score   support\n",
            "\n",
            "           0       0.88      0.87      0.87     25545\n",
            "           1       0.78      0.80      0.79     14885\n",
            "\n",
            "    accuracy                           0.84     40430\n",
            "   macro avg       0.83      0.83      0.83     40430\n",
            "weighted avg       0.84      0.84      0.84     40430\n",
            "\n",
            "\n",
            " confusion matrix:\n",
            "\n",
            " [[22166  3379]\n",
            " [ 3044 11841]]\n"
          ]
        }
      ]
    },
    {
      "cell_type": "code",
      "source": [
        "plot_confusion_matrix(Y_test, prediction1)"
      ],
      "metadata": {
        "colab": {
          "base_uri": "https://localhost:8080/",
          "height": 287
        },
        "id": "mds50Kncu6s0",
        "outputId": "210833fd-f98f-4e7c-bae8-b3e40d3c99db"
      },
      "execution_count": 20,
      "outputs": [
        {
          "output_type": "display_data",
          "data": {
            "text/plain": [
              "<Figure size 1440x288 with 6 Axes>"
            ],
            "image/png": "[encoded data removed]"
          },
          "metadata": {
            "needs_background": "light"
          }
        }
      ]
    },
    {
      "cell_type": "code",
      "source": [
        "test1_df = pd.read_csv(TEST_CSV)"
      ],
      "metadata": {
        "id": "kv0-0JnMv3Ch"
      },
      "execution_count": 22,
      "outputs": []
    },
    {
      "cell_type": "code",
      "source": [
        "y_test1 = pd.DataFrame(data=test1_df.is_duplicate)\n",
        "y_test1['pred_prob'] = y_pred1\n",
        "y_test1['rounded_pred'] = prediction1\n",
        "mergedf = pd.merge(test1_df[['question1','question2']], y_test1, left_index = True, right_index = True)\n",
        "mergedf.to_csv('qqp_tfidf_word2vec_lstm_predicted_output.csv')"
      ],
      "metadata": {
        "id": "NEq3jBzyvqlV"
      },
      "execution_count": 32,
      "outputs": []
    },
    {
      "cell_type": "code",
      "source": [
        "# Model variables\n",
        "n_lstm = 128\n",
        "gradient_clipping_norm = 1.25\n",
        "batch_size = 64\n",
        "n_epoch = 20\n",
        "\n",
        "# The visible layer\n",
        "left_input = Input(shape=(max_seq_length,), dtype='int32')\n",
        "right_input = Input(shape=(max_seq_length,), dtype='int32')\n",
        "\n",
        "embedding_layer = Embedding(len(embeddings), embedding_dim, weights=[embeddings], input_length=max_seq_length, trainable=False)\n",
        "\n",
        "# Embedded version of the inputs\n",
        "encoded_left = embedding_layer(left_input)\n",
        "encoded_right = embedding_layer(right_input)\n",
        "\n",
        "# Since this is a siamese network, both sides share the same LSTM\n",
        "shared_lstm = LSTM(n_lstm)\n",
        "\n",
        "left_output = shared_lstm(encoded_left)\n",
        "right_output = shared_lstm(encoded_right)\n",
        "concat_outputs = tf.concat([left_output, right_output, tf.abs(left_output - right_output)], axis=1)\n",
        "\n",
        "outputs = Dense(128, activation='relu')(concat_outputs)\n",
        "outputs = Dropout(0.2)(outputs)\n",
        "\n",
        "outputs = Dense(64, activation='relu')(outputs)\n",
        "outputs = Dropout(0.2)(outputs)\n",
        "\n",
        "prob = Dense(1, activation='sigmoid')(outputs)\n",
        "\n",
        "\n",
        "# Adam optimizer\n",
        "optimizer = Adam(learning_rate=0.001)\n",
        "\n",
        "qqplstm1 = Model([left_input, right_input], prob)\n",
        "\n",
        "qqplstm1.compile(optimizer=optimizer, loss='binary_crossentropy', metrics=['accuracy'])\n",
        "\n",
        "# Start training\n",
        "training_start_time = time()\n",
        "\n",
        "early = EarlyStopping(monitor='val_accuracy', min_delta=0.001, patience=3, verbose=0, mode='auto')\n",
        "\n",
        "qqplstm1_trained = qqplstm1.fit([X_train['left'], X_train['right']], Y_train, batch_size=batch_size, epochs=n_epoch, callbacks=[early],\n",
        "                            validation_data=([X_validation['left'], X_validation['right']], Y_validation))\n",
        "\n",
        "print(\"Training time finished.\\n{} epochs in {}\".format(n_epoch, datetime.timedelta(seconds=time()-training_start_time)))"
      ],
      "metadata": {
        "colab": {
          "base_uri": "https://localhost:8080/"
        },
        "id": "1yBQARF2th0m",
        "outputId": "8e490e75-4093-415c-8cd7-5d4bf96b8e99"
      },
      "execution_count": null,
      "outputs": [
        {
          "output_type": "stream",
          "name": "stdout",
          "text": [
            "Epoch 1/20\n",
            "4429/4429 [==============================] - 135s 29ms/step - loss: 0.4315 - accuracy: 0.7922 - val_loss: 0.3868 - val_accuracy: 0.8169\n",
            "Epoch 2/20\n",
            "4429/4429 [==============================] - 122s 28ms/step - loss: 0.3558 - accuracy: 0.8364 - val_loss: 0.3642 - val_accuracy: 0.8300\n",
            "Epoch 3/20\n",
            "4429/4429 [==============================] - 124s 28ms/step - loss: 0.3150 - accuracy: 0.8584 - val_loss: 0.3666 - val_accuracy: 0.8297\n",
            "Epoch 4/20\n",
            "4429/4429 [==============================] - 124s 28ms/step - loss: 0.2839 - accuracy: 0.8749 - val_loss: 0.3599 - val_accuracy: 0.8351\n",
            "Epoch 5/20\n",
            "4429/4429 [==============================] - 122s 28ms/step - loss: 0.2567 - accuracy: 0.8881 - val_loss: 0.3698 - val_accuracy: 0.8369\n",
            "Epoch 6/20\n",
            "4429/4429 [==============================] - 121s 27ms/step - loss: 0.2322 - accuracy: 0.9005 - val_loss: 0.3677 - val_accuracy: 0.8436\n",
            "Epoch 7/20\n",
            "4429/4429 [==============================] - 123s 28ms/step - loss: 0.2133 - accuracy: 0.9096 - val_loss: 0.3799 - val_accuracy: 0.8446\n",
            "Epoch 8/20\n",
            "4429/4429 [==============================] - 123s 28ms/step - loss: 0.1954 - accuracy: 0.9175 - val_loss: 0.3783 - val_accuracy: 0.8415\n",
            "Epoch 9/20\n",
            "4429/4429 [==============================] - 124s 28ms/step - loss: 0.1802 - accuracy: 0.9251 - val_loss: 0.4095 - val_accuracy: 0.8433\n",
            "Training time finished.\n",
            "20 epochs in 0:18:39.112331\n"
          ]
        }
      ]
    },
    {
      "cell_type": "code",
      "source": [
        "y_pred2 = qqplstm1.predict([X_test['left'], X_test['right']])\n",
        "\n",
        "print_modelpred_metrics(Y_test,y_pred2)"
      ],
      "metadata": {
        "colab": {
          "base_uri": "https://localhost:8080/"
        },
        "id": "X4mD69Y_0AqJ",
        "outputId": "66b4e80d-8a79-4eea-bc5c-c84d4bd6f277"
      },
      "execution_count": null,
      "outputs": [
        {
          "output_type": "stream",
          "name": "stdout",
          "text": [
            "Accuracy:   0.8400633216666461\n",
            "F1 score:   0.7880694854146182\n",
            "Recall:     0.8023492508425936\n",
            "Precision:  0.7742891186036776\n",
            "\n",
            "clasification report:\n",
            "\n",
            "               precision    recall  f1-score   support\n",
            "\n",
            "           0       0.88      0.86      0.87     50890\n",
            "           1       0.77      0.80      0.79     29967\n",
            "\n",
            "    accuracy                           0.84     80857\n",
            "   macro avg       0.83      0.83      0.83     80857\n",
            "weighted avg       0.84      0.84      0.84     80857\n",
            "\n",
            "\n",
            " confussion matrix:\n",
            "\n",
            " [[43881  7009]\n",
            " [ 5923 24044]]\n"
          ]
        }
      ]
    },
    {
      "cell_type": "code",
      "source": [
        "# Model variables\n",
        "n_lstm = 256\n",
        "batch_size = 64\n",
        "n_epoch = 20\n",
        "\n",
        "# The visible layer\n",
        "left_input = Input(shape=(max_seq_length,), dtype='int32')\n",
        "right_input = Input(shape=(max_seq_length,), dtype='int32')\n",
        "\n",
        "embedding_layer = Embedding(len(embeddings), embedding_dim, weights=[embeddings], input_length=max_seq_length, trainable=False)\n",
        "\n",
        "# Embedded version of the inputs\n",
        "encoded_left = embedding_layer(left_input)\n",
        "encoded_right = embedding_layer(right_input)\n",
        "\n",
        "# Since this is a siamese network, both sides share the same LSTM\n",
        "shared_lstm = LSTM(n_lstm)\n",
        "\n",
        "left_output = shared_lstm(encoded_left)\n",
        "right_output = shared_lstm(encoded_right)\n",
        "concat_outputs = tf.concat([left_output, right_output, tf.abs(left_output - right_output)], axis=1)\n",
        "\n",
        "outputs = Dense(256, activation='relu')(concat_outputs)\n",
        "outputs = Dropout(0.2)(outputs)\n",
        "\n",
        "outputs = Dense(128, activation='relu')(outputs)\n",
        "outputs = Dropout(0.2)(outputs)\n",
        "\n",
        "prob = Dense(1, activation='sigmoid')(outputs)\n",
        "\n",
        "\n",
        "# Adam optimizer\n",
        "optimizer = Adam(learning_rate=0.001)\n",
        "\n",
        "qqplstm2 = Model([left_input, right_input], prob)\n",
        "\n",
        "qqplstm2.compile(optimizer=optimizer, loss='binary_crossentropy', metrics=['accuracy'])\n",
        "\n",
        "# Start training\n",
        "training_start_time = time()\n",
        "\n",
        "early = EarlyStopping(monitor='val_accuracy', min_delta=0.001, patience=3, verbose=0, mode='auto')\n",
        "\n",
        "qqplstm2_trained = qqplstm2.fit([X_train['left'], X_train['right']], Y_train, batch_size=batch_size, epochs=n_epoch, callbacks=[early],\n",
        "                            validation_data=([X_validation['left'], X_validation['right']], Y_validation))\n",
        "\n",
        "print(\"Training time finished.\\n{} epochs in {}\".format(n_epoch, datetime.timedelta(seconds=time()-training_start_time)))"
      ],
      "metadata": {
        "colab": {
          "base_uri": "https://localhost:8080/"
        },
        "id": "eCa-hu-B0plA",
        "outputId": "67d5202f-933d-4547-c260-a5414dcc6960"
      },
      "execution_count": null,
      "outputs": [
        {
          "output_type": "stream",
          "name": "stdout",
          "text": [
            "Epoch 1/20\n",
            "4429/4429 [==============================] - 206s 46ms/step - loss: 0.4212 - accuracy: 0.7974 - val_loss: 0.3772 - val_accuracy: 0.8237\n",
            "Epoch 2/20\n",
            "4429/4429 [==============================] - 202s 46ms/step - loss: 0.3385 - accuracy: 0.8465 - val_loss: 0.3518 - val_accuracy: 0.8407\n",
            "Epoch 3/20\n",
            "4429/4429 [==============================] - 201s 45ms/step - loss: 0.2876 - accuracy: 0.8732 - val_loss: 0.3471 - val_accuracy: 0.8453\n",
            "Epoch 4/20\n",
            "4429/4429 [==============================] - 201s 45ms/step - loss: 0.2432 - accuracy: 0.8953 - val_loss: 0.3661 - val_accuracy: 0.8475\n",
            "Epoch 5/20\n",
            "4429/4429 [==============================] - 202s 46ms/step - loss: 0.2090 - accuracy: 0.9120 - val_loss: 0.3659 - val_accuracy: 0.8421\n",
            "Epoch 6/20\n",
            "4429/4429 [==============================] - 203s 46ms/step - loss: 0.1795 - accuracy: 0.9259 - val_loss: 0.4116 - val_accuracy: 0.8493\n",
            "Epoch 7/20\n",
            "4429/4429 [==============================] - 203s 46ms/step - loss: 0.1566 - accuracy: 0.9363 - val_loss: 0.4361 - val_accuracy: 0.8481\n",
            "Epoch 8/20\n",
            "4429/4429 [==============================] - 203s 46ms/step - loss: 0.1367 - accuracy: 0.9449 - val_loss: 0.4340 - val_accuracy: 0.8473\n",
            "Epoch 9/20\n",
            "4429/4429 [==============================] - 203s 46ms/step - loss: 0.1219 - accuracy: 0.9510 - val_loss: 0.5098 - val_accuracy: 0.8467\n",
            "Training time finished.\n",
            "20 epochs in 0:30:23.336506\n"
          ]
        }
      ]
    },
    {
      "cell_type": "code",
      "source": [
        "y_pred3 = qqplstm2.predict([X_test['left'], X_test['right']])\n",
        "\n",
        "print_modelpred_metrics(Y_test,y_pred3)"
      ],
      "metadata": {
        "colab": {
          "base_uri": "https://localhost:8080/"
        },
        "id": "hvwldI5E-LSy",
        "outputId": "46c8b073-bf70-4d4e-e61d-c4140750bd54"
      },
      "execution_count": null,
      "outputs": [
        {
          "output_type": "stream",
          "name": "stdout",
          "text": [
            "Accuracy:   0.8473601543465624\n",
            "F1 score:   0.792389987888575\n",
            "Recall:     0.7859645610171189\n",
            "Precision:  0.7989213391675994\n",
            "\n",
            "clasification report:\n",
            "\n",
            "               precision    recall  f1-score   support\n",
            "\n",
            "           0       0.88      0.88      0.88     50890\n",
            "           1       0.80      0.79      0.79     29967\n",
            "\n",
            "    accuracy                           0.85     80857\n",
            "   macro avg       0.84      0.83      0.84     80857\n",
            "weighted avg       0.85      0.85      0.85     80857\n",
            "\n",
            "\n",
            " confussion matrix:\n",
            "\n",
            " [[44962  5928]\n",
            " [ 6414 23553]]\n"
          ]
        }
      ]
    }
  ],
  "metadata": {
    "kernelspec": {
      "display_name": "Python 3",
      "language": "python",
      "name": "python3"
    },
    "language_info": {
      "codemirror_mode": {
        "name": "ipython",
        "version": 3
      },
      "file_extension": ".py",
      "mimetype": "text/x-python",
      "name": "python",
      "nbconvert_exporter": "python",
      "pygments_lexer": "ipython3",
      "version": "3.6.3"
    },
    "toc": {
      "base_numbering": 1,
      "nav_menu": {},
      "number_sections": true,
      "sideBar": true,
      "skip_h1_title": false,
      "title_cell": "Table of Contents",
      "title_sidebar": "Contents",
      "toc_cell": false,
      "toc_position": {},
      "toc_section_display": true,
      "toc_window_display": false
    },
    "colab": {
      "provenance": [],
      "collapsed_sections": [],
      "machine_shape": "hm"
    },
    "accelerator": "GPU",
    "gpuClass": "standard"
  },
  "nbformat": 4,
  "nbformat_minor": 0
}