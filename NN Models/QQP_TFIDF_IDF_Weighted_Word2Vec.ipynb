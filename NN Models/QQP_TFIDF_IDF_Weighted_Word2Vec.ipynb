{
  "nbformat": 4,
  "nbformat_minor": 0,
  "metadata": {
    "colab": {
      "provenance": [],
      "machine_shape": "hm"
    },
    "kernelspec": {
      "name": "python3",
      "display_name": "Python 3"
    },
    "language_info": {
      "name": "python"
    },
    "accelerator": "GPU"
  },
  "cells": [
    {
      "cell_type": "markdown",
      "source": [
        "Quora Questions Pairs classification based on Gensim Word2Vec embeddings (Google News corpus) weighted by TFIDF's IDF of each Word in Questions"
      ],
      "metadata": {
        "id": "TQn7Z40_AyJm"
      }
    },
    {
      "cell_type": "code",
      "execution_count": 2,
      "metadata": {
        "id": "UpxYFd9yzlGD"
      },
      "outputs": [],
      "source": [
        "import gensim\n",
        "import numpy as np\n",
        "import pandas as pd\n",
        "import re\n",
        "import csv\n",
        "import os\n",
        "import nltk\n",
        "import warnings\n",
        "from bs4 import BeautifulSoup\n",
        "from nltk.stem import WordNetLemmatizer\n",
        "from gensim.models import Word2Vec\n",
        "from gensim.models import KeyedVectors\n",
        "from sklearn.model_selection import train_test_split\n",
        "from keras import layers\n",
        "from keras.models import Model, Sequential\n",
        "from tensorflow.keras import Input\n",
        "from keras.layers import LSTM, Dense, Embedding, Dropout\n",
        "from sklearn.feature_extraction.text import CountVectorizer\n",
        "from sklearn.feature_extraction.text import TfidfVectorizer\n",
        "from tqdm import tqdm\n",
        "warnings.filterwarnings(\"ignore\")"
      ]
    },
    {
      "cell_type": "code",
      "source": [
        "nltk.download('omw-1.4')\n",
        "nltk.download('wordnet')"
      ],
      "metadata": {
        "colab": {
          "base_uri": "https://localhost:8080/"
        },
        "id": "DNjm7XJpmc14",
        "outputId": "0f09dd1f-4460-45ba-dc21-0c5e1eebd497"
      },
      "execution_count": 3,
      "outputs": [
        {
          "output_type": "stream",
          "name": "stderr",
          "text": [
            "[nltk_data] Downloading package omw-1.4 to /root/nltk_data...\n",
            "[nltk_data]   Package omw-1.4 is already up-to-date!\n",
            "[nltk_data] Downloading package wordnet to /root/nltk_data...\n",
            "[nltk_data]   Package wordnet is already up-to-date!\n"
          ]
        },
        {
          "output_type": "execute_result",
          "data": {
            "text/plain": [
              "True"
            ]
          },
          "metadata": {},
          "execution_count": 3
        }
      ]
    },
    {
      "cell_type": "code",
      "source": [
        "from google.colab import drive\n",
        "drive.mount('/content/drive')"
      ],
      "metadata": {
        "colab": {
          "base_uri": "https://localhost:8080/"
        },
        "id": "Q89VmjmiZQ9M",
        "outputId": "8006ed6f-13bb-4004-c34f-df1f54ca1a24"
      },
      "execution_count": 4,
      "outputs": [
        {
          "output_type": "stream",
          "name": "stdout",
          "text": [
            "Drive already mounted at /content/drive; to attempt to forcibly remount, call drive.mount(\"/content/drive\", force_remount=True).\n"
          ]
        }
      ]
    },
    {
      "cell_type": "markdown",
      "source": [
        "Reading Word2Vec keyed vectors from Google News corpus"
      ],
      "metadata": {
        "id": "9nWgS5qrB9py"
      }
    },
    {
      "cell_type": "code",
      "source": [
        "EMBEDDING_FILE = '/content/drive/MyDrive/Copy-CDS-B3/Capstone/NN/GoogleNews-vectors-negative300.bin.gz'\n",
        "w2v_model = KeyedVectors.load_word2vec_format(EMBEDDING_FILE,binary=True)"
      ],
      "metadata": {
        "id": "NgJCbOO4mx24"
      },
      "execution_count": 5,
      "outputs": []
    },
    {
      "cell_type": "markdown",
      "source": [
        "Reading cleaned Quora Questions Pairs Training Data"
      ],
      "metadata": {
        "id": "VryNeqtpPypz"
      }
    },
    {
      "cell_type": "code",
      "source": [
        "trainpath = '/content/drive/MyDrive/Copy-CDS-B3/Capstone/NN/cleaned_train_data.csv'\n",
        "train_data = pd.read_csv(trainpath, delimiter=\",\", encoding='utf-8')\n",
        "train_data.head()"
      ],
      "metadata": {
        "colab": {
          "base_uri": "https://localhost:8080/",
          "height": 337
        },
        "id": "jOoPT6Skkjw3",
        "outputId": "dfc90023-048c-471a-ecd2-3a8a0a2660eb"
      },
      "execution_count": 6,
      "outputs": [
        {
          "output_type": "execute_result",
          "data": {
            "text/plain": [
              "       id    qid1    qid2                                          question1  \\\n",
              "0  352313  690128  623007    how do i unlock icloud activation lock in ios 9   \n",
              "1  168021  332061  332062                  how do you hang a canvas painting   \n",
              "2  145770  288446  288447  i have never gone to a bank  how do i put mone...   \n",
              "3  302553  594155  594156          can i own my own private jet in singapore   \n",
              "4  317214  622459  622460           what are some common hawaiian last names   \n",
              "\n",
              "                                           question2  is_duplicate  \\\n",
              "0    how do i unlock icloud activation lock in ios 7             0   \n",
              "1  how do you hang fine art  i have a painting on...             0   \n",
              "2  i have never gone to a bank  how do i put mone...             1   \n",
              "3  if you own a private jet  how do you go about ...             0   \n",
              "4  what are some common hawaiian surnames  what a...             0   \n",
              "\n",
              "                                            queslem1  \\\n",
              "0     how do i unlock icloud activation lock in io 9   \n",
              "1                  how do you hang a canvas painting   \n",
              "2  i have never gone to a bank how do i put money...   \n",
              "3          can i own my own private jet in singapore   \n",
              "4            what are some common hawaiian last name   \n",
              "\n",
              "                                            queslem2  \n",
              "0     how do i unlock icloud activation lock in io 7  \n",
              "1  how do you hang fine art i have a painting on ...  \n",
              "2  i have never gone to a bank how do i put money...  \n",
              "3  if you own a private jet how do you go about b...  \n",
              "4  what are some common hawaiian surname what are...  "
            ],
            "text/html": [
              "\n",
              "  <div id=\"df-b70a01b4-c8ea-431f-a230-85c3c92a1b38\">\n",
              "    <div class=\"colab-df-container\">\n",
              "      <div>\n",
              "<style scoped>\n",
              "    .dataframe tbody tr th:only-of-type {\n",
              "        vertical-align: middle;\n",
              "    }\n",
              "\n",
              "    .dataframe tbody tr th {\n",
              "        vertical-align: top;\n",
              "    }\n",
              "\n",
              "    .dataframe thead th {\n",
              "        text-align: right;\n",
              "    }\n",
              "</style>\n",
              "<table border=\"1\" class=\"dataframe\">\n",
              "  <thead>\n",
              "    <tr style=\"text-align: right;\">\n",
              "      <th></th>\n",
              "      <th>id</th>\n",
              "      <th>qid1</th>\n",
              "      <th>qid2</th>\n",
              "      <th>question1</th>\n",
              "      <th>question2</th>\n",
              "      <th>is_duplicate</th>\n",
              "      <th>queslem1</th>\n",
              "      <th>queslem2</th>\n",
              "    </tr>\n",
              "  </thead>\n",
              "  <tbody>\n",
              "    <tr>\n",
              "      <th>0</th>\n",
              "      <td>352313</td>\n",
              "      <td>690128</td>\n",
              "      <td>623007</td>\n",
              "      <td>how do i unlock icloud activation lock in ios 9</td>\n",
              "      <td>how do i unlock icloud activation lock in ios 7</td>\n",
              "      <td>0</td>\n",
              "      <td>how do i unlock icloud activation lock in io 9</td>\n",
              "      <td>how do i unlock icloud activation lock in io 7</td>\n",
              "    </tr>\n",
              "    <tr>\n",
              "      <th>1</th>\n",
              "      <td>168021</td>\n",
              "      <td>332061</td>\n",
              "      <td>332062</td>\n",
              "      <td>how do you hang a canvas painting</td>\n",
              "      <td>how do you hang fine art  i have a painting on...</td>\n",
              "      <td>0</td>\n",
              "      <td>how do you hang a canvas painting</td>\n",
              "      <td>how do you hang fine art i have a painting on ...</td>\n",
              "    </tr>\n",
              "    <tr>\n",
              "      <th>2</th>\n",
              "      <td>145770</td>\n",
              "      <td>288446</td>\n",
              "      <td>288447</td>\n",
              "      <td>i have never gone to a bank  how do i put mone...</td>\n",
              "      <td>i have never gone to a bank  how do i put mone...</td>\n",
              "      <td>1</td>\n",
              "      <td>i have never gone to a bank how do i put money...</td>\n",
              "      <td>i have never gone to a bank how do i put money...</td>\n",
              "    </tr>\n",
              "    <tr>\n",
              "      <th>3</th>\n",
              "      <td>302553</td>\n",
              "      <td>594155</td>\n",
              "      <td>594156</td>\n",
              "      <td>can i own my own private jet in singapore</td>\n",
              "      <td>if you own a private jet  how do you go about ...</td>\n",
              "      <td>0</td>\n",
              "      <td>can i own my own private jet in singapore</td>\n",
              "      <td>if you own a private jet how do you go about b...</td>\n",
              "    </tr>\n",
              "    <tr>\n",
              "      <th>4</th>\n",
              "      <td>317214</td>\n",
              "      <td>622459</td>\n",
              "      <td>622460</td>\n",
              "      <td>what are some common hawaiian last names</td>\n",
              "      <td>what are some common hawaiian surnames  what a...</td>\n",
              "      <td>0</td>\n",
              "      <td>what are some common hawaiian last name</td>\n",
              "      <td>what are some common hawaiian surname what are...</td>\n",
              "    </tr>\n",
              "  </tbody>\n",
              "</table>\n",
              "</div>\n",
              "      <button class=\"colab-df-convert\" onclick=\"convertToInteractive('df-b70a01b4-c8ea-431f-a230-85c3c92a1b38')\"\n",
              "              title=\"Convert this dataframe to an interactive table.\"\n",
              "              style=\"display:none;\">\n",
              "        \n",
              "  <svg xmlns=\"http://www.w3.org/2000/svg\" height=\"24px\"viewBox=\"0 0 24 24\"\n",
              "       width=\"24px\">\n",
              "    <path d=\"M0 0h24v24H0V0z\" fill=\"none\"/>\n",
              "    <path d=\"M18.56 5.44l.94 2.06.94-2.06 2.06-.94-2.06-.94-.94-2.06-.94 2.06-2.06.94zm-11 1L8.5 8.5l.94-2.06 2.06-.94-2.06-.94L8.5 2.5l-.94 2.06-2.06.94zm10 10l.94 2.06.94-2.06 2.06-.94-2.06-.94-.94-2.06-.94 2.06-2.06.94z\"/><path d=\"M17.41 7.96l-1.37-1.37c-.4-.4-.92-.59-1.43-.59-.52 0-1.04.2-1.43.59L10.3 9.45l-7.72 7.72c-.78.78-.78 2.05 0 2.83L4 21.41c.39.39.9.59 1.41.59.51 0 1.02-.2 1.41-.59l7.78-7.78 2.81-2.81c.8-.78.8-2.07 0-2.86zM5.41 20L4 18.59l7.72-7.72 1.47 1.35L5.41 20z\"/>\n",
              "  </svg>\n",
              "      </button>\n",
              "      \n",
              "  <style>\n",
              "    .colab-df-container {\n",
              "      display:flex;\n",
              "      flex-wrap:wrap;\n",
              "      gap: 12px;\n",
              "    }\n",
              "\n",
              "    .colab-df-convert {\n",
              "      background-color: #E8F0FE;\n",
              "      border: none;\n",
              "      border-radius: 50%;\n",
              "      cursor: pointer;\n",
              "      display: none;\n",
              "      fill: #1967D2;\n",
              "      height: 32px;\n",
              "      padding: 0 0 0 0;\n",
              "      width: 32px;\n",
              "    }\n",
              "\n",
              "    .colab-df-convert:hover {\n",
              "      background-color: #E2EBFA;\n",
              "      box-shadow: 0px 1px 2px rgba(60, 64, 67, 0.3), 0px 1px 3px 1px rgba(60, 64, 67, 0.15);\n",
              "      fill: #174EA6;\n",
              "    }\n",
              "\n",
              "    [theme=dark] .colab-df-convert {\n",
              "      background-color: #3B4455;\n",
              "      fill: #D2E3FC;\n",
              "    }\n",
              "\n",
              "    [theme=dark] .colab-df-convert:hover {\n",
              "      background-color: #434B5C;\n",
              "      box-shadow: 0px 1px 3px 1px rgba(0, 0, 0, 0.15);\n",
              "      filter: drop-shadow(0px 1px 2px rgba(0, 0, 0, 0.3));\n",
              "      fill: #FFFFFF;\n",
              "    }\n",
              "  </style>\n",
              "\n",
              "      <script>\n",
              "        const buttonEl =\n",
              "          document.querySelector('#df-b70a01b4-c8ea-431f-a230-85c3c92a1b38 button.colab-df-convert');\n",
              "        buttonEl.style.display =\n",
              "          google.colab.kernel.accessAllowed ? 'block' : 'none';\n",
              "\n",
              "        async function convertToInteractive(key) {\n",
              "          const element = document.querySelector('#df-b70a01b4-c8ea-431f-a230-85c3c92a1b38');\n",
              "          const dataTable =\n",
              "            await google.colab.kernel.invokeFunction('convertToInteractive',\n",
              "                                                     [key], {});\n",
              "          if (!dataTable) return;\n",
              "\n",
              "          const docLinkHtml = 'Like what you see? Visit the ' +\n",
              "            '<a target=\"_blank\" href=https://colab.research.google.com/notebooks/data_table.ipynb>data table notebook</a>'\n",
              "            + ' to learn more about interactive tables.';\n",
              "          element.innerHTML = '';\n",
              "          dataTable['output_type'] = 'display_data';\n",
              "          await google.colab.output.renderOutput(dataTable, element);\n",
              "          const docLink = document.createElement('div');\n",
              "          docLink.innerHTML = docLinkHtml;\n",
              "          element.appendChild(docLink);\n",
              "        }\n",
              "      </script>\n",
              "    </div>\n",
              "  </div>\n",
              "  "
            ]
          },
          "metadata": {},
          "execution_count": 6
        }
      ]
    },
    {
      "cell_type": "markdown",
      "source": [
        "Shuffling train data as the qid increases - duplicates go down, so shuffling data"
      ],
      "metadata": {
        "id": "_Ij5yGpbLYHj"
      }
    },
    {
      "cell_type": "code",
      "source": [
        "train_data = train_data.iloc.sample(frac=1)\n",
        "print(train_data.shape)\n",
        "train_data.head()"
      ],
      "metadata": {
        "colab": {
          "base_uri": "https://localhost:8080/",
          "height": 224
        },
        "id": "OJGAcHErLVEg",
        "outputId": "eab57abf-4471-453b-d49a-53abd8455027"
      },
      "execution_count": 8,
      "outputs": [
        {
          "output_type": "stream",
          "name": "stdout",
          "text": [
            "(10000, 6)\n"
          ]
        },
        {
          "output_type": "execute_result",
          "data": {
            "text/plain": [
              "          id    qid1    qid2  \\\n",
              "8817  189285  373719  373720   \n",
              "9511  225680  444791  444792   \n",
              "4364  259395  510502  510503   \n",
              "8563  228746  450782  450783   \n",
              "3122  389519  761434  761435   \n",
              "\n",
              "                                              question1  \\\n",
              "8817     what precautions should i take before marriage   \n",
              "9511  what is it like flying non stop from san franc...   \n",
              "4364  why does not an airplane traveling in the oppo...   \n",
              "8563            what is the male equivalent of mistress   \n",
              "3122               how does garlic help you lose weight   \n",
              "\n",
              "                                              question2  is_duplicate  \n",
              "8817                what precautions should take in flu             0  \n",
              "9511  what is it like moving from san francisco to o...             0  \n",
              "4364  would the earth start spinning faster if every...             0  \n",
              "8563             what is the male version of a mistress             1  \n",
              "3122       how can the garlic diet help you lose weight             1  "
            ],
            "text/html": [
              "\n",
              "  <div id=\"df-91340bfa-5440-43a7-a829-71e538b09cc5\">\n",
              "    <div class=\"colab-df-container\">\n",
              "      <div>\n",
              "<style scoped>\n",
              "    .dataframe tbody tr th:only-of-type {\n",
              "        vertical-align: middle;\n",
              "    }\n",
              "\n",
              "    .dataframe tbody tr th {\n",
              "        vertical-align: top;\n",
              "    }\n",
              "\n",
              "    .dataframe thead th {\n",
              "        text-align: right;\n",
              "    }\n",
              "</style>\n",
              "<table border=\"1\" class=\"dataframe\">\n",
              "  <thead>\n",
              "    <tr style=\"text-align: right;\">\n",
              "      <th></th>\n",
              "      <th>id</th>\n",
              "      <th>qid1</th>\n",
              "      <th>qid2</th>\n",
              "      <th>question1</th>\n",
              "      <th>question2</th>\n",
              "      <th>is_duplicate</th>\n",
              "    </tr>\n",
              "  </thead>\n",
              "  <tbody>\n",
              "    <tr>\n",
              "      <th>8817</th>\n",
              "      <td>189285</td>\n",
              "      <td>373719</td>\n",
              "      <td>373720</td>\n",
              "      <td>what precautions should i take before marriage</td>\n",
              "      <td>what precautions should take in flu</td>\n",
              "      <td>0</td>\n",
              "    </tr>\n",
              "    <tr>\n",
              "      <th>9511</th>\n",
              "      <td>225680</td>\n",
              "      <td>444791</td>\n",
              "      <td>444792</td>\n",
              "      <td>what is it like flying non stop from san franc...</td>\n",
              "      <td>what is it like moving from san francisco to o...</td>\n",
              "      <td>0</td>\n",
              "    </tr>\n",
              "    <tr>\n",
              "      <th>4364</th>\n",
              "      <td>259395</td>\n",
              "      <td>510502</td>\n",
              "      <td>510503</td>\n",
              "      <td>why does not an airplane traveling in the oppo...</td>\n",
              "      <td>would the earth start spinning faster if every...</td>\n",
              "      <td>0</td>\n",
              "    </tr>\n",
              "    <tr>\n",
              "      <th>8563</th>\n",
              "      <td>228746</td>\n",
              "      <td>450782</td>\n",
              "      <td>450783</td>\n",
              "      <td>what is the male equivalent of mistress</td>\n",
              "      <td>what is the male version of a mistress</td>\n",
              "      <td>1</td>\n",
              "    </tr>\n",
              "    <tr>\n",
              "      <th>3122</th>\n",
              "      <td>389519</td>\n",
              "      <td>761434</td>\n",
              "      <td>761435</td>\n",
              "      <td>how does garlic help you lose weight</td>\n",
              "      <td>how can the garlic diet help you lose weight</td>\n",
              "      <td>1</td>\n",
              "    </tr>\n",
              "  </tbody>\n",
              "</table>\n",
              "</div>\n",
              "      <button class=\"colab-df-convert\" onclick=\"convertToInteractive('df-91340bfa-5440-43a7-a829-71e538b09cc5')\"\n",
              "              title=\"Convert this dataframe to an interactive table.\"\n",
              "              style=\"display:none;\">\n",
              "        \n",
              "  <svg xmlns=\"http://www.w3.org/2000/svg\" height=\"24px\"viewBox=\"0 0 24 24\"\n",
              "       width=\"24px\">\n",
              "    <path d=\"M0 0h24v24H0V0z\" fill=\"none\"/>\n",
              "    <path d=\"M18.56 5.44l.94 2.06.94-2.06 2.06-.94-2.06-.94-.94-2.06-.94 2.06-2.06.94zm-11 1L8.5 8.5l.94-2.06 2.06-.94-2.06-.94L8.5 2.5l-.94 2.06-2.06.94zm10 10l.94 2.06.94-2.06 2.06-.94-2.06-.94-.94-2.06-.94 2.06-2.06.94z\"/><path d=\"M17.41 7.96l-1.37-1.37c-.4-.4-.92-.59-1.43-.59-.52 0-1.04.2-1.43.59L10.3 9.45l-7.72 7.72c-.78.78-.78 2.05 0 2.83L4 21.41c.39.39.9.59 1.41.59.51 0 1.02-.2 1.41-.59l7.78-7.78 2.81-2.81c.8-.78.8-2.07 0-2.86zM5.41 20L4 18.59l7.72-7.72 1.47 1.35L5.41 20z\"/>\n",
              "  </svg>\n",
              "      </button>\n",
              "      \n",
              "  <style>\n",
              "    .colab-df-container {\n",
              "      display:flex;\n",
              "      flex-wrap:wrap;\n",
              "      gap: 12px;\n",
              "    }\n",
              "\n",
              "    .colab-df-convert {\n",
              "      background-color: #E8F0FE;\n",
              "      border: none;\n",
              "      border-radius: 50%;\n",
              "      cursor: pointer;\n",
              "      display: none;\n",
              "      fill: #1967D2;\n",
              "      height: 32px;\n",
              "      padding: 0 0 0 0;\n",
              "      width: 32px;\n",
              "    }\n",
              "\n",
              "    .colab-df-convert:hover {\n",
              "      background-color: #E2EBFA;\n",
              "      box-shadow: 0px 1px 2px rgba(60, 64, 67, 0.3), 0px 1px 3px 1px rgba(60, 64, 67, 0.15);\n",
              "      fill: #174EA6;\n",
              "    }\n",
              "\n",
              "    [theme=dark] .colab-df-convert {\n",
              "      background-color: #3B4455;\n",
              "      fill: #D2E3FC;\n",
              "    }\n",
              "\n",
              "    [theme=dark] .colab-df-convert:hover {\n",
              "      background-color: #434B5C;\n",
              "      box-shadow: 0px 1px 3px 1px rgba(0, 0, 0, 0.15);\n",
              "      filter: drop-shadow(0px 1px 2px rgba(0, 0, 0, 0.3));\n",
              "      fill: #FFFFFF;\n",
              "    }\n",
              "  </style>\n",
              "\n",
              "      <script>\n",
              "        const buttonEl =\n",
              "          document.querySelector('#df-91340bfa-5440-43a7-a829-71e538b09cc5 button.colab-df-convert');\n",
              "        buttonEl.style.display =\n",
              "          google.colab.kernel.accessAllowed ? 'block' : 'none';\n",
              "\n",
              "        async function convertToInteractive(key) {\n",
              "          const element = document.querySelector('#df-91340bfa-5440-43a7-a829-71e538b09cc5');\n",
              "          const dataTable =\n",
              "            await google.colab.kernel.invokeFunction('convertToInteractive',\n",
              "                                                     [key], {});\n",
              "          if (!dataTable) return;\n",
              "\n",
              "          const docLinkHtml = 'Like what you see? Visit the ' +\n",
              "            '<a target=\"_blank\" href=https://colab.research.google.com/notebooks/data_table.ipynb>data table notebook</a>'\n",
              "            + ' to learn more about interactive tables.';\n",
              "          element.innerHTML = '';\n",
              "          dataTable['output_type'] = 'display_data';\n",
              "          await google.colab.output.renderOutput(dataTable, element);\n",
              "          const docLink = document.createElement('div');\n",
              "          docLink.innerHTML = docLinkHtml;\n",
              "          element.appendChild(docLink);\n",
              "        }\n",
              "      </script>\n",
              "    </div>\n",
              "  </div>\n",
              "  "
            ]
          },
          "metadata": {},
          "execution_count": 8
        }
      ]
    },
    {
      "cell_type": "markdown",
      "source": [
        "Test for similar words related to car using w2v model"
      ],
      "metadata": {
        "id": "H5dNiyMaTyeA"
      }
    },
    {
      "cell_type": "code",
      "source": [
        "w2v_model.wv.most_similar(positive=[\"car\"])"
      ],
      "metadata": {
        "id": "PV5liHIGt8DG"
      },
      "execution_count": null,
      "outputs": []
    },
    {
      "cell_type": "code",
      "source": [
        "# merge texts\n",
        "questions = list(train_data['question1'].astype('str')) + list(train_data['question2'].astype('str'))"
      ],
      "metadata": {
        "id": "gAxcOzcoyWuK"
      },
      "execution_count": null,
      "outputs": []
    },
    {
      "cell_type": "markdown",
      "source": [
        "Build a dcitionary of TFIDF Inverse Document Frequency of each word in Questions"
      ],
      "metadata": {
        "id": "SHWfu8Z7QGcK"
      }
    },
    {
      "cell_type": "code",
      "source": [
        "tfidf = TfidfVectorizer(lowercase=False, )\n",
        "tfidf.fit_transform(questions)\n",
        "\n",
        "# dict key:word and value: idf score\n",
        "word2tfidf = dict(zip(tfidf.get_feature_names(), tfidf.idf_))"
      ],
      "metadata": {
        "id": "WpnURrx_QF1e"
      },
      "execution_count": null,
      "outputs": []
    },
    {
      "cell_type": "code",
      "source": [
        "wrdsplitqs = []\n",
        "for row in questions: \n",
        "    wrdsplitqs.append([word for word in row.split()]) "
      ],
      "metadata": {
        "id": "63HnaU82yndA"
      },
      "execution_count": null,
      "outputs": []
    },
    {
      "cell_type": "code",
      "source": [
        "vec_data = []\n",
        "for row in tqdm(wrdsplitqs):\n",
        "    vec = np.zeros(300)\n",
        "    count = 0\n",
        "    for word in row:\n",
        "        try:\n",
        "            if word in w2v_model.vocab and word in word2tfidf.keys():\n",
        "                vec = vec + w2v_model.wv[word] * word2tfidf[str(word)] \n",
        "            elif word in w2v_model.vocab:\n",
        "                vec = vec + w2v_model.wv[word]   \n",
        "        except:\n",
        "            pass\n",
        "    vec_data.append(vec)"
      ],
      "metadata": {
        "colab": {
          "base_uri": "https://localhost:8080/"
        },
        "id": "6FisZdUUyoFm",
        "outputId": "9f4d8731-ed29-4d1d-faa1-f4e5a1ecf835"
      },
      "execution_count": null,
      "outputs": [
        {
          "output_type": "stream",
          "name": "stderr",
          "text": [
            "100%|██████████| 808574/808574 [01:19<00:00, 10216.50it/s]\n"
          ]
        }
      ]
    },
    {
      "cell_type": "code",
      "source": [
        "vec_data[0]"
      ],
      "metadata": {
        "colab": {
          "base_uri": "https://localhost:8080/"
        },
        "id": "AZfJ0VxzzXY1",
        "outputId": "c457aa1a-9a3c-4adf-a90e-67c7ef6d66d6"
      },
      "execution_count": null,
      "outputs": [
        {
          "output_type": "execute_result",
          "data": {
            "text/plain": [
              "array([-2.64756166e+00,  2.98120700e-01,  1.63515972e+00,  7.40797210e-01,\n",
              "       -3.70741445e+00, -2.81723122e-01,  8.46178919e-01,  7.45186806e-01,\n",
              "        5.32213658e-01,  1.41615291e+00,  2.67585093e+00, -1.91063248e+00,\n",
              "       -1.30778195e+00,  1.23978875e+00,  1.60769388e+00,  2.13650393e+00,\n",
              "        4.91902448e+00,  1.90165055e+00,  1.09997220e+00, -2.98896279e+00,\n",
              "       -7.11376011e-01,  7.74468658e-01,  7.30547383e-02, -2.44776157e+00,\n",
              "       -2.52327181e+00,  9.12874848e-01, -1.40157612e+00,  2.33302224e+00,\n",
              "        1.61958383e+00,  6.66095823e-01,  3.51431381e-01,  1.47423541e+00,\n",
              "       -1.14273489e-01, -2.03783244e+00, -1.17895104e+00, -9.58985388e-01,\n",
              "       -1.76264587e+00,  1.34812831e+00, -4.79343832e-01, -1.66913867e-01,\n",
              "       -1.53716091e-01,  6.10852614e-02,  1.93080746e-01,  8.32343102e-01,\n",
              "       -1.84813865e+00, -3.66646503e+00,  1.16190536e+00, -6.90199482e-01,\n",
              "        1.33499914e+00,  2.55793700e+00,  2.62729591e+00,  2.46838731e+00,\n",
              "       -2.11451723e+00,  1.82523568e+00, -3.23528831e+00, -2.40456010e+00,\n",
              "        1.06506182e+00, -9.96193282e-01,  2.14051478e-01, -1.15096688e-01,\n",
              "        2.06770617e+00,  2.60869190e+00, -2.38711073e+00, -1.11859528e+00,\n",
              "        5.16016890e+00, -1.27340642e+00, -1.60740721e+00, -3.55027803e+00,\n",
              "        2.22055484e+00,  4.64251764e-01,  1.49340689e-01,  5.80481897e+00,\n",
              "        3.54184929e+00,  2.79965077e+00, -2.46922551e+00, -5.53544253e-01,\n",
              "        1.06966522e+00,  1.63672250e+00,  3.64825214e-01,  6.94602154e+00,\n",
              "        6.55275233e-01, -6.54939206e-01, -1.18315136e+00,  2.03122466e+00,\n",
              "       -2.08618810e+00,  4.68145784e-01, -6.54374239e+00,  3.14359730e+00,\n",
              "        1.66670051e+00,  1.00625821e+00, -8.01683158e-01, -8.08790505e-01,\n",
              "       -4.82485238e+00, -1.62786265e+00, -1.27687418e+00, -1.35573414e+00,\n",
              "        3.21856296e+00, -2.04328835e-01,  3.63839664e+00, -1.29247600e+00,\n",
              "       -5.38961738e-02,  1.90760317e+00,  2.28714809e-01, -9.67449918e-01,\n",
              "       -5.34712434e-01, -9.17728508e-01,  5.22456640e-01, -4.26817465e+00,\n",
              "        1.11498684e-03, -1.34487171e+00, -3.72682222e+00, -3.76924487e+00,\n",
              "       -5.27806990e-01, -1.05331877e+00,  2.10623975e+00, -4.64856423e-01,\n",
              "        2.57769571e+00, -2.10774614e+00,  6.10886831e+00,  2.14355156e+00,\n",
              "       -5.94450954e+00,  4.29588243e-01, -3.03763585e+00,  1.44789754e+00,\n",
              "        6.75137833e-01, -1.21176351e+00, -8.18786196e-01,  4.50802030e+00,\n",
              "       -1.91122465e+00, -1.61468560e+00,  1.92123797e+00, -5.24617778e+00,\n",
              "       -8.16202204e+00,  2.54005179e+00, -7.21898119e-01,  1.79514565e+00,\n",
              "        3.22346684e+00, -8.15957859e-01,  4.88747966e-01, -5.10217671e-01,\n",
              "        3.95530365e+00, -2.63238799e-01,  1.31678097e+00, -2.69124362e+00,\n",
              "        2.33126992e+00,  8.55922669e-01, -3.18523079e-01,  1.73991026e+00,\n",
              "       -2.27567783e+00, -2.14543678e+00,  4.75821560e+00, -8.12511399e-01,\n",
              "        3.41976702e-01,  1.26007988e+00, -2.19794904e+00, -5.31382762e-01,\n",
              "       -4.27324821e+00, -5.88172215e+00,  2.81470826e+00, -8.79805413e+00,\n",
              "        2.49793887e-01,  2.27207498e+00,  4.53868751e+00,  3.99040869e+00,\n",
              "       -2.06973528e+00, -1.12774462e+00, -8.70007952e-02,  1.48633505e+00,\n",
              "       -1.41538179e+00, -2.29467676e+00,  2.90740237e-01, -1.99970645e+00,\n",
              "        8.75089099e-01, -1.04585987e+00, -2.51920499e-01,  1.75746994e+00,\n",
              "       -5.34721427e-02, -5.47840968e-01, -4.88197785e+00, -6.78126559e-01,\n",
              "       -2.87839688e+00, -2.38943630e+00,  7.51623642e-02, -2.47843566e+00,\n",
              "       -2.62130211e+00, -2.95148516e+00, -2.10722356e+00,  2.53890294e+00,\n",
              "        1.19159651e+00,  2.79804842e+00,  4.82923435e+00,  2.02469744e+00,\n",
              "       -4.96022217e-01, -5.73263273e-01, -2.27652412e+00,  2.05962731e+00,\n",
              "       -6.40555938e+00, -2.15034161e+00, -1.03525349e+00,  4.44879875e-01,\n",
              "        6.83340877e-02,  3.48255768e-01, -1.46049616e+00, -4.03318092e-01,\n",
              "       -7.37077698e-01, -2.89410862e+00, -1.21668178e+00, -3.96651643e+00,\n",
              "       -8.22020042e-01, -1.91831297e+00, -9.05595145e+00,  5.91816459e+00,\n",
              "        1.22043331e+00, -1.29128318e+00,  8.60421974e-01,  1.29257170e+00,\n",
              "        5.53195089e+00,  3.07667798e+00, -4.00234326e+00, -1.35249278e+00,\n",
              "       -3.94470976e+00,  1.48301642e+00, -2.07226357e+00,  1.83763728e-02,\n",
              "        3.04855791e-01, -8.86639334e-01,  2.04129519e+00,  1.22489945e+00,\n",
              "       -2.74110433e+00, -2.06018401e+00, -3.51146653e-01,  1.18298682e+00,\n",
              "       -3.36446696e+00,  3.86264470e+00,  3.26722927e-01, -2.77016614e+00,\n",
              "        1.95326731e-02, -2.02844414e+00,  1.15156274e-01,  4.79674470e+00,\n",
              "        3.38667969e+00, -8.64887133e-01, -4.68163177e-01, -1.19048634e+00,\n",
              "       -1.34881625e+00,  6.90208212e-01,  2.72091781e+00,  8.52019563e-01,\n",
              "       -6.29775696e-01, -1.92687691e+00, -3.94275804e+00,  1.50438201e+00,\n",
              "        4.53977378e+00,  1.00155905e-01,  5.65247437e+00, -1.27905755e+00,\n",
              "        3.77387291e+00,  2.71785157e+00, -1.81810103e+00,  2.98981357e-01,\n",
              "       -2.67547657e+00, -3.23952519e+00, -3.33603530e+00,  3.72495789e+00,\n",
              "        2.33757554e+00,  2.91722341e+00,  2.23552741e+00,  5.29207140e-02,\n",
              "       -1.30803486e+00, -2.64885648e+00, -5.04436634e-01,  1.87741895e+00,\n",
              "        5.03201023e-01,  3.99244324e+00,  1.63515229e+00, -1.10853124e+00,\n",
              "       -4.81253574e+00, -2.57333596e+00, -6.35322779e-02,  2.63774160e+00,\n",
              "        5.37478926e+00, -1.42202255e+00,  1.01086567e+00,  5.51994515e+00,\n",
              "       -8.04913744e-01, -3.77060623e+00, -2.14486094e+00, -2.14644600e+00,\n",
              "       -9.56077030e-01, -1.49598172e-01,  3.07501838e+00, -1.94314750e+00,\n",
              "       -4.23740451e+00, -7.71658093e-01, -1.15063759e+00,  7.12901851e-01,\n",
              "        3.44361966e+00,  6.55062858e+00,  9.55514804e-01,  2.07677114e+00])"
            ]
          },
          "metadata": {},
          "execution_count": 12
        }
      ]
    },
    {
      "cell_type": "code",
      "source": [
        "length = len(vec_data)\n",
        "half = int(length/2)\n",
        "first_half = vec_data[:half]\n",
        "second_half = vec_data[length-half:]"
      ],
      "metadata": {
        "id": "4i3JiJJ5yw-X"
      },
      "execution_count": null,
      "outputs": []
    },
    {
      "cell_type": "code",
      "source": [
        "q1_arry = np.array(first_half)\n",
        "q2_arry = np.array(second_half)"
      ],
      "metadata": {
        "id": "BZsmlIaSy0Lp"
      },
      "execution_count": null,
      "outputs": []
    },
    {
      "cell_type": "code",
      "source": [
        "q1_arry.shape, q2_arry.shape"
      ],
      "metadata": {
        "colab": {
          "base_uri": "https://localhost:8080/"
        },
        "id": "2-F5KJXNy2z9",
        "outputId": "6da5c534-9c4a-402c-9e3d-eef334e3c628"
      },
      "execution_count": null,
      "outputs": [
        {
          "output_type": "execute_result",
          "data": {
            "text/plain": [
              "((404287, 300), (404287, 300))"
            ]
          },
          "metadata": {},
          "execution_count": 15
        }
      ]
    },
    {
      "cell_type": "code",
      "source": [
        "tem_df1 = pd.DataFrame(q1_arry, index= train_data.index)\n",
        "tem_df2 = pd.DataFrame(q2_arry, index= train_data.index)\n",
        "tem_df = pd.concat([tem_df1, tem_df2], axis=1)"
      ],
      "metadata": {
        "id": "O2SaVAoozp_t"
      },
      "execution_count": null,
      "outputs": []
    },
    {
      "cell_type": "code",
      "source": [
        "final_df = pd.concat([tem_df, train_data['is_duplicate']], axis=1)\n",
        "final_df.head()"
      ],
      "metadata": {
        "colab": {
          "base_uri": "https://localhost:8080/",
          "height": 299
        },
        "id": "RA2C_3ML0T_9",
        "outputId": "05e3f93d-dff7-473f-ba2f-1d89e4b6f49b"
      },
      "execution_count": null,
      "outputs": [
        {
          "output_type": "execute_result",
          "data": {
            "text/plain": [
              "               0         1         2          3          4         5  \\\n",
              "102699 -2.647562  0.298121  1.635160   0.740797  -3.707414 -0.281723   \n",
              "386983 -0.633444 -1.609805 -0.404038  11.448592   0.920526 -0.284155   \n",
              "1885    2.376750  1.770790  5.878913   2.620081  -9.103543 -3.841476   \n",
              "180528  1.722917  3.225685  1.782853   7.503135  -8.700540  4.773866   \n",
              "281521 -0.270409  5.183115  2.726862  12.957077 -10.552280  4.146319   \n",
              "\n",
              "               6         7         8         9  ...        291        292  \\\n",
              "102699  0.846179  0.745187  0.532214  1.416153  ...  -1.142046  -4.453843   \n",
              "386983  0.793558  3.088445  2.404882  2.251312  ...   5.025103 -10.137586   \n",
              "1885    3.437771 -3.945854  4.333862  2.568056  ...   2.057739  -4.869936   \n",
              "180528  1.736932 -2.621658  5.459938  4.399462  ...  13.649240   5.970926   \n",
              "281521 -0.189036 -5.905433  1.736106  4.915067  ...   1.619101  -2.918767   \n",
              "\n",
              "             293       294        295       296       297        298  \\\n",
              "102699 -1.108866 -0.189206   0.965213  4.447909  4.623130   2.336949   \n",
              "386983 -4.286212 -0.670638   1.397818  3.458420 -2.370034   2.054059   \n",
              "1885    9.625833 -6.007779  -0.745526 -5.478261  0.831022   3.010750   \n",
              "180528  4.135979 -1.966009  10.948300 -2.331280  1.320212  16.936270   \n",
              "281521  0.746544  0.950727  -0.288510 -2.543471 -7.734882   3.445876   \n",
              "\n",
              "             299  is_duplicate  \n",
              "102699  0.582702             1  \n",
              "386983  4.330425             1  \n",
              "1885    0.745225             0  \n",
              "180528 -3.200964             0  \n",
              "281521  1.697702             1  \n",
              "\n",
              "[5 rows x 601 columns]"
            ],
            "text/html": [
              "\n",
              "  <div id=\"df-88e63035-fce9-417b-9703-953072cf3fd4\">\n",
              "    <div class=\"colab-df-container\">\n",
              "      <div>\n",
              "<style scoped>\n",
              "    .dataframe tbody tr th:only-of-type {\n",
              "        vertical-align: middle;\n",
              "    }\n",
              "\n",
              "    .dataframe tbody tr th {\n",
              "        vertical-align: top;\n",
              "    }\n",
              "\n",
              "    .dataframe thead th {\n",
              "        text-align: right;\n",
              "    }\n",
              "</style>\n",
              "<table border=\"1\" class=\"dataframe\">\n",
              "  <thead>\n",
              "    <tr style=\"text-align: right;\">\n",
              "      <th></th>\n",
              "      <th>0</th>\n",
              "      <th>1</th>\n",
              "      <th>2</th>\n",
              "      <th>3</th>\n",
              "      <th>4</th>\n",
              "      <th>5</th>\n",
              "      <th>6</th>\n",
              "      <th>7</th>\n",
              "      <th>8</th>\n",
              "      <th>9</th>\n",
              "      <th>...</th>\n",
              "      <th>291</th>\n",
              "      <th>292</th>\n",
              "      <th>293</th>\n",
              "      <th>294</th>\n",
              "      <th>295</th>\n",
              "      <th>296</th>\n",
              "      <th>297</th>\n",
              "      <th>298</th>\n",
              "      <th>299</th>\n",
              "      <th>is_duplicate</th>\n",
              "    </tr>\n",
              "  </thead>\n",
              "  <tbody>\n",
              "    <tr>\n",
              "      <th>102699</th>\n",
              "      <td>-2.647562</td>\n",
              "      <td>0.298121</td>\n",
              "      <td>1.635160</td>\n",
              "      <td>0.740797</td>\n",
              "      <td>-3.707414</td>\n",
              "      <td>-0.281723</td>\n",
              "      <td>0.846179</td>\n",
              "      <td>0.745187</td>\n",
              "      <td>0.532214</td>\n",
              "      <td>1.416153</td>\n",
              "      <td>...</td>\n",
              "      <td>-1.142046</td>\n",
              "      <td>-4.453843</td>\n",
              "      <td>-1.108866</td>\n",
              "      <td>-0.189206</td>\n",
              "      <td>0.965213</td>\n",
              "      <td>4.447909</td>\n",
              "      <td>4.623130</td>\n",
              "      <td>2.336949</td>\n",
              "      <td>0.582702</td>\n",
              "      <td>1</td>\n",
              "    </tr>\n",
              "    <tr>\n",
              "      <th>386983</th>\n",
              "      <td>-0.633444</td>\n",
              "      <td>-1.609805</td>\n",
              "      <td>-0.404038</td>\n",
              "      <td>11.448592</td>\n",
              "      <td>0.920526</td>\n",
              "      <td>-0.284155</td>\n",
              "      <td>0.793558</td>\n",
              "      <td>3.088445</td>\n",
              "      <td>2.404882</td>\n",
              "      <td>2.251312</td>\n",
              "      <td>...</td>\n",
              "      <td>5.025103</td>\n",
              "      <td>-10.137586</td>\n",
              "      <td>-4.286212</td>\n",
              "      <td>-0.670638</td>\n",
              "      <td>1.397818</td>\n",
              "      <td>3.458420</td>\n",
              "      <td>-2.370034</td>\n",
              "      <td>2.054059</td>\n",
              "      <td>4.330425</td>\n",
              "      <td>1</td>\n",
              "    </tr>\n",
              "    <tr>\n",
              "      <th>1885</th>\n",
              "      <td>2.376750</td>\n",
              "      <td>1.770790</td>\n",
              "      <td>5.878913</td>\n",
              "      <td>2.620081</td>\n",
              "      <td>-9.103543</td>\n",
              "      <td>-3.841476</td>\n",
              "      <td>3.437771</td>\n",
              "      <td>-3.945854</td>\n",
              "      <td>4.333862</td>\n",
              "      <td>2.568056</td>\n",
              "      <td>...</td>\n",
              "      <td>2.057739</td>\n",
              "      <td>-4.869936</td>\n",
              "      <td>9.625833</td>\n",
              "      <td>-6.007779</td>\n",
              "      <td>-0.745526</td>\n",
              "      <td>-5.478261</td>\n",
              "      <td>0.831022</td>\n",
              "      <td>3.010750</td>\n",
              "      <td>0.745225</td>\n",
              "      <td>0</td>\n",
              "    </tr>\n",
              "    <tr>\n",
              "      <th>180528</th>\n",
              "      <td>1.722917</td>\n",
              "      <td>3.225685</td>\n",
              "      <td>1.782853</td>\n",
              "      <td>7.503135</td>\n",
              "      <td>-8.700540</td>\n",
              "      <td>4.773866</td>\n",
              "      <td>1.736932</td>\n",
              "      <td>-2.621658</td>\n",
              "      <td>5.459938</td>\n",
              "      <td>4.399462</td>\n",
              "      <td>...</td>\n",
              "      <td>13.649240</td>\n",
              "      <td>5.970926</td>\n",
              "      <td>4.135979</td>\n",
              "      <td>-1.966009</td>\n",
              "      <td>10.948300</td>\n",
              "      <td>-2.331280</td>\n",
              "      <td>1.320212</td>\n",
              "      <td>16.936270</td>\n",
              "      <td>-3.200964</td>\n",
              "      <td>0</td>\n",
              "    </tr>\n",
              "    <tr>\n",
              "      <th>281521</th>\n",
              "      <td>-0.270409</td>\n",
              "      <td>5.183115</td>\n",
              "      <td>2.726862</td>\n",
              "      <td>12.957077</td>\n",
              "      <td>-10.552280</td>\n",
              "      <td>4.146319</td>\n",
              "      <td>-0.189036</td>\n",
              "      <td>-5.905433</td>\n",
              "      <td>1.736106</td>\n",
              "      <td>4.915067</td>\n",
              "      <td>...</td>\n",
              "      <td>1.619101</td>\n",
              "      <td>-2.918767</td>\n",
              "      <td>0.746544</td>\n",
              "      <td>0.950727</td>\n",
              "      <td>-0.288510</td>\n",
              "      <td>-2.543471</td>\n",
              "      <td>-7.734882</td>\n",
              "      <td>3.445876</td>\n",
              "      <td>1.697702</td>\n",
              "      <td>1</td>\n",
              "    </tr>\n",
              "  </tbody>\n",
              "</table>\n",
              "<p>5 rows × 601 columns</p>\n",
              "</div>\n",
              "      <button class=\"colab-df-convert\" onclick=\"convertToInteractive('df-88e63035-fce9-417b-9703-953072cf3fd4')\"\n",
              "              title=\"Convert this dataframe to an interactive table.\"\n",
              "              style=\"display:none;\">\n",
              "        \n",
              "  <svg xmlns=\"http://www.w3.org/2000/svg\" height=\"24px\"viewBox=\"0 0 24 24\"\n",
              "       width=\"24px\">\n",
              "    <path d=\"M0 0h24v24H0V0z\" fill=\"none\"/>\n",
              "    <path d=\"M18.56 5.44l.94 2.06.94-2.06 2.06-.94-2.06-.94-.94-2.06-.94 2.06-2.06.94zm-11 1L8.5 8.5l.94-2.06 2.06-.94-2.06-.94L8.5 2.5l-.94 2.06-2.06.94zm10 10l.94 2.06.94-2.06 2.06-.94-2.06-.94-.94-2.06-.94 2.06-2.06.94z\"/><path d=\"M17.41 7.96l-1.37-1.37c-.4-.4-.92-.59-1.43-.59-.52 0-1.04.2-1.43.59L10.3 9.45l-7.72 7.72c-.78.78-.78 2.05 0 2.83L4 21.41c.39.39.9.59 1.41.59.51 0 1.02-.2 1.41-.59l7.78-7.78 2.81-2.81c.8-.78.8-2.07 0-2.86zM5.41 20L4 18.59l7.72-7.72 1.47 1.35L5.41 20z\"/>\n",
              "  </svg>\n",
              "      </button>\n",
              "      \n",
              "  <style>\n",
              "    .colab-df-container {\n",
              "      display:flex;\n",
              "      flex-wrap:wrap;\n",
              "      gap: 12px;\n",
              "    }\n",
              "\n",
              "    .colab-df-convert {\n",
              "      background-color: #E8F0FE;\n",
              "      border: none;\n",
              "      border-radius: 50%;\n",
              "      cursor: pointer;\n",
              "      display: none;\n",
              "      fill: #1967D2;\n",
              "      height: 32px;\n",
              "      padding: 0 0 0 0;\n",
              "      width: 32px;\n",
              "    }\n",
              "\n",
              "    .colab-df-convert:hover {\n",
              "      background-color: #E2EBFA;\n",
              "      box-shadow: 0px 1px 2px rgba(60, 64, 67, 0.3), 0px 1px 3px 1px rgba(60, 64, 67, 0.15);\n",
              "      fill: #174EA6;\n",
              "    }\n",
              "\n",
              "    [theme=dark] .colab-df-convert {\n",
              "      background-color: #3B4455;\n",
              "      fill: #D2E3FC;\n",
              "    }\n",
              "\n",
              "    [theme=dark] .colab-df-convert:hover {\n",
              "      background-color: #434B5C;\n",
              "      box-shadow: 0px 1px 3px 1px rgba(0, 0, 0, 0.15);\n",
              "      filter: drop-shadow(0px 1px 2px rgba(0, 0, 0, 0.3));\n",
              "      fill: #FFFFFF;\n",
              "    }\n",
              "  </style>\n",
              "\n",
              "      <script>\n",
              "        const buttonEl =\n",
              "          document.querySelector('#df-88e63035-fce9-417b-9703-953072cf3fd4 button.colab-df-convert');\n",
              "        buttonEl.style.display =\n",
              "          google.colab.kernel.accessAllowed ? 'block' : 'none';\n",
              "\n",
              "        async function convertToInteractive(key) {\n",
              "          const element = document.querySelector('#df-88e63035-fce9-417b-9703-953072cf3fd4');\n",
              "          const dataTable =\n",
              "            await google.colab.kernel.invokeFunction('convertToInteractive',\n",
              "                                                     [key], {});\n",
              "          if (!dataTable) return;\n",
              "\n",
              "          const docLinkHtml = 'Like what you see? Visit the ' +\n",
              "            '<a target=\"_blank\" href=https://colab.research.google.com/notebooks/data_table.ipynb>data table notebook</a>'\n",
              "            + ' to learn more about interactive tables.';\n",
              "          element.innerHTML = '';\n",
              "          dataTable['output_type'] = 'display_data';\n",
              "          await google.colab.output.renderOutput(dataTable, element);\n",
              "          const docLink = document.createElement('div');\n",
              "          docLink.innerHTML = docLinkHtml;\n",
              "          element.appendChild(docLink);\n",
              "        }\n",
              "      </script>\n",
              "    </div>\n",
              "  </div>\n",
              "  "
            ]
          },
          "metadata": {},
          "execution_count": 17
        }
      ]
    },
    {
      "cell_type": "code",
      "source": [
        "import gc\n",
        "del(w2v_model)\n",
        "del(train_data_tmp)\n",
        "del(wrdsplitqs)\n",
        "del(word2tfidf)\n",
        "del(tfidf)\n",
        "del(vec_data)\n",
        "del(q1_arry)\n",
        "del(q2_arry)\n",
        "del(tem_df)\n",
        "del(tem_df1)\n",
        "del(tem_df2)\n",
        "gc.collect()"
      ],
      "metadata": {
        "colab": {
          "base_uri": "https://localhost:8080/"
        },
        "id": "Pb8jZsBuH4Mc",
        "outputId": "714ae497-cf39-4d78-848c-b3c86110d9c8"
      },
      "execution_count": null,
      "outputs": [
        {
          "output_type": "execute_result",
          "data": {
            "text/plain": [
              "80"
            ]
          },
          "metadata": {},
          "execution_count": 18
        }
      ]
    },
    {
      "cell_type": "code",
      "source": [
        "sentences = final_df.iloc[:,:-1].values\n",
        "#y = final_df['is_duplicate'].values\n",
        "y = pd.DataFrame(data=final_df.is_duplicate)"
      ],
      "metadata": {
        "id": "taXb9ALck1Jx"
      },
      "execution_count": null,
      "outputs": []
    },
    {
      "cell_type": "code",
      "source": [
        "questions_train, questions_test, y_train, y_test = train_test_split(sentences, y, test_size=0.2, random_state=42)"
      ],
      "metadata": {
        "id": "pWRTyt6mweE4"
      },
      "execution_count": null,
      "outputs": []
    },
    {
      "cell_type": "code",
      "source": [
        "from sklearn import metrics\n",
        "import matplotlib.pyplot as plt\n",
        "import seaborn as sns\n",
        "\n",
        "# This function plots the confusion matrices given y_i, y_i_hat.\n",
        "def plot_confusion_matrix(test_y, predict_y):\n",
        "    C = metrics.confusion_matrix(test_y, predict_y)\n",
        "    # C = 9,9 matrix, each cell (i,j) represents number of points of class i are predicted class j\n",
        "    \n",
        "    A =(((C.T)/(C.sum(axis=1))).T)\n",
        "    #divide each element of the confusion matrix with the sum of elements in that column\n",
        "    \n",
        "    B =(C/C.sum(axis=0))\n",
        "    #divide each element of the confusion matrix with the sum of elements in that row\n",
        "    \n",
        "    plt.figure(figsize=(20,4))\n",
        "    labels = [0,1]\n",
        "    # representing A in heatmap format\n",
        "    cmap=sns.light_palette(\"blue\")\n",
        "    plt.subplot(1, 3, 1)\n",
        "    sns.heatmap(C, annot=True, cmap=cmap, fmt=\".3f\", xticklabels=labels, yticklabels=labels)\n",
        "    plt.xlabel('Predicted Class')\n",
        "    plt.ylabel('Original Class')\n",
        "    plt.title(\"Confusion matrix\")\n",
        "    \n",
        "    plt.subplot(1, 3, 2)\n",
        "    sns.heatmap(B, annot=True, cmap=cmap, fmt=\".3f\", xticklabels=labels, yticklabels=labels)\n",
        "    plt.xlabel('Predicted Class')\n",
        "    plt.ylabel('Original Class')\n",
        "    plt.title(\"Precision matrix\")\n",
        "    \n",
        "    plt.subplot(1, 3, 3)\n",
        "    # representing B in heatmap format\n",
        "    sns.heatmap(A, annot=True, cmap=cmap, fmt=\".3f\", xticklabels=labels, yticklabels=labels)\n",
        "    plt.xlabel('Predicted Class')\n",
        "    plt.ylabel('Original Class')\n",
        "    plt.title(\"Recall matrix\")\n",
        "    \n",
        "    plt.show()"
      ],
      "metadata": {
        "id": "NZU2K856M7et"
      },
      "execution_count": null,
      "outputs": []
    },
    {
      "cell_type": "code",
      "source": [
        "from sklearn.metrics import precision_score, recall_score, confusion_matrix, classification_report, accuracy_score, f1_score\n",
        "\n",
        "def print_modelpred_metrics(y_test,y_pred):\n",
        "    prediction = np.round(abs(y_pred))\n",
        "    print ('Accuracy:  ', accuracy_score(y_test, prediction))\n",
        "    print ('F1 score:  ', f1_score(y_test, prediction))\n",
        "    print ('Recall:    ', recall_score(y_test, prediction))\n",
        "    print ('Precision: ', precision_score(y_test, prediction))\n",
        "    print ('\\nclasification report:\\n\\n', classification_report(y_test,prediction))\n",
        "    print ('\\n confusion matrix:\\n\\n',confusion_matrix(y_test, prediction))"
      ],
      "metadata": {
        "id": "O8lsjSRjNAqA"
      },
      "execution_count": null,
      "outputs": []
    },
    {
      "cell_type": "code",
      "source": [
        "from sklearn.preprocessing import StandardScaler\n",
        "scaler = StandardScaler()\n",
        "questions_train = scaler.fit_transform(questions_train)"
      ],
      "metadata": {
        "id": "8Vew7O6_IMvs"
      },
      "execution_count": null,
      "outputs": []
    },
    {
      "cell_type": "code",
      "source": [
        "X_1_train, X_2_train = questions_train[:,:300],questions_train[:,300:]\n",
        "X_1_train.shape,X_2_train.shape"
      ],
      "metadata": {
        "colab": {
          "base_uri": "https://localhost:8080/"
        },
        "id": "7JdPP5S0AR4T",
        "outputId": "e9bafed8-afe7-4989-d04a-68a585c5519f"
      },
      "execution_count": null,
      "outputs": [
        {
          "output_type": "execute_result",
          "data": {
            "text/plain": [
              "((323429, 300), (323429, 300))"
            ]
          },
          "metadata": {},
          "execution_count": 24
        }
      ]
    },
    {
      "cell_type": "code",
      "source": [
        "del(final_df)\n",
        "del(questions_train)\n",
        "del(sentences)\n",
        "gc.collect()"
      ],
      "metadata": {
        "colab": {
          "base_uri": "https://localhost:8080/"
        },
        "id": "CX4emGVfHvnj",
        "outputId": "70ef2b56-e735-4ca6-9599-31e7c5d79d8f"
      },
      "execution_count": null,
      "outputs": [
        {
          "output_type": "execute_result",
          "data": {
            "text/plain": [
              "241"
            ]
          },
          "metadata": {},
          "execution_count": 25
        }
      ]
    },
    {
      "cell_type": "code",
      "source": [
        "from keras import layers\n",
        "from keras.models import Input, Model, Sequential\n",
        "from keras.layers import Concatenate, Dense, Activation, Dropout\n",
        "from keras.callbacks import EarlyStopping\n",
        "\n",
        "ishape = X_1_train.shape[1]\n",
        "inputs1 = Input(shape=ishape)\n",
        "inputs2 = Input(shape=ishape)\n",
        "\n",
        "sharedBranch = layers.Dense(300, activation=\"tanh\")\n",
        "\n",
        "branch1 = sharedBranch(inputs1)\n",
        "branch2 = sharedBranch(inputs2)\n",
        "\n",
        "concatenated1 = Concatenate( name='Concatenate_1')([branch1,branch2])\n",
        "\n",
        "final_model = layers.Dense(128, activation=\"relu\")(concatenated1)\n",
        "final_model = layers.Dropout(0.2)(final_model)\n",
        "final_model = layers.Dense(64, activation=\"relu\")(final_model)\n",
        "final_model = layers.Dropout(0.2)(final_model)\n",
        "output = layers.Dense(1, activation=\"sigmoid\")(final_model)\n",
        "\n",
        "mainmodel = Model(inputs=[inputs1,inputs2], outputs=output)"
      ],
      "metadata": {
        "id": "xUtC6oQRAOqn"
      },
      "execution_count": null,
      "outputs": []
    },
    {
      "cell_type": "code",
      "source": [
        "mainmodel.compile(optimizer='adam', loss='binary_crossentropy', metrics=['accuracy'])"
      ],
      "metadata": {
        "id": "eu47HJeAKHSh"
      },
      "execution_count": null,
      "outputs": []
    },
    {
      "cell_type": "code",
      "source": [
        "early = EarlyStopping(monitor='val_accuracy', min_delta=0, patience=5, verbose=0, mode='auto')\n",
        "history = mainmodel.fit([X_1_train, X_2_train], y_train, batch_size=100, epochs=20, verbose=1,callbacks=[early], validation_split=0.1)"
      ],
      "metadata": {
        "colab": {
          "base_uri": "https://localhost:8080/"
        },
        "id": "ADaxMU90KLbx",
        "outputId": "d3358e15-9d02-4440-df67-b96bce0cb214"
      },
      "execution_count": null,
      "outputs": [
        {
          "output_type": "stream",
          "name": "stdout",
          "text": [
            "Epoch 1/20\n",
            "2911/2911 [==============================] - 12s 3ms/step - loss: 0.5095 - accuracy: 0.7376 - val_loss: 0.4608 - val_accuracy: 0.7696\n",
            "Epoch 2/20\n",
            "2911/2911 [==============================] - 10s 3ms/step - loss: 0.4520 - accuracy: 0.7744 - val_loss: 0.4386 - val_accuracy: 0.7864\n",
            "Epoch 3/20\n",
            "2911/2911 [==============================] - 10s 3ms/step - loss: 0.4202 - accuracy: 0.7947 - val_loss: 0.4291 - val_accuracy: 0.7865\n",
            "Epoch 4/20\n",
            "2911/2911 [==============================] - 10s 3ms/step - loss: 0.3942 - accuracy: 0.8106 - val_loss: 0.4199 - val_accuracy: 0.7959\n",
            "Epoch 5/20\n",
            "2911/2911 [==============================] - 10s 3ms/step - loss: 0.3713 - accuracy: 0.8247 - val_loss: 0.4111 - val_accuracy: 0.7999\n",
            "Epoch 6/20\n",
            "2911/2911 [==============================] - 10s 3ms/step - loss: 0.3497 - accuracy: 0.8352 - val_loss: 0.4165 - val_accuracy: 0.8019\n",
            "Epoch 7/20\n",
            "2911/2911 [==============================] - 10s 3ms/step - loss: 0.3312 - accuracy: 0.8459 - val_loss: 0.4169 - val_accuracy: 0.8038\n",
            "Epoch 8/20\n",
            "2911/2911 [==============================] - 10s 3ms/step - loss: 0.3132 - accuracy: 0.8556 - val_loss: 0.4196 - val_accuracy: 0.8077\n",
            "Epoch 9/20\n",
            "2911/2911 [==============================] - 10s 3ms/step - loss: 0.2981 - accuracy: 0.8634 - val_loss: 0.4222 - val_accuracy: 0.8073\n",
            "Epoch 10/20\n",
            "2911/2911 [==============================] - 10s 3ms/step - loss: 0.2829 - accuracy: 0.8717 - val_loss: 0.4323 - val_accuracy: 0.8093\n",
            "Epoch 11/20\n",
            "2911/2911 [==============================] - 9s 3ms/step - loss: 0.2701 - accuracy: 0.8780 - val_loss: 0.4469 - val_accuracy: 0.8068\n",
            "Epoch 12/20\n",
            "2911/2911 [==============================] - 10s 3ms/step - loss: 0.2596 - accuracy: 0.8840 - val_loss: 0.4705 - val_accuracy: 0.8054\n",
            "Epoch 13/20\n",
            "2911/2911 [==============================] - 10s 3ms/step - loss: 0.2478 - accuracy: 0.8892 - val_loss: 0.4551 - val_accuracy: 0.8081\n",
            "Epoch 14/20\n",
            "2911/2911 [==============================] - 9s 3ms/step - loss: 0.2390 - accuracy: 0.8941 - val_loss: 0.4875 - val_accuracy: 0.8079\n",
            "Epoch 15/20\n",
            "2911/2911 [==============================] - 10s 3ms/step - loss: 0.2298 - accuracy: 0.8986 - val_loss: 0.4775 - val_accuracy: 0.8090\n"
          ]
        }
      ]
    },
    {
      "cell_type": "code",
      "source": [
        "questions_test = scaler.transform(questions_test)"
      ],
      "metadata": {
        "id": "QOtEwr0yVW8Y"
      },
      "execution_count": null,
      "outputs": []
    },
    {
      "cell_type": "code",
      "source": [
        "X_1_test, X_2_test = questions_test[:,:300],questions_test[:,300:]\n",
        "X_1_test.shape,X_2_test.shape"
      ],
      "metadata": {
        "colab": {
          "base_uri": "https://localhost:8080/"
        },
        "id": "3j2QcMHYN9eE",
        "outputId": "7dcad5a1-9450-4440-f4a1-ef67c8218ba6"
      },
      "execution_count": null,
      "outputs": [
        {
          "output_type": "execute_result",
          "data": {
            "text/plain": [
              "((80858, 300), (80858, 300))"
            ]
          },
          "metadata": {},
          "execution_count": 30
        }
      ]
    },
    {
      "cell_type": "code",
      "source": [
        "y_pred = mainmodel.predict([X_1_test, X_2_test])"
      ],
      "metadata": {
        "id": "G39dLmVWN4vd"
      },
      "execution_count": null,
      "outputs": []
    },
    {
      "cell_type": "code",
      "source": [
        "plot_confusion_matrix(y_test, np.round(abs(y_pred)))"
      ],
      "metadata": {
        "colab": {
          "base_uri": "https://localhost:8080/",
          "height": 287
        },
        "id": "qWqhb4B2OSAR",
        "outputId": "9bdf3c99-cfa3-4d92-8c60-7ac51666b9d0"
      },
      "execution_count": null,
      "outputs": [
        {
          "output_type": "display_data",
          "data": {
            "text/plain": [
              "<Figure size 1440x288 with 6 Axes>"
            ],
            "image/png": "[encoded data removed]"
          },
          "metadata": {
            "needs_background": "light"
          }
        }
      ]
    },
    {
      "cell_type": "code",
      "source": [
        "print_modelpred_metrics(y_test,y_pred)"
      ],
      "metadata": {
        "colab": {
          "base_uri": "https://localhost:8080/"
        },
        "id": "6m-0aN80OXYy",
        "outputId": "2795991b-dff0-4dfa-e924-7cea4030c04a"
      },
      "execution_count": null,
      "outputs": [
        {
          "output_type": "stream",
          "name": "stdout",
          "text": [
            "Accuracy:   0.8099260431868214\n",
            "F1 score:   0.7473990434396726\n",
            "Recall:     0.7613514599517814\n",
            "Precision:  0.7339488040285355\n",
            "\n",
            "clasification report:\n",
            "\n",
            "               precision    recall  f1-score   support\n",
            "\n",
            "           0       0.86      0.84      0.85     50994\n",
            "           1       0.73      0.76      0.75     29864\n",
            "\n",
            "    accuracy                           0.81     80858\n",
            "   macro avg       0.80      0.80      0.80     80858\n",
            "weighted avg       0.81      0.81      0.81     80858\n",
            "\n",
            "\n",
            " confusion matrix:\n",
            "\n",
            " [[42752  8242]\n",
            " [ 7127 22737]]\n"
          ]
        }
      ]
    },
    {
      "cell_type": "code",
      "source": [
        "y_test1 = y_test.copy()\n",
        "y_test1['pred_prob'] = y_pred\n",
        "y_test1['rounded_pred'] = np.round(abs(y_pred))\n",
        "mergedf = pd.merge(train_data[['question1','question2']], y_test1, left_index = True, right_index = True)\n",
        "mergedf.to_csv('qqp_tfidf_word2vec_predicted_output.csv')"
      ],
      "metadata": {
        "id": "tVZe2uj5cwWe"
      },
      "execution_count": null,
      "outputs": []
    }
  ]
}